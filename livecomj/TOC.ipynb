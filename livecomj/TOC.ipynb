{
 "cells": [
  {
   "cell_type": "code",
   "execution_count": null,
   "id": "6b7673ed",
   "metadata": {},
   "outputs": [],
   "source": [
    "import dmol\n",
    "import networkx as nx\n",
    "import rdkit, rdkit.Chem, rdkit.Chem.rdDepictor, rdkit.Chem.Draw\n",
    "import networkx as nx\n",
    "import numpy as np\n",
    "import random\n",
    "import matplotlib.pyplot as plt\n",
    "from networkx.drawing.nx_agraph import pygraphviz_layout\n",
    "import requests\n",
    "import time"
   ]
  },
  {
   "cell_type": "code",
   "execution_count": null,
   "id": "5b395ff0",
   "metadata": {},
   "outputs": [],
   "source": [
    "def custom_layout(G, prog, ratio, args):\n",
    "    import pygraphviz\n",
    "\n",
    "    A = nx.nx_agraph.to_agraph(G)\n",
    "    A.layout(prog=prog, args=args)\n",
    "    A.graph_attr.update(size=2.1)\n",
    "    node_pos = {}\n",
    "    for n in G:\n",
    "        node = pygraphviz.Node(A, n)\n",
    "        try:\n",
    "            xs = node.attr[\"pos\"].split(\",\")\n",
    "            node_pos[n] = tuple(float(x) for x in xs)\n",
    "        except:\n",
    "            print(\"no position for node\", n)\n",
    "            node_pos[n] = (0.0, 0.0)\n",
    "    return node_pos"
   ]
  },
  {
   "cell_type": "code",
   "execution_count": null,
   "id": "cd71193f",
   "metadata": {},
   "outputs": [],
   "source": [
    "def random_compound(n=10, filter_length=100):\n",
    "    cids = np.random.choice(10**8, size=10).astype(str)\n",
    "    s = \",\".join(cids)\n",
    "    url = f\"https://pubchem.ncbi.nlm.nih.gov/rest/pug/compound/cid/{s}/property/IUPACName,CanonicalSMILES/JSON\"\n",
    "    try:\n",
    "        reply = requests.get(\n",
    "            url,\n",
    "            params={\"Threshold\": 90, \"MaxRecords\": 1},\n",
    "            headers={\"accept\": \"text/json\"},\n",
    "            timeout=10,\n",
    "        )\n",
    "    except requests.exceptions.Timeout:\n",
    "        print(\"Pubchem seems to be down right now ️☠️☠️\")\n",
    "        return []\n",
    "    data = []\n",
    "    for i in range(n):\n",
    "        try:\n",
    "            smi, name = (\n",
    "                reply.json()[\"PropertyTable\"][\"Properties\"][i][\"CanonicalSMILES\"],\n",
    "                reply.json()[\"PropertyTable\"][\"Properties\"][i][\"IUPACName\"],\n",
    "            )\n",
    "            if len(name) < filter_length and \".\" not in smi:\n",
    "                data.append((smi, name))\n",
    "        except KeyError as e:\n",
    "            continue\n",
    "    return data"
   ]
  },
  {
   "cell_type": "code",
   "execution_count": null,
   "id": "0671ef1c",
   "metadata": {},
   "outputs": [],
   "source": [
    "elements = set()\n",
    "elements.add(6)\n",
    "\n",
    "\n",
    "def smiles2graph(sml):\n",
    "    m = rdkit.Chem.MolFromSmiles(sml)\n",
    "    if m is None:\n",
    "        return None\n",
    "    # m = rdkit.Chem.AddHs(m)\n",
    "    G = nx.Graph()\n",
    "    for a in m.GetAtoms():\n",
    "        elements.add(a.GetAtomicNum())\n",
    "        G.add_node(a.GetIdx(), element=a.GetAtomicNum())\n",
    "    for j in m.GetBonds():\n",
    "        u = j.GetBeginAtomIdx()\n",
    "        v = j.GetEndAtomIdx()\n",
    "        G.add_edge(u, v)\n",
    "    return G"
   ]
  },
  {
   "cell_type": "code",
   "execution_count": null,
   "id": "c3d1f287",
   "metadata": {},
   "outputs": [],
   "source": [
    "examples = []"
   ]
  },
  {
   "cell_type": "code",
   "execution_count": null,
   "id": "228dd41d",
   "metadata": {},
   "outputs": [],
   "source": [
    "N = 1000\n",
    "while len(examples) < N:\n",
    "    examples.extend(random_compound())\n",
    "    print(len(examples), end=\",\")\n",
    "    time.sleep(0.2)"
   ]
  },
  {
   "cell_type": "code",
   "execution_count": null,
   "id": "9cf7ad8a",
   "metadata": {},
   "outputs": [],
   "source": [
    "G = None\n",
    "for smi, _ in examples[:25]:\n",
    "    g = smiles2graph(smi)\n",
    "    if g is None:\n",
    "        continue\n",
    "    if G is None:\n",
    "        G = g\n",
    "    else:\n",
    "        G = nx.disjoint_union(g, G)"
   ]
  },
  {
   "cell_type": "code",
   "execution_count": null,
   "id": "068c0b12",
   "metadata": {},
   "outputs": [],
   "source": [
    "lelements = list(elements)\n",
    "lelements.sort()\n",
    "lelements.remove(6)\n",
    "lelements.insert(0, 6)\n",
    "lelements"
   ]
  },
  {
   "cell_type": "code",
   "execution_count": null,
   "id": "e0f2eb3c",
   "metadata": {},
   "outputs": [],
   "source": [
    "ed = {k: i for i, k in enumerate(lelements)}\n",
    "c = [f'C{ed[d[\"element\"]]}' for n, d in G.nodes(data=True)]\n",
    "fig = plt.figure(1, figsize=(15, 5))\n",
    "pos = custom_layout(G, prog=\"dot\", ratio=1.5, args=\"-Gmaxiter=5000\")\n",
    "# pos = nx.layout.spring_layout(G, iterations=100)\n",
    "nx.draw(G, pos, node_size=5, node_color=c)\n",
    "ax = plt.gca()\n",
    "ax.set_facecolor(\"#f5f4e9\")\n",
    "ax.axis(\"off\")\n",
    "fig.set_facecolor(\"#f5f4e9\")\n",
    "plt.tight_layout()\n",
    "plt.savefig(\"mols.png\")"
   ]
  },
  {
   "cell_type": "code",
   "execution_count": null,
   "id": "e9b82bb5",
   "metadata": {},
   "outputs": [],
   "source": [
    "max([pos[i][0] for i in range(len(pos))]), max([pos[i][1] for i in range(len(pos))])"
   ]
  }
 ],
 "metadata": {
  "kernelspec": {
   "display_name": "Python 3",
   "language": "python",
   "name": "python3"
  },
  "language_info": {
   "codemirror_mode": {
    "name": "ipython",
    "version": 3
   },
   "file_extension": ".py",
   "mimetype": "text/x-python",
   "name": "python",
   "nbconvert_exporter": "python",
   "pygments_lexer": "ipython3",
   "version": "3.8.12"
  }
 },
 "nbformat": 4,
 "nbformat_minor": 5
}
