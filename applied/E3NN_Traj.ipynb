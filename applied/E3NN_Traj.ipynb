{
  "cells": [
    {
      "cell_type": "markdown",
      "metadata": {
        "id": "TDHJMVqgha5a"
      },
      "source": [
        "# Equivariant Neural Network for Predicting Trajectories"
      ]
    },
    {
      "cell_type": "markdown",
      "metadata": {
        "id": "Foy9ZA_f6MZu"
      },
      "source": [
        "In this example, we will train an equivariant neural network to predict the next frame in the trajectory alignment example (10.6). As stated in 10.3.8, for time-dependent trajectories, we do not need to concern ourselves with permutation equivariance because it is implied that the order of the points does not change. Thus, we can treat this example as a simple set of coordinates in 3D space, meaning that any deep learning model that we train on this data should have rotation, mirror/parity, and translation equivariance. In other words, our model should be O(3) equivariant. E3NN {cite}`e3nn` is a library built to create equivariant neural networks for the this group, so it's a great choice for this problem.\n",
        "\n",
        "We will use the trajectory data from that example to train our network."
      ]
    },
    {
      "cell_type": "markdown",
      "metadata": {
        "id": "0CzF_Lh_mfBb"
      },
      "source": [
        "## Retrieving Data from Trajectory Alignment Example\n",
        "\n",
        "---\n",
        "\n"
      ]
    },
    {
      "cell_type": "markdown",
      "metadata": {
        "id": "maitjJ0J8FkZ"
      },
      "source": [
        "First, let's use the same imports and visualization used in Chapter 10 to download our data and view the first frame. "
      ]
    },
    {
      "cell_type": "code",
      "execution_count": 8,
      "metadata": {
        "id": "Ix1niSUbhrKl"
      },
      "outputs": [],
      "source": [
        "import matplotlib.pyplot as plt\n",
        "import urllib\n",
        "import urllib.request\n",
        "import numpy as np\n",
        "import jax\n",
        "import jax.numpy as jnp"
      ]
    },
    {
      "cell_type": "code",
      "execution_count": 9,
      "metadata": {
        "colab": {
          "base_uri": "https://localhost:8080/",
          "height": 268
        },
        "id": "OYD-Y4Ihhuw2",
        "outputId": "32223c39-02e2-4ced-959c-860b5f81876f"
      },
      "outputs": [
        {
          "output_type": "display_data",
          "data": {
            "text/plain": [
              "<Figure size 432x288 with 1 Axes>"
            ],
            "image/png": "[encoded data removed]"
          },
          "metadata": {}
        }
      ],
      "source": [
        "urllib.request.urlretrieve(\n",
        "    \"https://github.com/whitead/dmol-book/raw/master/data/paths.npz\", \"paths.npz\"\n",
        ")\n",
        "paths = np.load(\"paths.npz\")[\"arr\"]\n",
        "# plot the first point\n",
        "plt.title(\"First Frame\")\n",
        "plt.plot(paths[0, :, 0], paths[0, :, 1], \"o-\")\n",
        "plt.xticks([])\n",
        "plt.yticks([])\n",
        "plt.show()"
      ]
    },
    {
      "cell_type": "markdown",
      "metadata": {
        "id": "yYGRiXdsqukN"
      },
      "source": [
        "## Additional Installations and Imports\n",
        "\n",
        "The following cells set up some additional installations we need. These may take some time. "
      ]
    },
    {
      "cell_type": "code",
      "execution_count": null,
      "metadata": {
        "id": "W_JUIBvhk6-m"
      },
      "outputs": [],
      "source": [
        "pip install torch torchvision"
      ]
    },
    {
      "cell_type": "code",
      "execution_count": null,
      "metadata": {
        "id": "xbtnVVJ7ih3c"
      },
      "outputs": [],
      "source": [
        "pip install torch-scatter -f https://data.pyg.org/whl/torch-1.10.0+${111}.html"
      ]
    },
    {
      "cell_type": "code",
      "execution_count": null,
      "metadata": {
        "id": "Wqb68H3GtpNv"
      },
      "outputs": [],
      "source": [
        "pip install torch-cluster"
      ]
    },
    {
      "cell_type": "code",
      "execution_count": null,
      "metadata": {
        "id": "Dlx4WX-oi3nP"
      },
      "outputs": [],
      "source": [
        "pip install torch-sparse -f https://data.pyg.org/whl/torch-1.10.0+${CUDA}.html"
      ]
    },
    {
      "cell_type": "code",
      "execution_count": null,
      "metadata": {
        "id": "_23TMFVei60v"
      },
      "outputs": [],
      "source": [
        "pip install torch-geometric"
      ]
    },
    {
      "cell_type": "code",
      "execution_count": null,
      "metadata": {
        "id": "GGV_C9JMi_-K"
      },
      "outputs": [],
      "source": [
        "pip install e3nn"
      ]
    },
    {
      "cell_type": "code",
      "execution_count": 7,
      "metadata": {
        "id": "HCMPyneStz1J"
      },
      "outputs": [],
      "source": [
        "#additional imports\n",
        "import torch_geometric\n",
        "from torch_geometric.data import Data, Dataset, DataLoader\n",
        "import torch\n",
        "import e3nn\n",
        "import math\n",
        "from e3nn.nn.models.gate_points_2101 import Network\n",
        "from e3nn import o3"
      ]
    },
    {
      "cell_type": "markdown",
      "metadata": {
        "id": "LM7b2GuBtREx"
      },
      "source": [
        "## Baseline Model"
      ]
    },
    {
      "cell_type": "markdown",
      "metadata": {
        "id": "bWClrr7YtUKB"
      },
      "source": [
        "Before we build our E3NN network, it's always a good idea to build a baseline model for comparision. "
      ]
    },
    {
      "cell_type": "code",
      "execution_count": 10,
      "metadata": {
        "id": "6yBv8SVXnO-g"
      },
      "outputs": [],
      "source": [
        "def mse(y, yhat):\n",
        "  return (np.mean((yhat - y)**2))"
      ]
    },
    {
      "cell_type": "markdown",
      "metadata": {
        "id": "tS5-BvF3jvQb"
      },
      "source": [
        "First, let's discuss what the input and output should be for this model. The input should be the coordinates of the 12 points: one frame. What should the output be? We want to train a neural network to predict the next trajectory for each point, the next frame, so our output should actually be the same type as our input.\n",
        "\n",
        "Thus,\n",
        "\n",
        "**Inputs:**\n",
        "* 12 sets of coordinates\n",
        "\n",
        "**Outputs:**\n",
        "* 12 sets of coordinates\n",
        "\n",
        "Note: since we are trying to build an O(3)-equivariant neural network, which should be equivariant to transformations in 3D space, we need to make these coordinates 3D. This is easy, we will just put zero for the z-coordiantes. We'll do this now."
      ]
    },
    {
      "cell_type": "code",
      "execution_count": 11,
      "metadata": {
        "id": "ZqUhDfvZjrSY"
      },
      "outputs": [],
      "source": [
        "traj_3d = np.array([])\n",
        "for i in range(2048):\n",
        "    for j in range(12):\n",
        "        TBA = paths[i][j]\n",
        "        TBA = np.append(TBA, np.array([0.00,]))\n",
        "        traj_3d = np.append(traj_3d, TBA)\n",
        "\n",
        "traj_3d = traj_3d.reshape(2048,12,3)"
      ]
    },
    {
      "cell_type": "markdown",
      "metadata": {
        "id": "AsEANrCelJcm"
      },
      "source": [
        "Interestingly, for this example, we want our prediction from one frame to match the following frame. So our features and labels will be nearly identical, offset by one.\n",
        "\n",
        "For the features, we want to include everything except for the final frame, which has no \"next frame\" in our data. We can extrapolate with our model to predict this \"next frame\" as a final step if we want. \n",
        "\n",
        "For our lables, we want to include everything except for the first step, which is not the \"next frame\" of anything in our data. \n",
        "\n",
        "We can also go ahead and split our data into training and testing sets. \n",
        "\n",
        "Let's do approximately an 80:20 split here.\n",
        "We want to make sure not to shuffle our data, as we are predicting time-series data."
      ]
    },
    {
      "cell_type": "code",
      "execution_count": 12,
      "metadata": {
        "id": "SYkPIqO5lMUS"
      },
      "outputs": [],
      "source": [
        "features = traj_3d[:-1]\n",
        "labels = traj_3d[1:]\n",
        "\n",
        "#split data 80:20\n",
        "training_set = features[:1637]\n",
        "training_labels = labels[:1637]\n",
        "valid_set = features[1637:]\n",
        "valid_labels = labels[1637:]\n",
        "\n",
        "#convert to jnp arrays\n",
        "training_setbl = jnp.asarray(training_set)\n",
        "training_labelsbl = jnp.asarray(training_labels)\n",
        "\n",
        "valid_setbl = jnp.asarray(valid_set)\n",
        "valid_labelsbl= jnp.asarray(valid_labels)"
      ]
    },
    {
      "cell_type": "markdown",
      "metadata": {
        "id": "3-L0ZAiylQke"
      },
      "source": [
        "Let's check to make sure our data matches up. Frame 2 in the features set should be the same as Frame 1 in the labels set."
      ]
    },
    {
      "cell_type": "code",
      "execution_count": 13,
      "metadata": {
        "id": "viwGHptQlQEP",
        "colab": {
          "base_uri": "https://localhost:8080/"
        },
        "outputId": "9bfc6602-315a-4e7f-fdfc-f7de7e603155"
      },
      "outputs": [
        {
          "output_type": "stream",
          "name": "stdout",
          "text": [
            "features, frame 2: \n",
            " [[26.025177    6.05798388  0.        ]\n",
            " [26.11893272  6.39596176  0.        ]\n",
            " [25.65973854  6.70887423  0.        ]\n",
            " [25.43806076  7.01624107  0.        ]\n",
            " [25.72443008  7.21862507  0.        ]\n",
            " [26.15545464  7.12054539  0.        ]\n",
            " [26.21587372  6.8746376   0.        ]\n",
            " [26.44245338  6.56649923  0.        ]\n",
            " [26.94106674  6.65956831  0.        ]\n",
            " [26.99314117  6.26608562  0.        ]\n",
            " [27.36512375  6.04643583  0.        ]\n",
            " [27.05812454  5.77885437  0.        ]]\n",
            "labels, frame 1: \n",
            " [[26.025177    6.05798388  0.        ]\n",
            " [26.11893272  6.39596176  0.        ]\n",
            " [25.65973854  6.70887423  0.        ]\n",
            " [25.43806076  7.01624107  0.        ]\n",
            " [25.72443008  7.21862507  0.        ]\n",
            " [26.15545464  7.12054539  0.        ]\n",
            " [26.21587372  6.8746376   0.        ]\n",
            " [26.44245338  6.56649923  0.        ]\n",
            " [26.94106674  6.65956831  0.        ]\n",
            " [26.99314117  6.26608562  0.        ]\n",
            " [27.36512375  6.04643583  0.        ]\n",
            " [27.05812454  5.77885437  0.        ]]\n",
            "success! they match!\n"
          ]
        }
      ],
      "source": [
        "print (\"features, frame 2: \\n\", features[1])\n",
        "print (\"labels, frame 1: \\n\", labels[0])\n",
        "if mse(features[1], labels[0]) == 0:\n",
        "  print (\"success! they match!\")\n",
        "else: \n",
        "  print (mse(features[1], labels[0]))"
      ]
    },
    {
      "cell_type": "markdown",
      "metadata": {
        "id": "l1zkI8WylWKp"
      },
      "source": [
        "Great, they match! Now we are ready to build our baseline model!\n"
      ]
    },
    {
      "cell_type": "code",
      "execution_count": 14,
      "metadata": {
        "id": "knROsKpMPq9G"
      },
      "outputs": [],
      "source": [
        "@jax.jit\n",
        "def baseline_model(inputs, w, b):\n",
        "    yhat = inputs @ w + b\n",
        "    return yhat\n",
        "\n",
        "\n",
        "def baseline_loss(inputs, y, w, b):\n",
        "  return mse(y, baseline_model(inputs,w,b))\n",
        "\n",
        "bl_loss_grad = jax.grad(baseline_loss, (2,3))\n",
        "\n",
        "w = np.zeros((3,3))\n",
        "w = jnp.asarray(w)\n",
        "b = 0.0"
      ]
    },
    {
      "cell_type": "code",
      "execution_count": 15,
      "metadata": {
        "id": "gwVTp4xqP6ox",
        "colab": {
          "base_uri": "https://localhost:8080/",
          "height": 280
        },
        "outputId": "feb93ec4-eaef-40ba-a0c6-2c2838f70dd5"
      },
      "outputs": [
        {
          "output_type": "display_data",
          "data": {
            "text/plain": [
              "<Figure size 432x288 with 1 Axes>"
            ],
            "image/png": "[encoded data removed]"
          },
          "metadata": {
            "needs_background": "light"
          }
        }
      ],
      "source": [
        "epochs = 16\n",
        "eta = 1e-3\n",
        "\n",
        "baseline_val_loss = [0.0 for _ in range(epochs)]\n",
        "\n",
        "for epoch in range(epochs):\n",
        "    for d in range(1637):\n",
        "        inputs = training_setbl[d]\n",
        "        y = training_labelsbl[d]\n",
        "        grad_bl = bl_loss_grad(inputs, y, w, b)\n",
        "        #update w & b\n",
        "        w -= eta * grad_bl[0]\n",
        "        b -= eta * grad_bl[1]\n",
        "\n",
        "    for i in range(410):\n",
        "        inputs_v = valid_setbl[i]\n",
        "        y_v = valid_labelsbl[i]\n",
        "        baseline_val_loss[epoch] += baseline_loss(inputs_v, y_v, w, b)\n",
        "    baseline_val_loss[epoch] = jnp.sqrt(baseline_val_loss[epoch]/410)\n",
        "    eta *= 0.9\n",
        "\n",
        "\n",
        "plt.plot(baseline_val_loss)\n",
        "plt.xlabel(\"Epoch\")\n",
        "plt.ylabel(\"Val Loss\")\n",
        "plt.show()"
      ]
    },
    {
      "cell_type": "markdown",
      "metadata": {
        "id": "gcsLpaa-9_og"
      },
      "source": [
        "Now let's view a parity plot to see if we're learning the right trend here."
      ]
    },
    {
      "cell_type": "code",
      "execution_count": 16,
      "metadata": {
        "id": "dTkdDKk_95oM",
        "colab": {
          "base_uri": "https://localhost:8080/",
          "height": 280
        },
        "outputId": "9b1904f3-4198-4b38-ad36-698d4a74eb5a"
      },
      "outputs": [
        {
          "output_type": "display_data",
          "data": {
            "text/plain": [
              "<Figure size 432x288 with 1 Axes>"
            ],
            "image/png": "[encoded data removed]"
          },
          "metadata": {
            "needs_background": "light"
          }
        }
      ],
      "source": [
        "ys = jnp.array([])\n",
        "yhats = jnp.array([])\n",
        "\n",
        "for i in range(205):\n",
        "    inputs_v = valid_setbl[i]\n",
        "    ys = jnp.append(ys, valid_labelsbl[i])\n",
        "    yhat = baseline_model(inputs_v,w,b)\n",
        "    yhats = jnp.append(yhats, yhat)\n",
        "\n",
        "plt.plot(ys, ys, \"-\")\n",
        "plt.plot(ys, yhats, \".\")\n",
        "plt.xlabel(\"Trajectory\")\n",
        "plt.ylabel(\"Predicted Trajectory\")\n",
        "plt.show()"
      ]
    },
    {
      "cell_type": "markdown",
      "metadata": {
        "id": "D_XufdCT-SrP"
      },
      "source": [
        "This is difficult to read, since our xyz coordinates are very different in magnitude. Instead, let's look at three plots, one for each coordinate. "
      ]
    },
    {
      "cell_type": "code",
      "execution_count": 17,
      "metadata": {
        "id": "tR4cM9EA-dSY",
        "colab": {
          "base_uri": "https://localhost:8080/",
          "height": 806
        },
        "outputId": "d1c616b7-8540-4c0c-f14a-e7ae8fb76a7e"
      },
      "outputs": [
        {
          "output_type": "display_data",
          "data": {
            "text/plain": [
              "<Figure size 432x288 with 1 Axes>"
            ],
            "image/png": "[encoded data removed]"
          },
          "metadata": {
            "needs_background": "light"
          }
        },
        {
          "output_type": "display_data",
          "data": {
            "text/plain": [
              "<Figure size 432x288 with 1 Axes>"
            ],
            "image/png": "[encoded data removed]"
          },
          "metadata": {
            "needs_background": "light"
          }
        },
        {
          "output_type": "display_data",
          "data": {
            "text/plain": [
              "<Figure size 432x288 with 1 Axes>"
            ],
            "image/png": "[encoded data removed]"
          },
          "metadata": {
            "needs_background": "light"
          }
        }
      ],
      "source": [
        "ys_x = jnp.array([])\n",
        "ys_y = jnp.array([])\n",
        "ys_z = jnp.array([])\n",
        "yh_x = jnp.array([])\n",
        "yh_y = jnp.array([])\n",
        "yh_z = jnp.array([])\n",
        "\n",
        "for i in range(205):\n",
        "    inputs_v = valid_setbl[i]\n",
        "    y = valid_labelsbl[i]\n",
        "    yhat = baseline_model(inputs_v, w,b)\n",
        "    \n",
        "    ys_x = jnp.append(ys_x, y[i][0])\n",
        "    ys_y = jnp.append(ys_y, y[i][1])\n",
        "    ys_z = jnp.append(ys_z, y[i][2])\n",
        "    \n",
        "    yh_x = jnp.append(yh_x, yhat[i][0])\n",
        "    yh_y = jnp.append(yh_y, yhat[i][1])\n",
        "    yh_z = jnp.append(yh_z, yhat[i][2])\n",
        "\n",
        "plt.plot(ys_x, ys_x, \"-\")\n",
        "plt.plot(ys_x, yh_x, \".\")\n",
        "plt.xlabel(\"X-Coordinate of Trajectory\")\n",
        "plt.ylabel(\"X-Coordinate of Predicted Trajectory\")\n",
        "plt.show()\n",
        "\n",
        "plt.plot(ys_y, ys_y, \"-\")\n",
        "plt.plot(ys_y, yh_y, \".\")\n",
        "plt.xlabel(\"Y-Coordinate of Trajectory\")\n",
        "plt.ylabel(\"Y-Coordinate of Predicted Trajectory\")\n",
        "plt.show()\n",
        "\n",
        "plt.plot(ys_z, ys_z, \"-\")\n",
        "plt.plot(ys_z, yh_z, \".\")\n",
        "plt.xlabel(\"Z-Coordinate of Trajectory\")\n",
        "plt.ylabel(\"Z-Coordinate of Predicted Trajectory\")\n",
        "plt.show()"
      ]
    },
    {
      "cell_type": "markdown",
      "metadata": {
        "id": "NouYVoRS-y_v"
      },
      "source": [
        "It looks like we're starting to get the right trend! However, as stated, we want any model that uses this data to be equivariant in 3D space. Let's check the equivariances now."
      ]
    },
    {
      "cell_type": "code",
      "execution_count": 18,
      "metadata": {
        "id": "qRezFDFVCqEZ",
        "colab": {
          "base_uri": "https://localhost:8080/"
        },
        "outputId": "b0b0a5ad-f8da-4ed1-fbbf-bd553214b42b"
      },
      "outputs": [
        {
          "output_type": "stream",
          "name": "stdout",
          "text": [
            "rotated first: \n",
            " [[ 5.0251517   2.7813923   0.29920053]\n",
            " [ 0.63903624  3.6262     -2.5190804 ]\n",
            " [-2.1388927   0.38203487 -3.3772705 ]\n",
            " [-0.26772738 -1.7997451   2.8343687 ]\n",
            " [-4.0527725  -0.82326746  0.31098452]\n",
            " [ 3.6362271  -1.6708347  -0.5624304 ]\n",
            " [-5.9493113  -0.7663736  -2.4192343 ]\n",
            " [ 5.1060705   1.4037013   1.5248324 ]\n",
            " [-2.073011   -3.2542696  -0.2813585 ]\n",
            " [ 0.82716596  2.7834308   0.47471258]\n",
            " [ 3.688524    4.507123    5.9960957 ]\n",
            " [ 0.2968478   0.49306753 -3.805884  ]]\n",
            "rotated last: \n",
            " [[-7.8030533e-01  1.0609260e+00  2.6283855e+00]\n",
            " [-6.4160986e+00 -8.4635687e-01  2.0598526e+00]\n",
            " [-5.7969499e+00 -3.3940261e-03 -1.0016966e+00]\n",
            " [ 5.6260061e+00 -3.0706927e-01 -4.7199702e-01]\n",
            " [ 4.4128737e-01 -2.0731218e+00 -7.9641318e-01]\n",
            " [ 9.3761075e-01  3.5382442e+00 -1.3177998e+00]\n",
            " [-4.0889173e+00 -1.9979175e+00 -1.8155043e+00]\n",
            " [ 2.1214354e+00  1.4478080e+00  1.9576374e+00]\n",
            " [ 1.6252856e+00  9.9255562e-01 -2.8293657e+00]\n",
            " [-1.1763276e+00 -1.5614860e+00  2.4394188e+00]\n",
            " [ 6.4850540e+00 -3.5089128e+00  5.9133644e+00]\n",
            " [-6.1506629e+00  1.5953901e+00 -9.1606903e-01]]\n",
            "\u001b[1mdifference: \u001b[0m 12.791497\n"
          ]
        }
      ],
      "source": [
        "#checking for rotation equivariance\n",
        "import scipy.spatial.transform as trans\n",
        "\n",
        "#rotate around x coordinate by 80 degrees\n",
        "rot = trans.Rotation.from_euler(\"x\", 80, degrees=True)\n",
        "\n",
        "input_point = jnp.asarray(np.random.normal(size=(12,3)))\n",
        "w_test1 = jnp.asarray(np.random.normal(size=(3,3)))\n",
        "\n",
        "input_rot = rot.apply(input_point)\n",
        "output_1 = baseline_model(input_rot, w_test1, b)\n",
        "output_prerot = baseline_model(input_point, w_test1, b)\n",
        "output_rot = []\n",
        "for xyz in output_prerot:\n",
        "  coord = rot.apply(xyz)\n",
        "  output_rot.append(coord)\n",
        "output_rot = jnp.array(output_rot)\n",
        "\n",
        "print (\"rotated first: \\n\", output_1)\n",
        "print (\"rotated last: \\n\", output_rot)\n",
        "print (\"\\033[1m\" + \"difference: \" + \"\\033[0m\", mse(output_1, output_rot))"
      ]
    },
    {
      "cell_type": "markdown",
      "metadata": {
        "id": "4wL-4mgCFQMU"
      },
      "source": [
        "So it doesn't look like our baseline model is rotation-equivariant. This is important, because we if we give our model coordinates that are rotated, we expect the output should be rotated by the same degree. Likewise, we need translation equivariance. Let's check that now."
      ]
    },
    {
      "cell_type": "code",
      "execution_count": 19,
      "metadata": {
        "id": "N_Fg_KHyFm2q",
        "colab": {
          "base_uri": "https://localhost:8080/"
        },
        "outputId": "e4408082-65ee-49cc-c6c8-93d795bcb74f"
      },
      "outputs": [
        {
          "output_type": "stream",
          "name": "stdout",
          "text": [
            "translated first:  [[ 2.7451873e+00 -1.8572230e-02 -1.3496170e+00]\n",
            " [-8.1664820e+00  2.3945546e+00  1.3892057e+00]\n",
            " [-6.0934772e+00 -1.9361558e+00 -2.1849427e+00]\n",
            " [ 4.0391836e+00  2.1432754e-01  8.2267731e-01]\n",
            " [-5.5254955e+00 -2.8945928e+00 -3.1790211e+00]\n",
            " [ 2.7370834e+00  2.2255595e+00 -1.3148420e+00]\n",
            " [-2.2978559e+00 -5.3900213e+00  4.8541136e+00]\n",
            " [ 7.8983107e+00  2.1562774e+00 -7.7389872e-01]\n",
            " [ 3.9651284e+00 -1.9591706e+00 -3.6098623e+00]\n",
            " [ 3.2247267e+00  4.0120797e+00  7.0996065e+00]\n",
            " [ 3.8329530e+00  6.9298263e+00  4.4144797e+00]\n",
            " [-5.0462136e+00  1.7369661e+00 -3.1356178e-03]]\n",
            "translated last:  [[-2.1955729   1.1449147  -1.1963181 ]\n",
            " [-6.1197376   2.5304816   1.2635794 ]\n",
            " [-6.5166807  -1.1317943   0.36203322]\n",
            " [ 6.0768194   0.13205928  0.19751844]\n",
            " [-0.9670224   0.24906111  3.406692  ]\n",
            " [ 2.529489   -0.6556713  -3.7028525 ]\n",
            " [-5.0408444  -3.1551719  -0.85381234]\n",
            " [ 2.0181108   0.36469042 -1.1543138 ]\n",
            " [ 1.5155025  -3.3137982  -0.28292644]\n",
            " [ 0.33587432  1.2564595   0.45962143]\n",
            " [ 7.2828407   6.348543    5.0814075 ]\n",
            " [-4.883838   -0.4980114  -1.6310358 ]]\n",
            "\u001b[1mdifference: \u001b[0m 8.674283\n"
          ]
        }
      ],
      "source": [
        "#checking for translation equivariance\n",
        "random_trans = jnp.asarray(np.random.normal(size=(12,3)))\n",
        "\n",
        "input_trans = input_point + random_trans\n",
        "output_2 = baseline_model(input_trans, w_test1, b)\n",
        "output_trans = random_trans + baseline_model(input_point, w_test1, b)\n",
        "\n",
        "print (\"translated first: \", output_2)\n",
        "print (\"translated last: \", output_trans)\n",
        "print (\"\\033[1m\" + \"difference: \" + \"\\033[0m\", mse(output_2, output_trans))"
      ]
    },
    {
      "cell_type": "markdown",
      "metadata": {
        "id": "sYCwyP87GtrB"
      },
      "source": [
        "As expected, our model isn't translation equviariant either. I won't prove that we don't have parity/inversion equivariance, but you should expect that this baseline model will not have any spatial equivariance. \n",
        "\n",
        "We can solve this problem many ways. One way is to augment our data in order to teach our model equivariance. This requires more training and data storage, so let's look at a more compact approach."
      ]
    },
    {
      "cell_type": "markdown",
      "metadata": {
        "id": "T7WKHiYthx86"
      },
      "source": [
        "## E3NN Basics"
      ]
    },
    {
      "cell_type": "markdown",
      "metadata": {
        "id": "jQIgZvoEjs3Q"
      },
      "source": [
        "E3NN is a library for creating equivariant neural networks, specifically in E(3). E3NN is built for spatial equvariance in 3-D space. Specifically, this library gives us equivariance with respect to the E(3) group of rotations, inversions, and translations. As discussed before, the time-dependent trajectory's points do not change order, so we do not need to worry about permutation equivariance/invariance in this case; we only need E(3)-equivariance. E3NN is a great tool for this problem because we have 3-dimensional points in space, and if we transform them in space, we want the output to transform the same way."
      ]
    },
    {
      "cell_type": "markdown",
      "metadata": {
        "id": "pZfb8eErlXg7"
      },
      "source": [
        "E3NN works through the use of irreducible representations (irreps). In general, representations tell you how to interact with the data with repect to the group. When creating a model, we give the model the irreps so that it knows how to handle the data we will give it during trianing. It's not necessary to understand what the irreps are; instead, just know that they are the smallest representations, which are similar to, and transform the same way as, the spherical harmonics. Any (reducible) representation can be decomposed into irreducible representations. If you want to know more, you can check out more on the E3NN documentation website [@e3nn]. Let's take a look at how the irreps are used in this context. \n",
        "\n",
        "For this group, we need to find the L and d for each piece of data, where $d = 2L + 1$ (d = dimension). Look at the table below. \n",
        "\n",
        "| **parity** | **L** | **d** | **name**      |\n",
        "|------------|-------|-------|---------------|\n",
        "| even       | 0     | 1     | scalar        |\n",
        "| odd        | 0     | 1     | pseudo scalar |\n",
        "| even       | 1     | 3     | pseudo vector |\n",
        "| odd        | 1     | 3     | vector        |\n",
        "| even       | 2     | 5     |       -       |\n",
        "| odd        | 2     | 5     |       -       |\n",
        "|            |       |       |               |\n",
        "\n",
        "The general notation is **MxLp**, where M is the number, L is the L from the table above, and p corresponds to the parity (e: even, o: odd). \n",
        "\n",
        "For example, if you wanted to portray \"12 scalars, 4 vectors\" in this format, you would write **\"12x0e + 4x1o\"**. Take a minute to make sure you understand how to use this notation, as it's essential for E3NN. E3NN deals with equivariance by receiving the irreps as a model parameter. This allows the E3NN framework to know how each input feature/output transforms under symmetry, so that it can treat each piece appropriately. As a side note, the output of an E3NN model must always be of equal or higher symmetry than your input.\n",
        "\n",
        "Because E3NN is built to handle 3D spatial data, we do not need to tell the model that we are going to give it 3D coordinates; it's implicit and **required**. The irreps_in, instead, correspond to the input node features. In this example, we don't have input features, but as an example, you can imagine we could want our model to predict the next set of coordinates, given the intitial coordinates and the velocity. In that case, our irreps_in would be the velocity. If we gave our velocity as vectors, we would have **\"12x1o\"\"** as our input features. If we just gave our model the magnitude of the velocity, we would represent our input features as **\"12x0e\"**. "
      ]
    },
    {
      "cell_type": "markdown",
      "metadata": {
        "id": "Msab78GJlbrF"
      },
      "source": [
        "Since we don't have input features, we'll put \"None\" for that parameter, and we want our output to be the same shape as the input: 12 vectors. However, since we are trying to predict 12 vectors out for 12 vectors in, we only need to tell the model to predict 1 vector per input **\"1x1o\"**. Take a minute to make sure you understand why this is the case. In this case, you can think of the model recognizing 12 input vectors and predicting a vector for each. Again, E3NN expects coordinate inputs, so we don't specify this for the input."
      ]
    },
    {
      "cell_type": "markdown",
      "metadata": {
        "id": "PRq67aBWrXh0"
      },
      "source": [
        "## E3NN Model"
      ]
    },
    {
      "cell_type": "markdown",
      "metadata": {
        "id": "dx55lICsrgTH"
      },
      "source": [
        "E3NN has several models within their library, which can be found [on the E3NN github page here](https://github.com/e3nn/e3nn/tree/main/e3nn/nn/models). For this example, we will use one of these models. \n",
        "\n",
        "To use the E3NN model, we need to turn our data into a torch_geometric dataset. We'll do that now. Then we can split our data into training and testing sets.\n",
        "\n",
        "Also, instead of directly computing the next frame, we'll change it here to predict the distance to the next frame. This is a small change, but having data centered nearer zero is better for training."
      ]
    },
    {
      "cell_type": "code",
      "execution_count": 20,
      "metadata": {
        "id": "4a2CF_bbv4_N",
        "colab": {
          "base_uri": "https://localhost:8080/"
        },
        "outputId": "6fdfcb90-324c-49b5-c517-7b70a54074db"
      },
      "outputs": [
        {
          "output_type": "stream",
          "name": "stderr",
          "text": [
            "/usr/local/lib/python3.7/dist-packages/torch_geometric/deprecation.py:12: UserWarning: 'data.DataLoader' is deprecated, use 'loader.DataLoader' instead\n",
            "  warnings.warn(out)\n"
          ]
        }
      ],
      "source": [
        "feat = torch.from_numpy(features) #convert to pytorch tensors\n",
        "ys = torch.from_numpy(labels) #convert to pytorch tensors\n",
        "traj_data = []\n",
        "distances = ys - feat #compute distances to next frame\n",
        "\n",
        "\n",
        "#make torch_geometric dataset\n",
        "#we want this to be an interable list\n",
        "#x = None because we have no input features\n",
        "for frame, label in zip(feat, distances):\n",
        "  traj_data += [torch_geometric.data.Data(x = None, pos = frame.to(torch.float32), y = label.to(torch.float32))] \n",
        "\n",
        "train_split = 1637\n",
        "train_loader = torch_geometric.data.DataLoader(traj_data[:train_split], batch_size=1, shuffle=False)\n",
        "\n",
        "test_split = 1842\n",
        "test_loader = torch_geometric.data.DataLoader(traj_data[train_split:test_split], batch_size=1, shuffle=False)"
      ]
    },
    {
      "cell_type": "markdown",
      "metadata": {
        "id": "ZjVxk_cwVBX-"
      },
      "source": [
        "Great! Now we're ready to define our model. Since this is a pre-built model in E3NN, so we just need to import it and define the model parameters. Note that the state of this model will save automatically, so you will need to reinitialize the model every time you want to start training. "
      ]
    },
    {
      "cell_type": "code",
      "execution_count": 25,
      "metadata": {
        "id": "FcptjZtGB4Oc"
      },
      "outputs": [],
      "source": [
        "from e3nn.nn.models.gate_points_2101 import Network\n",
        "from e3nn import o3\n",
        "\n",
        "model_kwargs = {\n",
        "    \"irreps_in\": None, #no input features\n",
        "    \"irreps_hidden\": o3.Irreps(\"5x0e + 5x0o + 5x1e + 5x1o\"), #hyperparameter\n",
        "    \"irreps_out\": \"1x1o\", #12 vectors out, but only 1 vector out per input\n",
        "    \"irreps_node_attr\": None, \n",
        "    \"irreps_edge_attr\": o3.Irreps.spherical_harmonics(3), \n",
        "    \"layers\": 3, #hyperparameter\n",
        "    \"max_radius\": 3.5,\n",
        "    \"number_of_basis\": 10,\n",
        "    \"radial_layers\": 1,\n",
        "    \"radial_neurons\": 128,\n",
        "    \"num_neighbors\": 11, #average number of neighbors w/in max_radius\n",
        "    \"num_nodes\": 12, #not important unless reduce_output is True\n",
        "    \"reduce_output\": False, #setting this to true would give us one scalar as an output.\n",
        "}\n",
        "\n",
        "model = Network(**model_kwargs) #initializing model with parameters above"
      ]
    },
    {
      "cell_type": "code",
      "execution_count": 26,
      "metadata": {
        "id": "T7UOAxB7xcFE",
        "colab": {
          "base_uri": "https://localhost:8080/"
        },
        "outputId": "83c57350-6801-409b-daa3-0cbd2a91ee7a"
      },
      "outputs": [
        {
          "output_type": "execute_result",
          "data": {
            "text/plain": [
              "Network(\n",
              "  (layers): ModuleList(\n",
              "    (0): Compose(\n",
              "      (first): Convolution(\n",
              "        (sc): FullyConnectedTensorProduct(1x0e x 1x0e -> 10x0e+5x1o | 10 paths | 10 weights)\n",
              "        (lin1): FullyConnectedTensorProduct(1x0e x 1x0e -> 1x0e | 1 paths | 1 weights)\n",
              "        (fc): FullyConnectedNet[10, 128, 2]\n",
              "        (tp): TensorProduct(1x0e x 1x0e+1x1o+1x2e+1x3o -> 1x0e+1x1o | 2 paths | 2 weights)\n",
              "        (lin2): FullyConnectedTensorProduct(1x0e+1x1o x 1x0e -> 10x0e+5x1o | 15 paths | 15 weights)\n",
              "      )\n",
              "      (second): Gate (10x0e+5x1o -> 5x0e+5x1o)\n",
              "    )\n",
              "    (1): Compose(\n",
              "      (first): Convolution(\n",
              "        (sc): FullyConnectedTensorProduct(5x0e+5x1o x 1x0e -> 15x0e+5x1o+5x1e | 100 paths | 100 weights)\n",
              "        (lin1): FullyConnectedTensorProduct(5x0e+5x1o x 1x0e -> 5x0e+5x1o | 50 paths | 50 weights)\n",
              "        (fc): FullyConnectedNet[10, 128, 30]\n",
              "        (tp): TensorProduct(5x0e+5x1o x 1x0e+1x1o+1x2e+1x3o -> 10x0e+15x1o+5x1e | 30 paths | 30 weights)\n",
              "        (lin2): FullyConnectedTensorProduct(10x0e+15x1o+5x1e x 1x0e -> 15x0e+5x1o+5x1e | 250 paths | 250 weights)\n",
              "      )\n",
              "      (second): Gate (15x0e+5x1o+5x1e -> 5x0e+5x1e+5x1o)\n",
              "    )\n",
              "    (2): Compose(\n",
              "      (first): Convolution(\n",
              "        (sc): FullyConnectedTensorProduct(5x0e+5x1e+5x1o x 1x0e -> 5x0o+15x0e+5x1o+5x1e | 125 paths | 125 weights)\n",
              "        (lin1): FullyConnectedTensorProduct(5x0e+5x1e+5x1o x 1x0e -> 5x0e+5x1e+5x1o | 75 paths | 75 weights)\n",
              "        (fc): FullyConnectedNet[10, 128, 50]\n",
              "        (tp): TensorProduct(5x0e+5x1e+5x1o x 1x0e+1x1o+1x2e+1x3o -> 5x0o+10x0e+20x1o+15x1e | 50 paths | 50 weights)\n",
              "        (lin2): FullyConnectedTensorProduct(5x0o+10x0e+20x1o+15x1e x 1x0e -> 5x0o+15x0e+5x1o+5x1e | 350 paths | 350 weights)\n",
              "      )\n",
              "      (second): Gate (5x0o+15x0e+5x1o+5x1e -> 5x0e+5x0o+5x1e+5x1o)\n",
              "    )\n",
              "    (3): Convolution(\n",
              "      (sc): FullyConnectedTensorProduct(5x0e+5x0o+5x1e+5x1o x 1x0e -> 1x1o | 5 paths | 5 weights)\n",
              "      (lin1): FullyConnectedTensorProduct(5x0e+5x0o+5x1e+5x1o x 1x0e -> 5x0e+5x0o+5x1e+5x1o | 100 paths | 100 weights)\n",
              "      (fc): FullyConnectedNet[10, 128, 20]\n",
              "      (tp): TensorProduct(5x0e+5x0o+5x1e+5x1o x 1x0e+1x1o+1x2e+1x3o -> 20x1o | 20 paths | 20 weights)\n",
              "      (lin2): FullyConnectedTensorProduct(20x1o x 1x0e -> 1x1o | 20 paths | 20 weights)\n",
              "    )\n",
              "  )\n",
              ")"
            ]
          },
          "metadata": {},
          "execution_count": 26
        }
      ],
      "source": [
        "import torch.optim as optim\n",
        "\n",
        "#this will print an outline of the model architecture!\n",
        "eta = 1e-9\n",
        "optimizer = torch.optim.Adam(model.parameters(), lr=eta)\n",
        "optimizer.zero_grad()\n",
        "model.to('cuda')"
      ]
    },
    {
      "cell_type": "code",
      "execution_count": 27,
      "metadata": {
        "id": "sAJAqOY-s3TZ",
        "colab": {
          "base_uri": "https://localhost:8080/"
        },
        "outputId": "d791d579-02e2-40b0-ed21-122af5e0b6d4"
      },
      "outputs": [
        {
          "output_type": "stream",
          "name": "stdout",
          "text": [
            "epoch:  1\n",
            "validation loss:  tensor(3.5497, device='cuda:0')\n",
            "training loss:  tensor(5.0360, device='cuda:0')\n",
            "\n",
            "\n",
            "epoch:  2\n",
            "validation loss:  tensor(3.5497, device='cuda:0')\n",
            "training loss:  tensor(5.0360, device='cuda:0')\n",
            "\n",
            "\n",
            "epoch:  3\n",
            "validation loss:  tensor(3.5497, device='cuda:0')\n",
            "training loss:  tensor(5.0360, device='cuda:0')\n",
            "\n",
            "\n",
            "epoch:  4\n",
            "validation loss:  tensor(3.5497, device='cuda:0')\n",
            "training loss:  tensor(5.0359, device='cuda:0')\n",
            "\n",
            "\n",
            "epoch:  5\n",
            "validation loss:  tensor(3.5496, device='cuda:0')\n",
            "training loss:  tensor(5.0359, device='cuda:0')\n",
            "\n",
            "\n",
            "epoch:  6\n",
            "validation loss:  tensor(3.5496, device='cuda:0')\n",
            "training loss:  tensor(5.0359, device='cuda:0')\n",
            "\n",
            "\n",
            "epoch:  7\n",
            "validation loss:  tensor(3.5496, device='cuda:0')\n",
            "training loss:  tensor(5.0358, device='cuda:0')\n",
            "\n",
            "\n",
            "epoch:  8\n",
            "validation loss:  tensor(3.5496, device='cuda:0')\n",
            "training loss:  tensor(5.0358, device='cuda:0')\n",
            "\n",
            "\n",
            "epoch:  9\n",
            "validation loss:  tensor(3.5495, device='cuda:0')\n",
            "training loss:  tensor(5.0358, device='cuda:0')\n",
            "\n",
            "\n",
            "epoch:  10\n",
            "validation loss:  tensor(3.5495, device='cuda:0')\n",
            "training loss:  tensor(5.0357, device='cuda:0')\n",
            "\n",
            "\n",
            "epoch:  11\n",
            "validation loss:  tensor(3.5495, device='cuda:0')\n",
            "training loss:  tensor(5.0357, device='cuda:0')\n",
            "\n",
            "\n",
            "epoch:  12\n",
            "validation loss:  tensor(3.5495, device='cuda:0')\n",
            "training loss:  tensor(5.0356, device='cuda:0')\n",
            "\n",
            "\n",
            "epoch:  13\n",
            "validation loss:  tensor(3.5494, device='cuda:0')\n",
            "training loss:  tensor(5.0356, device='cuda:0')\n",
            "\n",
            "\n",
            "epoch:  14\n",
            "validation loss:  tensor(3.5494, device='cuda:0')\n",
            "training loss:  tensor(5.0356, device='cuda:0')\n",
            "\n",
            "\n",
            "epoch:  15\n",
            "validation loss:  tensor(3.5494, device='cuda:0')\n",
            "training loss:  tensor(5.0355, device='cuda:0')\n",
            "\n",
            "\n",
            "epoch:  16\n",
            "validation loss:  tensor(3.5494, device='cuda:0')\n",
            "training loss:  tensor(5.0355, device='cuda:0')\n",
            "\n",
            "\n"
          ]
        }
      ],
      "source": [
        "epochs = 16\n",
        "\n",
        "val_loss = [0.0 for _ in range(epochs)]\n",
        "tr_loss = [0.0 for _ in range(epochs)]\n",
        "count = 0\n",
        "\n",
        "for epoch in range(epochs):\n",
        "    count +=1\n",
        "    for step, data in enumerate(train_loader):\n",
        "      yhat = model(data.to('cuda'))\n",
        "      loss_1 = torch.mean((yhat - data.y)**2)\n",
        "      tr_loss[epoch] += (loss_1).detach()\n",
        "      loss_1.backward()\n",
        "\n",
        "      optimizer.step()\n",
        "      optimizer.zero_grad()\n",
        "    tr_loss[epoch] = tr_loss[epoch]/1637\n",
        "\n",
        "    with torch.no_grad():\n",
        "      for step, data in enumerate(test_loader):\n",
        "        yhat = model(data.to('cuda'))\n",
        "        loss2 = torch.mean((yhat - data.y)**2)\n",
        "        val_loss[epoch] += (loss2).detach()\n",
        "    val_loss[epoch] = val_loss[epoch]/205\n",
        "\n",
        "    \n",
        "    print (\"epoch: \", count)\n",
        "    print (\"validation loss: \", val_loss[epoch])\n",
        "    print (\"training loss: \", tr_loss[epoch])\n",
        "    print ()\n",
        "    print ()\n"
      ]
    },
    {
      "cell_type": "code",
      "source": [
        "v_loss = torch.tensor(val_loss, device = 'cpu')\n",
        "t_loss = torch.tensor(tr_loss, device = 'cpu')\n",
        "\n",
        "plt.plot(v_loss)\n",
        "plt.plot(t_loss)\n",
        "plt.xlabel(\"Epoch\")\n",
        "plt.ylabel(\"Val Loss\")\n",
        "plt.show()"
      ],
      "metadata": {
        "id": "262rPIy2QNi-",
        "colab": {
          "base_uri": "https://localhost:8080/",
          "height": 280
        },
        "outputId": "1b50b72e-cbf6-4335-d235-52590a75d552"
      },
      "execution_count": 24,
      "outputs": [
        {
          "output_type": "display_data",
          "data": {
            "text/plain": [
              "<Figure size 432x288 with 1 Axes>"
            ],
            "image/png": "[encoded data removed]"
          },
          "metadata": {
            "needs_background": "light"
          }
        }
      ]
    },
    {
      "cell_type": "markdown",
      "source": [
        "Remember that we trained our model to predict the displacement. We can convert back by just adding our dispacement vectors back to their previous frame. We won't do it here, but we could do it to extrapolate our E3NN model to predict the next frame *not* included in the dataset. For now, we have a reasonably well trained model, and we could finish by testing our model for equivariance using the method described [here](https://docs.e3nn.org/en/stable/guide/equivar_testing.html)."
      ],
      "metadata": {
        "id": "CsgSyfwyZ1xc"
      }
    }
  ],
  "metadata": {
    "accelerator": "GPU",
    "colab": {
      "collapsed_sections": [],
      "name": "Copy of Predicting_Trajectories_with_E3NN.ipynb",
      "toc_visible": true,
      "provenance": []
    },
    "kernelspec": {
      "display_name": "Python 3",
      "name": "python3"
    },
    "language_info": {
      "name": "python"
    },
    "gpuClass": "standard"
  },
  "nbformat": 4,
  "nbformat_minor": 0
}