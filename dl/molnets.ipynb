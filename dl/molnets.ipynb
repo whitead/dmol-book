{
 "cells": [
  {
   "cell_type": "markdown",
   "id": "a135561d",
   "metadata": {},
   "source": [
    "# Modern Molecular NNs\n",
    "\n",
    "We have seen two chapters about equivariances in {doc}`data` and {doc}`Equivariant`. We have seen one chapter on dealing with molecules as objects with permutation equivariance {doc}`gnn`. We will combine these ideas and create neural networks that can treat arbitrary molecules with point clouds and permutation equivariance. We already saw SchNet is able to do this by working with an invariant point cloud representation (distance to atoms), but modern networks mix in ideas from {doc}`Equivariant`. This is a highly-active research area, especially for predicting energies, forces, and relaxed structures of molecules. \n",
    "\n",
    "```{admonition} Audience & Objectives\n",
    "This chapter assumes you have read {doc}`data`, {doc}`Equivariant`, and {doc}`gnn`. You should be able to\n",
    "\n",
    "  * Categorize a task (features/labels) by equivariance  \n",
    "  * Understand body-ordered expansions\n",
    "  * Differentiate models based on their message passing, message type, and body-ordering\n",
    "```\n"
   ]
  },
  {
   "cell_type": "markdown",
   "id": "65f4ca21",
   "metadata": {},
   "source": [
    "```{warning}\n",
    "This chapter is in progress\n",
    "```"
   ]
  },
  {
   "cell_type": "code",
   "execution_count": null,
   "id": "b6ad0661",
   "metadata": {},
   "outputs": [],
   "source": []
  }
 ],
 "metadata": {
  "kernelspec": {
   "display_name": "Python 3",
   "language": "python",
   "name": "python3"
  },
  "language_info": {
   "codemirror_mode": {
    "name": "ipython",
    "version": 3
   },
   "file_extension": ".py",
   "mimetype": "text/x-python",
   "name": "python",
   "nbconvert_exporter": "python",
   "pygments_lexer": "ipython3",
   "version": "3.8.12"
  }
 },
 "nbformat": 4,
 "nbformat_minor": 5
}
