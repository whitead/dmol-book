{
 "cells": [
  {
   "cell_type": "markdown",
   "metadata": {},
   "source": [
    "# Variational Autoencoder\n",
    "\n",
    "A variational autoencoder (VAE) is a kind of **generative** deep learning model that is capable of **unsupervised learning**. Unsupervised learning is the process of fitting models to unlabeled data. A generative model is a specific kind of unsupervised learning model that is capable of *generating* new data points that were not seen in training. Generative models can be viewed as a trained probability distribution over that data: $\\hat{\\textrm{P}}(x)$. You can then draw samples from this distribution. It is generally too difficult to construct $\\hat{\\textrm{P}}(x)$ directly, and so most generative models make some changes to the structure. \n",
    "\n",
    "A VAE approaches this problem by introducing a dummy random variable $z$, which we define to have a normal distribution. We can then rewrite $\\hat{\\textrm{P}}(x)$ as:\n",
    "\n",
    "\\begin{equation}\n",
    "\\hat{\\textrm{P}}(x) = \\int\\,\\hat{\\textrm{P}}\\left(x | z \\right) \\textrm{P}(z)\\,dz\n",
    "\\end{equation}\n",
    "\n",
    "using the definition of a marginal and conditional probability. Training $\\hat{\\textrm{P}}\\left(x | z \\right)$ directly is not really possible either, but we can create a symmetric distribution $\\hat{\\textrm{P}}\\left(z | x \\right)$ and train both simultaneously. This symmetric distribution only is created to help us train; our end goal is to find $\\hat{\\textrm{P}}\\left(x | z \\right)$ so that we can obtain $\\hat{\\textrm{P}}(x)$. \n",
    "\n",
    "\n",
    "A VAE is thus a set of two trained conditional probability distributions that operate on the data $x$ and latent variables $z$. The first conditional is $p_\\theta(x | z)$, where $\\theta$ indicates the trainable parameters that we will be fitting. $p_\\theta(x | z)$ is known as the \"decoder\" because it goes from the latent variable $z$ to $x$. The decoder analogy is because you can view $z$ as a kind of encoded compression of $x$. The other conditional is $q_\\phi(z | x)$ and is known as the encoder. We should also not forget that we chose $p(z)$ to have normal distribution."
   ]
  },
  {
   "cell_type": "markdown",
   "metadata": {},
   "source": [
    "## VAE Loss function\n",
    "\n",
    "To see how $q_\\phi(z | x)$ enables us to train, let's construct our loss. The loss function should only take in a value $x_i$ and trainable parameters. There are no labels. Our goal is to make our VAE model be able to generate $x_i$, so the loss is the log likelihood that we saw $x_i$: $\\log\\left[\\hat{\\textrm{P}}(x_i)\\right]$.\n",
    "\n",
    "\n",
    "```{margin}\n",
    "Log likelihood is the loss of choice for fitting distributions to data. It is a likelihood, not a probability, because the distribution parameters are changing, not the random variables (which are set to be the data). We take a log so that we can sum/average over data to aggregate multiple points due to properties of logs. \n",
    "```\n",
    "\n",
    "\n",
    "### Derivation\n",
    "\n",
    "```{note}\n",
    "The derivation below is a little unusual. Most derivations rely on Bayes' theorem following a principle of evidence lower bound (ELBO). I thought I'd give a different derivation since you can readily find examples of [the ELBO in many places](https://www.cs.princeton.edu/courses/archive/fall11/cos597C/lectures/variational-inference-i.pdf).\n",
    "```\n",
    "\n",
    "\n",
    "Remember we do not have an expression for $\\hat{\\textrm{P}}(x_i)$. We have $p_\\theta(x_i | z)$. To connect them we'll use the following expression:\n",
    "\n",
    "\n",
    "\n",
    "\\begin{equation}\n",
    "\\log\\left[\\hat{\\textrm{P}}(x_i)\\right]= \\log\\left[\\int\\,p_\\theta(x_i | z) \\textrm{P}(z)\\,dz\\right] = \\log \\textrm{E}_z\\left[p_\\theta(x_i | z)\\right]\n",
    "\\end{equation}\n",
    "\n",
    "where we have rewritten the integral more compactly by using the definition of expectation. This expression requires integrating over the latent variable, which is not easy since as you can guess $p_\\theta(x | z)$ is a neural network and it's not straightforward to integrate over the input ($z$) of a neural network. Instead, we can approximate this integral by sampling some $z$s from $P(z)$\n",
    "\n",
    "```{margin}\n",
    "We actually could just integrate over the latent variables. This is called a normalizing flow and is a class of generative models we'll see later. \n",
    "```\n",
    "\n",
    "\\begin{equation}\n",
    " \\log\\textrm{E}_z\\left[ p_\\theta(x_i | z)\\right]\\approx \\log \\left[\\frac{1}{N}\\sum_j^N  p_\\theta(x_i | z_j)\\right],\\, z_j \\sim P(z_j)\n",
    "\\end{equation}"
   ]
  },
  {
   "cell_type": "markdown",
   "metadata": {},
   "source": [
    "You'll find though that grabbing $z$'s from $P(z)$ is not so efficient at approximating this integral, because you need the $z$'s to be likely to have led to the observed $x_i$. The integral is dominated by the $p_\\theta(x_i | z_j)$ terms. This is where we use $q(z | x)$: it can provide efficient guesses for $z_j$. To approximate $\\log \\textrm{E}_z\\left[p_\\theta(x_i | z)\\right]$ with samples from $q(z | x_i)$, we need to account for the fact that sampling from $q(z | x_i)$ is not identical to sampling from $P(z)$ by adding their ratio to the expression ([importance sampling](https://en.wikipedia.org/wiki/Importance_sampling)).\n",
    "\n",
    "\n",
    "\\begin{equation}\n",
    " \\log\\textrm{E}_z\\left[ p_\\theta(x_i | z)\\right]\\approx \\log \\left[\\frac{1}{N}\\sum^N_j  p_\\theta(x_i | z_j) \\frac{P(z_j)}{q_\\phi(z_j | x_i)}\\right],\\, z_j \\sim q_\\phi(z_j | x_i)\n",
    "\\end{equation}\n",
    "\n",
    "The ratio of $P(z) / q_\\phi(z | x)$ enables our numerical approximation of the expectation. For notational purposes though I'll go back to the exact expression, with the understanding that when we go to implementation we'll use the numerical approximation:\n",
    "\n",
    "\\begin{equation}\n",
    " \\log\\textrm{E}_z\\left[ p_\\theta(x_i | z)\\right] = \\log\\textrm{E}_{z \\sim q_\\phi(z | x_i)}\\left[ p_\\theta(x_i | z) \\frac{P(z)}{q_\\phi(z | x_i)}\\right]\n",
    "\\end{equation}\n",
    "\n",
    "Notice how the expectation now is wrt $z \\sim q_\\phi(z | x_i)$ since we have that importance sampling ratio in the expression.\n",
    "\n",
    "Now if the log was on the inside of our expectation, we could simplify this. We can actually swap the order of expectation and the log using Jensen's Inequality for the concave log function. The consequence is that our loss is no longer an exact estimate of the log likelihood, but a lower bound. \n",
    "\n",
    "\\begin{equation}\n",
    "\\log \\textrm{E}\\left[\\ldots\\right]\\geq \\textrm{E}\\left[\\log \\ldots\\right]\n",
    "\\end{equation}\n",
    "\n",
    "We'll use that and can now separate into two terms by properties of the log\n",
    "\n",
    "\\begin{equation}\n",
    "\\textrm{E}_{z \\sim q_\\phi(z | x_i)}\\left[ \\log\\left(p_\\theta(x_i | z) \\frac{P(z)}{q_\\phi(z | x_i)}\\right)\\right] = \\textrm{E}_{z \\sim q_\\phi(z | x_i)}\\left[ \\log p_\\theta(x_i | z)\\right] + \\textrm{E}_{z \\sim q_\\phi(z | x_i)}\\left[ \\log \\left(\\frac{P(z)}{q_\\phi(z | x_i)}\\right)\\right]\n",
    "\\end{equation}\n",
    "\n",
    "Remember we always planned to re-introduce numerically approximate the expectation. However, the right-hand side does not involve $p_\\theta(x | z)$, so we do not need to integrate over a neural network input. We just need to integrate over the output of $q_\\phi(z | x)$ and $P(z)$, which is a standard normal distribution. We'll see later on that we can make the output of $q_\\phi(z | x)$ specifically be a normal distribution to make sure we can easily compute the integral. Finally, we can use an identity that relates the Kullback–Leibler divergence (KL divergence) (a binary functional of two probabilities) to the right-hand side term:\n",
    "\n",
    "\\begin{equation}\n",
    "\\textrm{E}_{p(x)}\\left[ \\ln\\left(\\frac{q(x)}{p(x)}\\right)\\right] = -\\textrm{KL}\\left[p(x)|| q(x)\\right]\n",
    "\\end{equation}\n",
    "\n",
    "arriving at our final result:\n",
    "\n",
    "### Log-Likelihood Approximation\n",
    "\n",
    "\\begin{equation}\n",
    "\\log\\left[\\hat{\\textrm{P}}(x_i)\\right] \\geq \\textrm{E}_{z \\sim q_\\phi(z | x_i)}\\left[ \\log p_\\theta(x_i | z)\\right] -\\textrm{KL}\\left[q_\\phi(z | x_i)|| P(z)\\right]\n",
    "\\end{equation}\n",
    "\n",
    "The left term is called the **reconstruction loss** and assess how close we come after going from $x \\rightarrow z \\rightarrow x$ in expectation. The right-hand term is the **KL-divergence** and measures how close our encoder is to our defined $P(z)$ (normal distribution). The right-hand term involves an integral that can be computed analytically and no sampling is required to estimate it. Remember, in the derivation the KL-divergence term appeared as a correction term to account for the fact that our loss doesn't use $P(z)$ directly, but instead uses the encoder $q_\\phi(z | x_i)$ which generates $z$'s from our training data point $x_i$. The last step is that we want to minimize our loss, so we need to add a minus sign.\n",
    "\n",
    "```{note}\n",
    "The log-likelihood equation we've derived for VAE training is also sometimes called the evidence lower bound (ELBO). ELBO is a general equation used in Bayesian modeling, which usually has nothing to do with VAEs. \n",
    "```\n",
    "\n",
    "\\begin{equation}\n",
    "\\mathcal{L}(x_i, \\phi, \\theta) =  -\\textrm{E}_{z \\sim q_\\phi(z | x_i)}\\left[ \\log p_\\theta(x_i | z)\\right] +\\textrm{KL}\\left[q_\\phi(z | x_i)|| P(z)\\right]\n",
    "\\end{equation}\n",
    "\n",
    "Remember that in practice, we will approximate the expectation in the reconstruction loss by sampling $z$'s from the decoder $q_\\phi(z | x)$. We'll only use a single sample.\n",
    "\n"
   ]
  },
  {
   "cell_type": "markdown",
   "metadata": {},
   "source": [
    "## Running This Notebook\n",
    "\n",
    "\n",
    "Click the &nbsp;<i aria-label=\"Launch interactive content\" class=\"fas fa-rocket\"></i>&nbsp; above to launch this page as an interactive Google Colab. See details below on installing packages, either on your own environment or on Google Colab\n",
    "\n",
    "````{tip} My title\n",
    ":class: dropdown\n",
    "To install packages, execute this code in a new cell\n",
    "\n",
    "```\n",
    "!pip install matplotlib numpy pandas seaborn jax jaxlib\n",
    "```\n",
    "\n",
    "````"
   ]
  },
  {
   "cell_type": "markdown",
   "metadata": {},
   "source": [
    "## VAE for Discrete Data"
   ]
  },
  {
   "cell_type": "markdown",
   "metadata": {},
   "source": [
    "```{margin}\n",
    "The features are classes; we *are not* trying to make a classifier that takes in features and outputs classes. VAEs are for unlabeled data. \n",
    "```\n",
    "\n",
    "Our first example will be to generate new example classes from a distribution of possible classes. Our features $x$ are one-hot vectors indicating class and our goal is to learn the distribution $P(x)$ so that we can sample new $x$'s. Learning the latent space can also provide a way to embed your features into low dimensional continuous vectors, allowing you to do things like optimization because you've moved from discrete classes to continuous vectors. That is an extra benefit, our loss and training goal are to create a new $P(x)$.\n",
    "\n",
    "Let's think for a moment about our encoder and decoder. $q_\\phi(z | x)$, the encoder, should give out a *probability distribution* for vectors of real numbers $z$ and take an input of a one-hot vector $x$. This sounds difficult; we've never seen a neural network output a probability distribution over real number vectors. We can simplify though. We defined $P(z)$ to be normally distributed, let's assume that the form of $q_\\phi(z | x)$ should be normal. Then our neural network could output the parameters to a normal distribution (mean/variance) for $z$, rather than trying to output a probability at every possible $z$ value. It's up to you if you want to have $q_\\phi(z | x)$ output a D-dimensional Gaussian distribution with a covariance matrix or just output D independent normal distributions. Having $q_\\phi(z | x)$ output a normal distribution also allows us to analytically simplify the expectation/integral in the KL-divergence term. \n",
    "\n",
    "The decoder $p_\\theta(x | z)$ should output a probability distribution over classes given a real vector $z$. We can use the same form we used for classification: softmax activation. Just remember that we're not trying to output a specific $x$, just a probability distribution of $x$'s. \n",
    "\n",
    "Choices we have to make are the hyperparameters of the encoder and decoder and the size of $z$. It makes sense to have the encoder and decoder share as many hyperparameters as possible, since they're somewhat symmetric. Just remember that the encoder in our example is outputting a mean and variance, which means using regression, and the decoder is outputting a normalized probability vector, which means using softmax. Let's get started!"
   ]
  },
  {
   "cell_type": "markdown",
   "metadata": {},
   "source": [
    "### The Data\n",
    "The data is 1024 points $\\vec{x}_i$ where each $\\vec{x}_i$ is a 32 dimensional one-hot vector indicating class. We won't define the classes -- the data is synthetic. Since a VAE is unsupervised learning, there are no labels. Let's start by examining the data. We'll sum the occurrences of each class to see what the distribution of classes looks like. *The hidden cells show how the data was generated*"
   ]
  },
  {
   "cell_type": "code",
   "execution_count": null,
   "metadata": {
    "tags": [
     "hide-cell"
    ]
   },
   "outputs": [],
   "source": [
    "import numpy as np\n",
    "import matplotlib.pyplot as plt\n",
    "import seaborn as sns\n",
    "import matplotlib as mpl\n",
    "import warnings\n",
    "import urllib\n",
    "\n",
    "warnings.filterwarnings(\"ignore\")\n",
    "sns.set_context(\"notebook\")\n",
    "sns.set_style(\n",
    "    \"dark\",\n",
    "    {\n",
    "        \"xtick.bottom\": True,\n",
    "        \"ytick.left\": True,\n",
    "        \"xtick.color\": \"#666666\",\n",
    "        \"ytick.color\": \"#666666\",\n",
    "        \"axes.edgecolor\": \"#666666\",\n",
    "        \"axes.linewidth\": 0.8,\n",
    "        \"figure.dpi\": 300,\n",
    "    },\n",
    ")\n",
    "color_cycle = [\"#1BBC9B\", \"#F06060\", \"#5C4B51\", \"#F3B562\", \"#6e5687\"]\n",
    "mpl.rcParams[\"axes.prop_cycle\"] = mpl.cycler(color=color_cycle)\n",
    "np.random.seed(0)"
   ]
  },
  {
   "cell_type": "code",
   "execution_count": null,
   "metadata": {
    "tags": [
     "hide-input"
    ]
   },
   "outputs": [],
   "source": [
    "sampled_z = np.random.choice([0, 1], size=1024)\n",
    "data = ((sampled_z + 1) % 2) * np.random.normal(\n",
    "    size=sampled_z.shape, loc=-1, scale=0.5\n",
    ") + sampled_z * np.random.normal(size=sampled_z.shape, loc=1, scale=0.25)\n",
    "nbins = 32\n",
    "_, bins = np.histogram(data, bins=nbins)\n",
    "class_data = np.apply_along_axis(\n",
    "    lambda x: np.histogram(x, bins)[0], 1, data.reshape(-1, 1)\n",
    ")\n",
    "nclasses = nbins"
   ]
  },
  {
   "cell_type": "code",
   "execution_count": null,
   "metadata": {},
   "outputs": [],
   "source": [
    "plt.bar(np.arange(nclasses), height=np.sum(class_data, axis=0))\n",
    "plt.xlabel(\"Class Index\")\n",
    "plt.ylabel(\"Frequency\")\n",
    "plt.show()"
   ]
  },
  {
   "cell_type": "markdown",
   "metadata": {},
   "source": [
    "### The encoder\n",
    "\n",
    "Our encoder will be a basic two hidden layer network. We will output a $D\\times2$ matrix, where the first column is means and the second is standard deviations for independent normal distributions that make up our guess for $q(z | x)$. Outputting a mean is simple, just use no activation. Outputting a standard deviation is unusual because they should be on $(0, \\infty)$. {obj}`jax.nn.softplus` can accomplish this. "
   ]
  },
  {
   "cell_type": "code",
   "execution_count": null,
   "metadata": {},
   "outputs": [],
   "source": [
    "import jax.numpy as jnp\n",
    "import jax.experimental.optimizers as optimizers\n",
    "import jax\n",
    "import functools\n",
    "\n",
    "\n",
    "def random_vec(size):\n",
    "    return np.random.normal(size=size, scale=1)"
   ]
  },
  {
   "cell_type": "code",
   "execution_count": null,
   "metadata": {},
   "outputs": [],
   "source": [
    "latent_dim = 1\n",
    "hidden_dim = 16\n",
    "input_dim = nclasses\n",
    "\n",
    "\n",
    "def encoder(x, theta):\n",
    "    \"\"\"The encoder takes as input x and gives out probability of z,\n",
    "    expressed as normal distribution parameters. Assuming each z dim is independent,\n",
    "    output |z| x 2 matrix\"\"\"\n",
    "    w1, w2, w3, b1, b2, b3 = theta\n",
    "    hx = jax.nn.relu(w1 @ x + b1)\n",
    "    hx = jax.nn.relu(w2 @ hx + b2)\n",
    "    out = w3 @ hx + b3\n",
    "    # slice out stddeviation and make it positive\n",
    "    reshaped = out.reshape((-1, 2))\n",
    "    # we slice with ':' to keep rank same\n",
    "    std = jax.nn.softplus(reshaped[:, 1:])\n",
    "    mu = reshaped[:, 0:1]\n",
    "    return jnp.concatenate((mu, std), axis=1)\n",
    "\n",
    "\n",
    "def init_theta(input_dim, hidden_units, latent_dim):\n",
    "    \"\"\"Create inital theta parameters\"\"\"\n",
    "    w1 = random_vec(size=(hidden_units, input_dim))\n",
    "    b1 = np.zeros(hidden_units)\n",
    "    w2 = random_vec(size=(hidden_units, hidden_units))\n",
    "    b2 = np.zeros(hidden_units)\n",
    "    # need to params per dim (mean, std)\n",
    "    w3 = random_vec(size=(latent_dim * 2, hidden_units))\n",
    "    b3 = np.zeros(latent_dim * 2)\n",
    "    return [w1, w2, w3, b1, b2, b3]\n",
    "\n",
    "\n",
    "# test them\n",
    "theta = init_theta(input_dim, hidden_dim, latent_dim)\n",
    "encoder(class_data[0], theta)"
   ]
  },
  {
   "cell_type": "markdown",
   "metadata": {},
   "source": [
    "The decoder should output a vector of probabilities for $\\vec{x}$. This can be achieved by just adding a softmax to the output. The rest is nearly identical to the encoder. "
   ]
  },
  {
   "cell_type": "code",
   "execution_count": null,
   "metadata": {},
   "outputs": [],
   "source": [
    "def decoder(z, phi):\n",
    "    \"\"\"decoder takes as input the latant variable z and gives out probability of x.\n",
    "    Decoder outputes a real number, then we use softmax activation to get probability across\n",
    "    possible values of x.\n",
    "    \"\"\"\n",
    "    w1, w2, w3, b1, b2, b3 = phi\n",
    "    hz = jax.nn.relu(w1 @ z + b1)\n",
    "    hz = jax.nn.relu(w2 @ hz + b2)\n",
    "    out = jax.nn.softmax(w3 @ hz + b3)\n",
    "    return out\n",
    "\n",
    "\n",
    "def init_phi(input_dim, hidden_units, latent_dim):\n",
    "    \"\"\"Create inital phi parameters\"\"\"\n",
    "    w1 = random_vec(size=(hidden_units, latent_dim))\n",
    "    b1 = np.zeros(hidden_units)\n",
    "    w2 = random_vec(size=(hidden_units, hidden_units))\n",
    "    b2 = np.zeros(hidden_units)\n",
    "    w3 = random_vec(size=(input_dim, hidden_units))\n",
    "    b3 = np.zeros(input_dim)\n",
    "    return [w1, w2, w3, b1, b2, b3]\n",
    "\n",
    "\n",
    "# test it out\n",
    "phi = init_phi(input_dim, hidden_dim, latent_dim)\n",
    "decoder(np.array([1.2] * latent_dim), phi)"
   ]
  },
  {
   "cell_type": "markdown",
   "metadata": {},
   "source": [
    "## Training\n",
    "\n",
    "We use ELBO equation for training:\n",
    "\n",
    "$$\n",
    "l = -\\textrm{E}_{z \\sim q_\\phi(z | x_i)}\\left[\\log p_{\\theta}(x_i | z)\\right] + \\textrm{KL}\\left[(q_\\phi(z | x))|| P(z)\\right]\n",
    "$$\n",
    "\n",
    "where $P(z)$ is the standard normal distribution and we approximate expectations using a single sample from the encoder. We need to expand the KL-divergence term to implement. Both $P(z)$ and $q_\\theta(z | x)$ are normal. You can look-up the KL-divergence between two normal distributions:\n",
    "\n",
    "\\begin{equation}\n",
    "KL(q, p) = \\log \\frac{\\sigma_p}{\\sigma_q} + \\frac{\\sigma_q^2 + (\\mu_q - \\mu_p)^2}{2 \\sigma_p^2} - \\frac{1}{2}\n",
    "\\end{equation}\n",
    "\n",
    "we can simplify because $P(z)$ is standard normal ($\\sigma = 1, \\mu = 0$)\n",
    "\n",
    "\\begin{equation}\n",
    "\\textrm{KL}\\left[(q_\\theta(z | x_i))|| P(z)\\right] = -\\log \\sigma_i + \\frac{\\sigma_i^2}{2} + \\frac{\\mu_i^2}{2} - \\frac{1}{2}\n",
    "\\end{equation}\n",
    "\n",
    "where $\\mu_i, \\sigma_i$ are the output from $q_\\phi(z | x_i)$"
   ]
  },
  {
   "cell_type": "code",
   "execution_count": null,
   "metadata": {},
   "outputs": [],
   "source": [
    "@jax.jit\n",
    "def loss(x, theta, phi, rng_key):\n",
    "    \"\"\"VAE Loss\"\"\"\n",
    "    # reconstruction loss\n",
    "    sampled_z_params = encoder(x, theta)\n",
    "    # reparameterization trick\n",
    "    # we use standard normal sample and multiply by parameters\n",
    "    # to ensure derivatives correctly propogate to encoder\n",
    "    sampled_z = (\n",
    "        jax.random.normal(rng_key, shape=(latent_dim,)) * sampled_z_params[:, 1]\n",
    "        + sampled_z_params[:, 0]\n",
    "    )\n",
    "    # log of prob\n",
    "    rloss = -jnp.log(decoder(sampled_z, phi) @ x.T + 1e-8)\n",
    "    # LK loss\n",
    "    klloss = (\n",
    "        -0.5\n",
    "        - jnp.log(sampled_z_params[:, 1])\n",
    "        + 0.5 * sampled_z_params[:, 0] ** 2\n",
    "        + 0.5 * sampled_z_params[:, 1] ** 2\n",
    "    )\n",
    "    # combined\n",
    "    return jnp.array([rloss, jnp.mean(klloss)])\n",
    "\n",
    "\n",
    "# test it out\n",
    "loss(class_data[0], theta, phi, jax.random.PRNGKey(0))"
   ]
  },
  {
   "cell_type": "markdown",
   "metadata": {},
   "source": [
    "Our loss works! Now we need to make it batched so we can train in batches. Luckily this is easy with {obj}`vmap<jax.vmap>`."
   ]
  },
  {
   "cell_type": "code",
   "execution_count": null,
   "metadata": {},
   "outputs": [],
   "source": [
    "batched_loss = jax.vmap(loss, in_axes=(0, None, None, None), out_axes=0)\n",
    "batched_decoder = jax.vmap(decoder, in_axes=(0, None), out_axes=0)\n",
    "batched_encoder = jax.vmap(encoder, in_axes=(0, None), out_axes=0)\n",
    "\n",
    "# test batched loss\n",
    "batched_loss(class_data[:4], theta, phi, jax.random.PRNGKey(0))"
   ]
  },
  {
   "cell_type": "markdown",
   "metadata": {},
   "source": [
    "We'll make our gradient take the average over the batch"
   ]
  },
  {
   "cell_type": "code",
   "execution_count": null,
   "metadata": {},
   "outputs": [],
   "source": [
    "grad = jax.grad(\n",
    "    lambda x, theta, phi, rng_key: jnp.mean(batched_loss(x, theta, phi, rng_key)),\n",
    "    (1, 2),\n",
    ")\n",
    "fast_grad = jax.jit(grad)\n",
    "fast_loss = jax.jit(batched_loss)"
   ]
  },
  {
   "cell_type": "markdown",
   "metadata": {},
   "source": [
    "Alright, great! An important detail we've skipped so far is that when using `jax` to generate random numbers, we must step our random number generator forward. You can do that using {obj}`jax.random.split`. Otherwise, you'll get the same random numbers at each draw.\n",
    "\n",
    "We're going to use a `jax` optimizer here. This is to simplify parameter updates. We have a lot of parameters and they are nested, which will be complex for treating with python for loops."
   ]
  },
  {
   "cell_type": "code",
   "execution_count": null,
   "metadata": {},
   "outputs": [],
   "source": [
    "batch_size = 32\n",
    "epochs = 16\n",
    "\n",
    "key = jax.random.PRNGKey(0)\n",
    "opt_init, opt_update, get_params = optimizers.adam(step_size=1e-1)\n",
    "theta0 = init_theta(input_dim, hidden_dim, latent_dim)\n",
    "phi0 = init_phi(input_dim, hidden_dim, latent_dim)\n",
    "opt_state = opt_init((theta0, phi0))\n",
    "losses = []\n",
    "for e in range(epochs):\n",
    "    for bi, i in enumerate(range(0, len(data), batch_size)):\n",
    "        # make a batch into shape B x 1\n",
    "        batch = class_data[i : (i + batch_size)]\n",
    "        # udpate random number key\n",
    "        key, subkey = jax.random.split(key)\n",
    "        # get current parameter values from optimizer\n",
    "        theta, phi = get_params(opt_state)\n",
    "        last_state = opt_state\n",
    "        # compute gradient and update\n",
    "        grad = fast_grad(batch, theta, phi, key)\n",
    "        opt_state = opt_update(bi, grad, opt_state)\n",
    "        lvalue = jnp.mean(fast_loss(batch, theta, phi, subkey), axis=0)\n",
    "        losses.append(lvalue)"
   ]
  },
  {
   "cell_type": "code",
   "execution_count": null,
   "metadata": {},
   "outputs": [],
   "source": [
    "plt.plot([l[0] for l in losses], label=\"Reconstruction\")\n",
    "plt.plot([l[1] for l in losses], label=\"KL\")\n",
    "plt.plot([l[1] + l[0] for l in losses], label=\"ELBO\")\n",
    "plt.legend()\n",
    "plt.ylim(-5, 5)\n",
    "plt.xlabel(\"epoch\")\n",
    "plt.ylabel(\"loss\")\n",
    "plt.show()"
   ]
  },
  {
   "cell_type": "markdown",
   "metadata": {},
   "source": [
    "### Evaluating the VAE\n",
    "\n",
    "Remember our goal with the VAE is to reproduce $P(x)$. We can sample from our VAE using the chosen $P(z)$ and our decoder. Let's compare that distribution with our training distribution."
   ]
  },
  {
   "cell_type": "code",
   "execution_count": null,
   "metadata": {},
   "outputs": [],
   "source": [
    "zs = np.random.normal(size=(1024, 1))\n",
    "sampled_x = batched_decoder(zs, phi)\n",
    "fig, axs = plt.subplots(ncols=2, figsize=(8, 4))\n",
    "axs[0].set_title(\"Training Data\")\n",
    "axs[0].bar(np.arange(nbins), height=np.sum(class_data, axis=0))\n",
    "axs[0].set_xlabel(\"Class Index\")\n",
    "axs[0].set_ylabel(\"Frequency\")\n",
    "axs[1].set_title(\"VAE Samples\")\n",
    "axs[1].bar(np.arange(nbins), height=np.sum(sampled_x, axis=0))\n",
    "axs[1].set_xlabel(\"Class Index\")\n",
    "plt.tight_layout()\n",
    "plt.show()"
   ]
  },
  {
   "cell_type": "markdown",
   "metadata": {},
   "source": [
    "It appears we have succeeded! There were two more goals of the VAE model: making the encoder give output similar to $P(z)$ and be able to reconstruct. These goals are often opposed and they represent the two terms in the loss: reconstruction and KL-divergence. Let's examine the KL-divergence term, which causes the encoder to give output similar to a standard normal. We'll sample from our training data in histogram look at the resulting average mean and std dev. "
   ]
  },
  {
   "cell_type": "code",
   "execution_count": null,
   "metadata": {},
   "outputs": [],
   "source": [
    "d = batched_encoder(class_data, theta)\n",
    "print(\"Average mu = \", np.mean(d[..., 0]), \"Average std dev = \", np.mean(d[..., 1]))"
   ]
  },
  {
   "cell_type": "markdown",
   "metadata": {},
   "source": [
    "Wow! Very close to a standard normal. So our model satisfied the match between the decoder and the $P(z)$. The last thing to check is reconstruction. These are distributions, so I'll only look at the maximum $z$ value to do the reconstruction."
   ]
  },
  {
   "cell_type": "code",
   "execution_count": null,
   "metadata": {},
   "outputs": [],
   "source": [
    "plt.plot(decoder(encoder(class_data[2], theta)[0:1, 0], phi), label=\"P(x)\")\n",
    "plt.axvline(np.argmax(class_data[2]), color=\"C1\", label=\"x\")\n",
    "plt.legend()\n",
    "plt.show()"
   ]
  },
  {
   "cell_type": "markdown",
   "metadata": {},
   "source": [
    "The reconstruction is not great, it puts a lot of probability mass on other points. In fact, the reconstruction seems to not use the encoder's information at all -- it looks like $P(x)$. The reason for this is that our KL-divergence term dominates. It has a very good fit.\n",
    "\n",
    "## Re-balancing VAE Reconstruction and KL-Divergence\n",
    "\n",
    "Often we desire more reconstruction at the cost of making the latent space less normal. This can be done by adding a term that adjusts the balance between the reconstruction loss and the KL-divergence. You would choose to do this if you want to use the latent space for something and are not just interested in creating a model $\\hat{P}(x)$. Here is the modified ELBO equation for training:\n",
    "\n",
    "$$\n",
    "l = -\\textrm{E}_{z \\sim q_\\phi(z | x_i)}\\left[\\log p_{\\theta}(x_i | z)\\right] + \\beta\\cdot\\textrm{KL}\\left[(q_\\phi(z | x))|| P(z)\\right]\n",
    "$$\n",
    "\n",
    "where $\\beta > 1$ emphasizes the encoder distribution matching chosen latent distribution (standard normal) and $\\beta < 1$ emphasizes reconstruction accuracy. "
   ]
  },
  {
   "cell_type": "code",
   "execution_count": null,
   "metadata": {},
   "outputs": [],
   "source": [
    "def modified_loss(x, theta, phi, rng_key, beta):\n",
    "    \"\"\"This loss allows you to vary which term is more important\n",
    "    with beta. Beta = 0 - all reconstruction, beta = 1 - ELBO\"\"\"\n",
    "    bl = batched_loss(x, theta, phi, rng_key)\n",
    "    l = bl @ jnp.array([1.0, beta])\n",
    "    return jnp.mean(l)\n",
    "\n",
    "\n",
    "new_grad = jax.grad(modified_loss, (1, 2))\n",
    "fast_grad = jax.jit(new_grad)"
   ]
  },
  {
   "cell_type": "code",
   "execution_count": null,
   "metadata": {},
   "outputs": [],
   "source": [
    "# note we used a lower step size for this loss\n",
    "# and more epochs\n",
    "opt_init, opt_update, get_params = optimizers.adam(step_size=5e-2)\n",
    "epochs = 32\n",
    "theta0 = init_theta(input_dim, hidden_dim, latent_dim)\n",
    "phi0 = init_phi(input_dim, hidden_dim, latent_dim)\n",
    "opt_state = opt_init((theta0, phi0))\n",
    "beta = 0.2\n",
    "losses = []\n",
    "for e in range(epochs):\n",
    "    for bi, i in enumerate(range(0, len(data), batch_size)):\n",
    "        # make a batch into shape B x 1\n",
    "        batch = class_data[i : (i + batch_size)]\n",
    "        # udpate random number key\n",
    "        key, subkey = jax.random.split(key)\n",
    "        # get current parameter values from optimizer\n",
    "        theta, phi = get_params(opt_state)\n",
    "        last_state = opt_state\n",
    "        # compute gradient and update\n",
    "        grad = fast_grad(batch, theta, phi, key, beta)\n",
    "        opt_state = opt_update(bi, grad, opt_state)\n",
    "        lvalue = jnp.mean(fast_loss(batch, theta, phi, subkey), axis=0)\n",
    "        losses.append(lvalue)"
   ]
  },
  {
   "cell_type": "code",
   "execution_count": null,
   "metadata": {},
   "outputs": [],
   "source": [
    "plt.plot([l[0] for l in losses], label=\"Reconstruction\")\n",
    "plt.plot([l[1] for l in losses], label=\"KL\")\n",
    "plt.plot([l[1] + l[0] for l in losses], label=\"ELBO\")\n",
    "plt.legend()\n",
    "plt.ylim(-5, 5)\n",
    "plt.xlabel(\"epoch\")\n",
    "plt.ylabel(\"loss\")\n",
    "plt.show()"
   ]
  },
  {
   "cell_type": "markdown",
   "metadata": {},
   "source": [
    "You can see the error is higher, but let's see how it did at our three metrics. "
   ]
  },
  {
   "cell_type": "code",
   "execution_count": null,
   "metadata": {},
   "outputs": [],
   "source": [
    "zs = np.random.normal(size=(1024, 1))\n",
    "sampled_x = batched_decoder(zs, phi)\n",
    "fig, axs = plt.subplots(ncols=2, figsize=(8, 4))\n",
    "axs[0].set_title(\"Training Data\")\n",
    "axs[0].bar(np.arange(nbins), height=np.sum(class_data, axis=0))\n",
    "axs[0].set_xlabel(\"Class Index\")\n",
    "axs[0].set_ylabel(\"Frequency\")\n",
    "axs[1].set_title(\"VAE Samples\")\n",
    "axs[1].bar(np.arange(nbins), height=np.sum(sampled_x, axis=0))\n",
    "axs[1].set_xlabel(\"Class Index\")\n",
    "plt.tight_layout()\n",
    "plt.show()"
   ]
  },
  {
   "cell_type": "markdown",
   "metadata": {},
   "source": [
    "A little bit worse on $P(x)$, but overall not bad. What about our goal, the reconstruction?"
   ]
  },
  {
   "cell_type": "code",
   "execution_count": null,
   "metadata": {},
   "outputs": [],
   "source": [
    "plt.plot(decoder(encoder(class_data[4], theta)[0:1, 0], phi), label=\"P(x)\")\n",
    "plt.axvline(np.argmax(class_data[4]), color=\"C1\", label=\"x\")\n",
    "plt.legend()\n",
    "plt.show()"
   ]
  },
  {
   "cell_type": "markdown",
   "metadata": {},
   "source": [
    "What about our encoder's agreement with a standard normal?"
   ]
  },
  {
   "cell_type": "code",
   "execution_count": null,
   "metadata": {},
   "outputs": [],
   "source": [
    "d = batched_encoder(class_data, theta)\n",
    "print(\"Average mu = \", np.mean(d[..., 0]), \"Average std dev = \", np.mean(d[..., 1]))"
   ]
  },
  {
   "cell_type": "markdown",
   "metadata": {},
   "source": [
    "The standard deviation is much smaller! So we squeezed our latent space a little at the cost of better reconstruction.\n",
    "\n",
    "### Disentangling $\\beta$-VAE\n",
    "\n",
    "You can adjust $\\beta$ the opposite direction, to value matching the prior Gaussian distribution more strongly. This can better condition the encoder so that each of the latent dimensions are truly independent. This can be important if you want to disengatngle your input features to arrive at an orthogonal projection. This of course comes at the loss of reconstruction accuracy, but can be more important if you're interested in the latent space rather than generating new samples {cite}`mathieu2019disentangling`."
   ]
  },
  {
   "cell_type": "markdown",
   "metadata": {},
   "source": [
    "## Regression VAE\n",
    "\n",
    "We'll now work with continuous features $x$. We need to make a few key changes. The encoder will remain the same, but the decoder now must output a $p_\\theta(x | z)$ that gives a probability to all possible $x$ values. Above, we only had a finite number of classes but now any $x$ is possible. As we did for the encoder, we'll assume that $p_\\theta(x | z)$ should be normal and we'll output the parameters of the normal distribution from our network. This requires an update to the reconstruction loss to be a log of a normal, but otherwise things will be identical. \n",
    "\n",
    "One of the mistakes I always make is that the log-likelihood for a normal distribution with a single observation cannot have unknown standard deviation. Our new normal distribution parameters for the decoder will have a single observation for a single $x$ in training. If you make the standard deviation trainable, it will just pick infinity as the standard deviation since that will for sure capture the point and you only have one point. Thus, I'll make the decoder standard deviation be a hyperparameter fixed at 0.1. We don't see this issue with the encoder, which also outputs a normal distribution, because we training the encoder with the KL-divergence term and not likelihood of observations (reconstruction loss).\n"
   ]
  },
  {
   "cell_type": "code",
   "execution_count": null,
   "metadata": {},
   "outputs": [],
   "source": [
    "latent_dim = 1\n",
    "hidden_dim = 16\n",
    "input_dim = 1\n",
    "\n",
    "# make encoder parameters\n",
    "theta = init_theta(input_dim, hidden_dim, latent_dim)\n",
    "# test it\n",
    "encoder(data[0:1], theta)"
   ]
  },
  {
   "cell_type": "code",
   "execution_count": null,
   "metadata": {},
   "outputs": [],
   "source": [
    "def decoder(z, phi):\n",
    "    \"\"\"decoder takes as input the latant variable z and gives out probability of x.\n",
    "    Decoder outputes parameters for a normal distribution\n",
    "    \"\"\"\n",
    "    w1, w2, w3, b1, b2, b3 = phi\n",
    "    hz = jax.nn.relu(w1 @ z + b1)\n",
    "    hz = jax.nn.relu(w2 @ hz + b2)\n",
    "    out = w3 @ hz + b3\n",
    "    # slice out stddeviation and make it positive\n",
    "    reshaped = out.reshape((-1, 2))\n",
    "    # we slice with ':' to keep rank same\n",
    "    # std = jax.nn.softplus(reshaped[:,1:])\n",
    "    std = jnp.ones_like(reshaped[:, 1:]) * 0.1\n",
    "    mu = reshaped[:, 0:1]\n",
    "    return jnp.concatenate((mu, std), axis=1)\n",
    "\n",
    "\n",
    "def init_phi(input_dim, hidden_units, latent_dim):\n",
    "    \"\"\"Create inital phi parameters\"\"\"\n",
    "    w1 = random_vec(size=(hidden_units, latent_dim))\n",
    "    b1 = np.zeros(hidden_units)\n",
    "    w2 = random_vec(size=(hidden_units, hidden_units))\n",
    "    b2 = np.zeros(hidden_units)\n",
    "    w3 = random_vec(size=(input_dim * 2, hidden_units))\n",
    "    b3 = np.zeros(input_dim * 2)\n",
    "    return [w1, w2, w3, b1, b2, b3]\n",
    "\n",
    "\n",
    "# test it out\n",
    "phi = init_phi(input_dim, hidden_dim, latent_dim)\n",
    "decoder(np.array([1.2] * latent_dim), phi)"
   ]
  },
  {
   "cell_type": "code",
   "execution_count": null,
   "metadata": {},
   "outputs": [],
   "source": [
    "@jax.jit\n",
    "def loss(x, theta, phi, rng_key):\n",
    "    \"\"\"VAE Loss\"\"\"\n",
    "    # reconstruction loss\n",
    "    sampled_z_params = encoder(x, theta)\n",
    "    # reparameterization trick\n",
    "    # we use standard normal sample and multiply by parameters\n",
    "    # to ensure derivatives correctly propogate to encoder\n",
    "    sampled_z = (\n",
    "        jax.random.normal(rng_key, shape=(latent_dim,)) * sampled_z_params[:, 1]\n",
    "        + sampled_z_params[:, 0]\n",
    "    )\n",
    "    # log of normal dist\n",
    "    out_params = decoder(sampled_z, phi)\n",
    "    rloss = (\n",
    "        -jnp.log(jnp.sqrt(2 * np.pi) * out_params[:, 1] + 1e-10)\n",
    "        + (x - out_params[:, 0]) ** 2 / out_params[:, 1] ** 2 / 2\n",
    "    )\n",
    "    klloss = (\n",
    "        -0.5\n",
    "        - jnp.log(sampled_z_params[:, 1])\n",
    "        + 0.5 * sampled_z_params[:, 0] ** 2\n",
    "        + 0.5 * sampled_z_params[:, 1] ** 2\n",
    "    )\n",
    "    # combined\n",
    "    return jnp.array([jnp.mean(rloss), jnp.mean(klloss)])\n",
    "\n",
    "\n",
    "# test it out\n",
    "loss(data[0:1], theta, phi, jax.random.PRNGKey(0))\n",
    "\n",
    "# update compiled functions\n",
    "batched_loss = jax.vmap(loss, in_axes=(0, None, None, None), out_axes=0)\n",
    "batched_decoder = jax.vmap(decoder, in_axes=(0, None), out_axes=0)\n",
    "batched_encoder = jax.vmap(encoder, in_axes=(0, None), out_axes=0)\n",
    "grad = jax.grad(\n",
    "    lambda x, theta, phi, rng_key: jnp.mean(batched_loss(x, theta, phi, rng_key)),\n",
    "    (1, 2),\n",
    ")\n",
    "fast_grad = jax.jit(grad)\n",
    "fast_loss = jax.jit(batched_loss)"
   ]
  },
  {
   "cell_type": "code",
   "execution_count": null,
   "metadata": {},
   "outputs": [],
   "source": [
    "batch_size = 32\n",
    "epochs = 64\n",
    "\n",
    "key = jax.random.PRNGKey(0)\n",
    "opt_init, opt_update, get_params = optimizers.adam(step_size=1e-2)\n",
    "theta0 = init_theta(input_dim, hidden_dim, latent_dim)\n",
    "phi0 = init_phi(input_dim, hidden_dim, latent_dim)\n",
    "opt_state = opt_init((theta0, phi0))\n",
    "losses = []\n",
    "for e in range(epochs):\n",
    "    for bi, i in enumerate(range(0, len(data), batch_size)):\n",
    "        # make a batch into shape B x 1\n",
    "        batch = data[i : (i + batch_size)].reshape(-1, 1)\n",
    "        # udpate random number key\n",
    "        key, subkey = jax.random.split(key)\n",
    "        # get current parameter values from optimizer\n",
    "        theta, phi = get_params(opt_state)\n",
    "        last_state = opt_state\n",
    "        # compute gradient and update\n",
    "        grad = fast_grad(batch, theta, phi, key)\n",
    "        opt_state = opt_update(bi, grad, opt_state)\n",
    "        lvalue = jnp.mean(fast_loss(batch, theta, phi, subkey), axis=0)\n",
    "        losses.append(lvalue)"
   ]
  },
  {
   "cell_type": "code",
   "execution_count": null,
   "metadata": {},
   "outputs": [],
   "source": [
    "plt.plot([l[0] for l in losses], label=\"Reconstruction\")\n",
    "plt.plot([l[1] for l in losses], label=\"KL\")\n",
    "plt.plot([l[1] + l[0] for l in losses], label=\"ELBO\")\n",
    "plt.legend()\n",
    "plt.ylim(-5, 20)\n",
    "plt.xlabel(\"epoch\")\n",
    "plt.ylabel(\"loss\")\n",
    "plt.show()"
   ]
  },
  {
   "cell_type": "markdown",
   "metadata": {},
   "source": [
    "This model still has training to be done, but hopefully you get the idea for working with continuous numbers! We can examine the final result below. Note that I must sample from the output parameters to compare with the real training data."
   ]
  },
  {
   "cell_type": "code",
   "execution_count": null,
   "metadata": {},
   "outputs": [],
   "source": [
    "bins = 64\n",
    "zs = np.random.normal(size=(1024, 1))\n",
    "sampled_x_params = batched_decoder(zs, phi)\n",
    "fig, axs = plt.subplots(ncols=2, figsize=(8, 4))\n",
    "axs[0].set_title(\"Training Data\")\n",
    "_, bins, _ = axs[0].hist(data, bins=bins)\n",
    "axs[0].set_xlabel(\"x\")\n",
    "axs[0].set_ylabel(\"Frequency\")\n",
    "axs[1].set_title(\"VAE Samples\")\n",
    "# Now we have to sample from output paramters!!\n",
    "samples = []\n",
    "for s in sampled_x_params:\n",
    "    samples.append(np.random.normal(scale=s[:, 1], loc=s[:, 0], size=(8)))\n",
    "samples = np.array(samples).flatten()\n",
    "# make them use same bins\n",
    "axs[1].hist(samples, bins=bins)\n",
    "axs[1].set_xlabel(\"x\")\n",
    "plt.tight_layout()\n",
    "plt.show()"
   ]
  },
  {
   "cell_type": "markdown",
   "metadata": {},
   "source": [
    "The distribution is alright, not great. Comparing reconstruction is a little different because we only compare the mean of the predicted $P(x)$. We'll plot our predicted $\\mu$ from the decoder against the real $x$ values."
   ]
  },
  {
   "cell_type": "code",
   "execution_count": null,
   "metadata": {},
   "outputs": [],
   "source": [
    "mus = batched_decoder(batched_encoder(data.reshape(-1, 1), theta)[:, :, 0], phi)[\n",
    "    :, 0, 0\n",
    "]\n",
    "\n",
    "plt.plot(data, mus, \".\")\n",
    "plt.plot(data, data, \"-\", zorder=-1, color=\"gray\")\n",
    "plt.xlabel(\"x\")\n",
    "plt.ylabel(\"$\\mu$\")\n",
    "plt.show()"
   ]
  },
  {
   "cell_type": "markdown",
   "metadata": {},
   "source": [
    "The reconstruction is actually quite good! There is some odd behavior near the top, but otherwise quite reasonable. Finally check how well we did with getting our latent space to be standard normal."
   ]
  },
  {
   "cell_type": "code",
   "execution_count": null,
   "metadata": {},
   "outputs": [],
   "source": [
    "d = batched_encoder(data.reshape(-1, 1), theta)\n",
    "print(\"Average mu = \", np.mean(d[..., 0]), \"Average std dev = \", np.mean(d[..., 1]))"
   ]
  },
  {
   "cell_type": "markdown",
   "metadata": {},
   "source": [
    "Surprisingly poor. This gets at one of the issues with VAEs: sometimes your KL will dominate and you have poor reconstruction and other times reconstruction will dominate. It just depends on the variance of your features, dimensions, and hyperparameters. You'll often want to explicitly balance those terms to better agree with your goals for constructing the VAE."
   ]
  },
  {
   "cell_type": "markdown",
   "metadata": {},
   "source": [
    "## Bead-Spring Polymer VAE\n",
    "\n",
    "Now we'll move on to a more realistic system. We'll use a bead-spring polymer as shown in the short trajectory snippet below.\n",
    "\n",
    "<div>\n",
    "    <video width=\"500\" autoplay loop controls src=\"../_static/images/traj.mp4\" alt=\"movie of point trajectory\"></video>\n",
    "</div>\n",
    "\n",
    "\n",
    "\n",
    "This polymer has each bead (atom) joined by a harmonic bond, a harmonic angle between each three, and a Lennard-Jones interaction potential. Knowing these items will not be necessary for the example. We'll construct a VAE that can compress the trajectory to some latent space and generate new conformations.\n",
    "\n",
    "To begin, we'll use the lessons learned from {doc}`data` about how to align points from a trajectory. This will then serve as our training data. The space of our problem will be 12 2D vectors. Our system need not be permutation invariant, so we can flatten these vectors into a 24 dimensional input. The code belows loads and aligns the trajectory"
   ]
  },
  {
   "cell_type": "code",
   "execution_count": null,
   "metadata": {
    "tags": [
     "hide-cell"
    ]
   },
   "outputs": [],
   "source": [
    "import numpy as np\n",
    "\n",
    "###---------Transformation Functions----###\n",
    "def center_com(paths):\n",
    "    \"\"\"Align paths to COM at each frame\"\"\"\n",
    "    coms = np.mean(paths, axis=-2, keepdims=True)\n",
    "    return paths - coms\n",
    "\n",
    "\n",
    "def make_2drot(angle):\n",
    "    mats = np.array([[np.cos(angle), -np.sin(angle)], [np.sin(angle), np.cos(angle)]])\n",
    "    # swap so batch axis is first\n",
    "    return np.swapaxes(mats, 0, -1)\n",
    "\n",
    "\n",
    "def find_principle_axis(points):\n",
    "    \"\"\"Compute single principle axis for points\"\"\"\n",
    "    inertia = points.T @ points\n",
    "    evals, evecs = np.linalg.eigh(inertia)\n",
    "    # get biggest eigenvalue\n",
    "    order = np.argsort(evals)\n",
    "    return evecs[:, order[-1]]\n",
    "\n",
    "\n",
    "def align_principle(paths, axis_finder=find_principle_axis):\n",
    "    # This is a degenarate version, I removed mirror disambiguation\n",
    "    # to make latent space jump less. Data augmentation will\n",
    "    # have to overcome this issue\n",
    "    # the code is commented out below\n",
    "    vecs = [axis_finder(p) for p in paths]\n",
    "    vecs = np.array(vecs)\n",
    "    # find angle to rotate so these are pointed towards pos x\n",
    "    cur_angle = np.arctan2(vecs[:, 1], vecs[:, 0])\n",
    "    # cross = np.cross(vecs[:,0], vecs[:,1])\n",
    "    rot_angle = -cur_angle  # - (cross < 0) * np.pi\n",
    "    rot_mat = make_2drot(rot_angle)\n",
    "    return paths @ rot_mat\n",
    "\n",
    "\n",
    "###-----------------------------------###"
   ]
  },
  {
   "cell_type": "code",
   "execution_count": null,
   "metadata": {},
   "outputs": [],
   "source": [
    "urllib.request.urlretrieve(\n",
    "    \"https://github.com/whitead/dmol-book/raw/master/data/long_paths.npz\",\n",
    "    \"long_paths.npz\",\n",
    ")\n",
    "paths = np.load(\"long_paths.npz\")[\"arr\"]\n",
    "# transform to be rot/trans invariant\n",
    "data = align_principle(center_com(paths))\n",
    "cmap = plt.get_cmap(\"cool\")\n",
    "for i in range(0, data.shape[0], 16):\n",
    "    plt.plot(data[i, :, 0], data[i, :, 1], \"-\", alpha=0.1, color=\"C2\")\n",
    "plt.title(\"All Points\")\n",
    "plt.xticks([])\n",
    "plt.yticks([])\n",
    "plt.show()"
   ]
  },
  {
   "cell_type": "markdown",
   "metadata": {},
   "source": [
    "Before training, let's examine some of the **marginals** of the data. Marginals mean we've transformed (by integration) our probability distribution to be a function of only 1-2 variables so that we can plot nicely. We'll look at the pairwise distance between points. "
   ]
  },
  {
   "cell_type": "code",
   "execution_count": null,
   "metadata": {},
   "outputs": [],
   "source": [
    "fig, axs = plt.subplots(ncols=4, squeeze=True, figsize=(16, 4))\n",
    "for i, j in enumerate(range(1, 9, 2)):\n",
    "    axs[i].set_title(f\"Dist between 0-{j}\")\n",
    "    sns.distplot(np.linalg.norm(data[:, 0] - data[:, j], axis=1), ax=axs[i])\n",
    "plt.tight_layout()"
   ]
  },
  {
   "cell_type": "markdown",
   "metadata": {},
   "source": [
    "These look a little like the chi distribution with two degrees of freedom. Notice that the support (x-axis) changes between them though. We'll keep an eye on these when we evaluate the efficacy of our VAE. \n",
    "\n",
    "### VAE Model\n",
    "\n",
    "We'll build the VAE like above. I will make two changes. I will use JAX's random number generator and I will make the number of layers variable. The code is hidden below, but you can expand to see the details. We'll be starting with 4 layers total (3 hidden) with a hidden layer dimension of 256. Another detail is that we flatten the input/output since the order is preserved and thus we do not worry about separating the x,y dimension out."
   ]
  },
  {
   "cell_type": "code",
   "execution_count": null,
   "metadata": {
    "tags": [
     "hide-cell"
    ]
   },
   "outputs": [],
   "source": [
    "input_dim = 12 * 2\n",
    "hidden_units = 256\n",
    "num_layers = 4\n",
    "latent_dim = 2\n",
    "\n",
    "\n",
    "def init_theta(input_dim, hidden_units, latent_dim, num_layers, key, scale=0.1):\n",
    "    key, subkey = jax.random.split(key)\n",
    "    w1 = jax.random.normal(key=subkey, shape=(hidden_units, latent_dim)) * scale\n",
    "    b1 = jnp.zeros(hidden_units)\n",
    "    theta = [(w1, b1)]\n",
    "    for i in range(1, num_layers - 1):\n",
    "        key, subkey = jax.random.split(key)\n",
    "        w = jax.random.normal(key=subkey, shape=(hidden_units, hidden_units)) * scale\n",
    "        b = jnp.zeros(hidden_units)\n",
    "        theta.append((w, b))\n",
    "    key, subkey = jax.random.split(key)\n",
    "    w = jax.random.normal(key=subkey, shape=(input_dim, hidden_units)) * scale\n",
    "    b = jnp.zeros(input_dim)\n",
    "    theta.append((w, b))\n",
    "    return theta, key\n",
    "\n",
    "\n",
    "def decoder(z, theta):\n",
    "    num_layers = len(theta)\n",
    "    for i in range(num_layers - 1):\n",
    "        w, b = theta[i]\n",
    "        z = jax.nn.relu(w @ z + b)\n",
    "    w, b = theta[-1]\n",
    "    x = w @ z + b\n",
    "    return x\n",
    "\n",
    "\n",
    "def init_phi(input_dim, hidden_units, latent_dim, num_layers, key, scale=0.1):\n",
    "    key, subkey = jax.random.split(key)\n",
    "    w1 = jax.random.normal(key=subkey, shape=(hidden_units, input_dim)) * scale\n",
    "    b1 = jnp.zeros(hidden_units)\n",
    "    phi = [(w1, b1)]\n",
    "    for i in range(1, num_layers - 1):\n",
    "        key, subkey = jax.random.split(key)\n",
    "        w = jax.random.normal(key=subkey, shape=(hidden_units, hidden_units)) * scale\n",
    "        b = jnp.zeros(hidden_units)\n",
    "        phi.append((w, b))\n",
    "    key, subkey = jax.random.split(key)\n",
    "    w = jax.random.normal(key=subkey, shape=(latent_dim * 2, hidden_units)) * scale\n",
    "    b = jnp.zeros(latent_dim * 2)\n",
    "    phi.append((w, b))\n",
    "    return phi, key\n",
    "\n",
    "\n",
    "def encoder(x, phi):\n",
    "    num_layers = len(phi)\n",
    "    for i in range(num_layers - 1):\n",
    "        w, b = phi[i]\n",
    "        x = jax.nn.relu(w @ x + b)\n",
    "    w, b = phi[-1]\n",
    "    hz = w @ x + b\n",
    "    hz = hz.reshape(-1, 2)\n",
    "    mu = hz[:, 0:1]\n",
    "    std = jax.nn.softplus(hz[:, 1:2])\n",
    "    return jnp.concatenate((mu, std), axis=1)"
   ]
  },
  {
   "cell_type": "markdown",
   "metadata": {},
   "source": [
    "### Loss\n",
    "\n",
    "The loss function is similar to above, but I will not even bother with the Gaussian outputs. You can see the only change is that we drop the output Gaussian standard deviation from the loss, which remember was not trainable anyway. "
   ]
  },
  {
   "cell_type": "code",
   "execution_count": null,
   "metadata": {},
   "outputs": [],
   "source": [
    "@jax.jit\n",
    "def loss(x, theta, phi, rng_key):\n",
    "    \"\"\"VAE Loss\"\"\"\n",
    "    # reconstruction loss\n",
    "    sampled_z_params = encoder(x, phi)\n",
    "    # reparameterization trick\n",
    "    # we use standard normal sample and multiply by parameters\n",
    "    # to ensure derivatives correctly propogate to encoder\n",
    "    sampled_z = (\n",
    "        jax.random.normal(rng_key, shape=(latent_dim,)) * sampled_z_params[:, 1]\n",
    "        + sampled_z_params[:, 0]\n",
    "    )\n",
    "    # MSE now instead\n",
    "    xp = decoder(sampled_z, theta)\n",
    "    rloss = jnp.sum((xp - x) ** 2)\n",
    "    # LK loss\n",
    "    klloss = (\n",
    "        -0.5\n",
    "        - jnp.log(sampled_z_params[:, 1] + 1e-8)\n",
    "        + 0.5 * sampled_z_params[:, 0] ** 2\n",
    "        + 0.5 * sampled_z_params[:, 1] ** 2\n",
    "    )\n",
    "    # combined\n",
    "    return jnp.array([rloss, jnp.mean(klloss)])\n",
    "\n",
    "\n",
    "# update compiled functions\n",
    "batched_loss = jax.vmap(loss, in_axes=(0, None, None, None), out_axes=0)\n",
    "batched_decoder = jax.vmap(decoder, in_axes=(0, None), out_axes=0)\n",
    "batched_encoder = jax.vmap(encoder, in_axes=(0, None), out_axes=0)\n",
    "grad = jax.grad(modified_loss, (1, 2))\n",
    "fast_grad = jax.jit(grad)\n",
    "fast_loss = jax.jit(batched_loss)"
   ]
  },
  {
   "cell_type": "markdown",
   "metadata": {},
   "source": [
    "### Training\n",
    "\n",
    "Finally comes the training. The only changes to this code are to flatten our input data and shuffle to prevent the each batch from having similar conformations."
   ]
  },
  {
   "cell_type": "code",
   "execution_count": null,
   "metadata": {},
   "outputs": [],
   "source": [
    "batch_size = 32\n",
    "epochs = 250\n",
    "key = jax.random.PRNGKey(0)\n",
    "\n",
    "flat_data = data.reshape(-1, input_dim)\n",
    "# scramble it\n",
    "flat_data = jax.random.shuffle(key, flat_data)\n",
    "\n",
    "\n",
    "opt_init, opt_update, get_params = optimizers.adam(step_size=1e-2)\n",
    "theta0, key = init_theta(input_dim, hidden_units, latent_dim, num_layers, key)\n",
    "phi0, key = init_phi(input_dim, hidden_units, latent_dim, num_layers, key)\n",
    "opt_state = opt_init((theta0, phi0))\n",
    "losses = []\n",
    "# KL/Reconstruction balance\n",
    "beta = 0.01\n",
    "for e in range(epochs):\n",
    "    for bi, i in enumerate(range(0, len(flat_data), batch_size)):\n",
    "        # make a batch into shape B x 1\n",
    "        batch = flat_data[i : (i + batch_size)].reshape(-1, input_dim)\n",
    "        # udpate random number key\n",
    "        key, subkey = jax.random.split(key)\n",
    "        # get current parameter values from optimizer\n",
    "        theta, phi = get_params(opt_state)\n",
    "        last_state = opt_state\n",
    "        # compute gradient and update\n",
    "        grad = fast_grad(batch, theta, phi, key, beta)\n",
    "        opt_state = opt_update(bi, grad, opt_state)\n",
    "    # use large batch for tracking progress\n",
    "    lvalue = jnp.mean(fast_loss(flat_data[:100], theta, phi, subkey), axis=0)\n",
    "    losses.append(lvalue)"
   ]
  },
  {
   "cell_type": "code",
   "execution_count": null,
   "metadata": {},
   "outputs": [],
   "source": [
    "plt.plot([l[0] for l in losses], label=\"Reconstruction\")\n",
    "plt.plot([l[1] for l in losses], label=\"KL\")\n",
    "plt.plot([l[1] + l[0] for l in losses], label=\"ELBO\")\n",
    "plt.legend()\n",
    "plt.ylim(0, 20)\n",
    "plt.xlabel(\"epoch\")\n",
    "plt.ylabel(\"loss\")\n",
    "plt.show()"
   ]
  },
  {
   "cell_type": "markdown",
   "metadata": {},
   "source": [
    "As usual, this model is undertrained. A latent space of 2, which we chose for plotting convenience, is also probably a little too compressed. Let's sample a few conformation and see how they look."
   ]
  },
  {
   "cell_type": "code",
   "execution_count": null,
   "metadata": {},
   "outputs": [],
   "source": [
    "sampled_data = decoder(jax.random.normal(key, shape=[latent_dim]), theta).reshape(-1, 2)\n",
    "plt.plot(sampled_data[:, 0], sampled_data[:, 1], \"-o\", alpha=1)\n",
    "plt.xticks([])\n",
    "plt.yticks([])\n",
    "plt.show()"
   ]
  },
  {
   "cell_type": "markdown",
   "metadata": {},
   "source": [
    "These look reasonable compared with the trajectory video showing the training conformations."
   ]
  },
  {
   "cell_type": "markdown",
   "metadata": {},
   "source": [
    "## Using VAE on  a Trajectory\n",
    "\n",
    "There are three main things to do with a VAE on a trajectory. The first is to go from a trajectory in the feature dimension to the latent dimension. This can simplify analysis of dynamics or act as a reaction coordinate for free energy methods. The second is to generate new conformations. This could be used to fill-in under sampling or perhaps extrapolate to new regions of latent space. You can also use the VAE to examine marginals that are perhaps under-sampled. Finally, you can do optimization on the latent space. For example, you could try to find the most compact structure. We'll examine these examples but there are many other things you could examine. For a more complete model example with attention and 3D coordinates, see Winter et al. {cite}`winter2021auto`. You can find applications of VAEs on trajectories for molecular design {cite}`shmilovich2020discovery`, coarse-graining {cite}`wang2019coarse`, and identifying rare-events {cite}`ribeiro2018reweighted`. "
   ]
  },
  {
   "cell_type": "markdown",
   "metadata": {},
   "source": [
    "### Latent Trajectory\n",
    "\n",
    "Let's start by computing a latent trajctory. I'm going to load a shorter trajectory which has the frames closer together in time. "
   ]
  },
  {
   "cell_type": "code",
   "execution_count": null,
   "metadata": {},
   "outputs": [],
   "source": [
    "urllib.request.urlretrieve(\n",
    "    \"https://github.com/whitead/dmol-book/raw/master/data/paths.npz\", \"paths.npz\"\n",
    ")\n",
    "paths = np.load(\"paths.npz\")[\"arr\"]\n",
    "short_data = align_principle(center_com(paths))\n",
    "\n",
    "# get latent params\n",
    "# throw away standard deviation\n",
    "latent_traj = batched_encoder(short_data.reshape(-1, input_dim), phi)[:, 0]\n",
    "plt.plot(latent_traj[:, 0], latent_traj[:, 1], \"-o\", markersize=5, alpha=0.5)\n",
    "plt.show()"
   ]
  },
  {
   "cell_type": "markdown",
   "metadata": {},
   "source": [
    "You can see that the trajectory is relatively continuous, except for a few wide jumps. We'll see below that this is because the alignment process can have big jumps as our principle axis rapidly moves when the points rearrange. Let's compare the video and the z-path side-by-side. You can find the code for this movie on the github repo."
   ]
  },
  {
   "cell_type": "code",
   "execution_count": null,
   "metadata": {
    "tags": [
     "remove-cell"
    ]
   },
   "outputs": [],
   "source": [
    "from moviepy.editor import VideoClip\n",
    "from moviepy.video.io.bindings import mplfig_to_npimage\n",
    "from matplotlib.collections import LineCollection\n",
    "\n",
    "\n",
    "def make_segments(data, time_index):\n",
    "    points = np.array([data[time_index, :, 0], data[time_index, :, 1]]).T.reshape(\n",
    "        -1, 1, 2\n",
    "    )\n",
    "    segments = np.concatenate([points[:-1], points[1:]], axis=1)\n",
    "    return segments\n",
    "\n",
    "\n",
    "dpi = 96\n",
    "fig, axs = plt.subplots(ncols=3, figsize=(1920 / dpi, 1080 / dpi / 2), dpi=dpi)\n",
    "fps = 60\n",
    "fronts = axs[0].plot(\n",
    "    paths[-1][:, 0], paths[-1][:, 1], \"o\", zorder=0, color=\"C0\", markersize=12\n",
    ")[0]\n",
    "afronts = axs[1].plot(\n",
    "    short_data[-1][:, 0], short_data[-1][:, 1], \"o\", zorder=0, color=\"C0\", markersize=12\n",
    ")[0]\n",
    "zfront = axs[2].plot(\n",
    "    latent_traj[0, 0], latent_traj[0, 1], \"o\", zorder=0, color=\"C2\", markersize=12\n",
    ")[0]\n",
    "zl = axs[2].plot(latent_traj[0, 0], latent_traj[1, 0], \"-\", alpha=1, color=\"C1\")[0]\n",
    "axs[0].set_xlim(np.nanmin(paths, axis=(0, 1))[0], np.nanmax(paths, axis=(0, 1))[0])\n",
    "axs[0].set_ylim(np.nanmin(paths, axis=(0, 1))[1], np.nanmax(paths, axis=(0, 1))[1])\n",
    "axs[1].set_xlim(\n",
    "    np.nanmin(short_data, axis=(0, 1))[0], np.nanmax(short_data, axis=(0, 1))[0]\n",
    ")\n",
    "axs[1].set_ylim(\n",
    "    np.nanmin(short_data, axis=(0, 1))[1], np.nanmax(short_data, axis=(0, 1))[1]\n",
    ")\n",
    "axs[2].set_xlim(np.min(latent_traj[:, 0]), np.max(latent_traj[:, 0]))\n",
    "axs[2].set_ylim(np.min(latent_traj[:, 1]), np.max(latent_traj[:, 1]))\n",
    "axs[0].set_title(\"Trajectory\", fontsize=36)\n",
    "axs[1].set_title(\"Aligned\", fontsize=36)\n",
    "axs[2].set_title(\"Latent\", fontsize=36)\n",
    "for i in range(3):\n",
    "    axs[i].set_xticks([])\n",
    "    axs[i].set_yticks([])\n",
    "plt.tight_layout()\n",
    "\n",
    "T = paths.shape[0]\n",
    "line_collections = []\n",
    "line_segments = []\n",
    "aline_segments = []\n",
    "for i in range(T):\n",
    "    seg = make_segments(paths, i)\n",
    "    line_segments.append(seg)\n",
    "    seg = make_segments(short_data, i)\n",
    "    aline_segments.append(seg)\n",
    "\n",
    "\n",
    "def make_frame(t):\n",
    "    frame = int(fps * t)\n",
    "    if len(line_collections) == 0:\n",
    "        lc = LineCollection(\n",
    "            line_segments[frame], color=\"C0\", norm=plt.Normalize(0, 1), alpha=0.2\n",
    "        )\n",
    "        axs[0].add_collection(lc)\n",
    "        line_collections.append(lc)\n",
    "        lc = LineCollection(\n",
    "            aline_segments[frame], color=\"C0\", norm=plt.Normalize(0, 1), alpha=0.2\n",
    "        )\n",
    "        axs[1].add_collection(lc)\n",
    "        line_collections.append(lc)\n",
    "    j = min(frame, T - 1)\n",
    "    # Set the values used for colormapping\n",
    "    # lc.set_array(np.linspace(1,0,T)[:frame])\n",
    "    line_collections[0].set_segments(line_segments[j])\n",
    "    line_collections[1].set_segments(aline_segments[j])\n",
    "    fronts.set_data(paths[j][:, 0], paths[j][:, 1])\n",
    "    afronts.set_data(short_data[j][:, 0], short_data[j][:, 1])\n",
    "    zfront.set_data(latent_traj[j, 0], latent_traj[j, 1])\n",
    "    zl.set_data(latent_traj[:j, 0], latent_traj[:j, 1])\n",
    "    return mplfig_to_npimage(fig)\n",
    "\n",
    "\n",
    "duration = T / fps\n",
    "animation = VideoClip(make_frame, duration=duration)\n",
    "animation.write_videofile(filename=\"../_static/images/latent_traj.mp4\", fps=fps)"
   ]
  },
  {
   "cell_type": "markdown",
   "metadata": {},
   "source": [
    "\n",
    "<div>\n",
    "    <video width=\"500\" autoplay loop controls src=\"../_static/images/latent_traj.mp4\" alt=\"movie of point trajectory\"></video>\n",
    "</div>\n",
    "\n",
    "You can see the quick change is due to our alignment quickly changing. This is why aligning on the principle axis isn't always perfect: your axis can flip 90 degrees because the internal points change the moment of inertia enough to change."
   ]
  },
  {
   "cell_type": "markdown",
   "metadata": {},
   "source": [
    "### Generate New Samples\n",
    "\n",
    "Let's see how our samples look. "
   ]
  },
  {
   "cell_type": "code",
   "execution_count": null,
   "metadata": {},
   "outputs": [],
   "source": [
    "fig, axs = plt.subplots(ncols=2, figsize=(12, 4))\n",
    "sampled_data = batched_decoder(\n",
    "    np.random.normal(size=(data.shape[0], latent_dim)), theta\n",
    ").reshape(data.shape[0], -1, 2)\n",
    "for i in range(0, data.shape[0]):\n",
    "    axs[0].plot(data[i, :, 0], data[i, :, 1], \"-\", alpha=0.1, color=\"C1\")\n",
    "    axs[1].plot(\n",
    "        sampled_data[i, :, 0], sampled_data[i, :, 1], \"-\", alpha=0.1, color=\"C1\"\n",
    "    )\n",
    "axs[0].set_title(\"Training\")\n",
    "axs[1].set_title(\"Generated\")\n",
    "for i in range(2):\n",
    "    axs[i].set_xticks([])\n",
    "    axs[i].set_yticks([])\n",
    "plt.show()"
   ]
  },
  {
   "cell_type": "markdown",
   "metadata": {},
   "source": [
    "The samples are not perfect, but we're close. Let's examine the marginals. "
   ]
  },
  {
   "cell_type": "code",
   "execution_count": null,
   "metadata": {},
   "outputs": [],
   "source": [
    "fig, axs = plt.subplots(ncols=4, squeeze=True, figsize=(16, 4))\n",
    "for i, j in enumerate(range(1, 9, 2)):\n",
    "    axs[i].set_title(f\"Dist between 0-{j}\")\n",
    "    sns.distplot(np.linalg.norm(data[:, 0] - data[:, j], axis=1), ax=axs[i])\n",
    "    sns.distplot(\n",
    "        np.linalg.norm(sampled_data[:, 0] - sampled_data[:, j], axis=1),\n",
    "        ax=axs[i],\n",
    "        hist=False,\n",
    "    )\n",
    "plt.tight_layout()"
   ]
  },
  {
   "cell_type": "markdown",
   "metadata": {},
   "source": [
    "You can see that there are some issues here as well. Remember that our latent space is quite small: 2D. So we should not be that surprised that we're losing information from our 24D input space. "
   ]
  },
  {
   "cell_type": "markdown",
   "metadata": {},
   "source": [
    "### Optimization on Latent Space\n",
    "\n",
    "Finally, let us examine how we can optimize in the latent space. Let's say I want to find the most compact structure. We'll define our loss function as the radius of gyration for and take its derivative with respect to $z$, instead of the usual weights. Recall the definition of radius of gyration is\n",
    "\n",
    "\\begin{equation}\n",
    "R_g = \\frac{1}{N}\\sum_i r_i^2\n",
    "\\end{equation}\n",
    "\n",
    "where $r_i$ is distance to center of mass. Our generated samples are, by definition, centered at the origin though. "
   ]
  },
  {
   "cell_type": "code",
   "execution_count": null,
   "metadata": {},
   "outputs": [],
   "source": [
    "def rg_loss(z):\n",
    "    x = decoder(z, theta).reshape(-1, 2)\n",
    "    rg = jnp.sum(x ** 2)\n",
    "    return jnp.sqrt(rg)\n",
    "\n",
    "\n",
    "rg_grad = jax.jit(jax.grad(rg_loss))"
   ]
  },
  {
   "cell_type": "code",
   "execution_count": null,
   "metadata": {},
   "outputs": [],
   "source": [
    "z = jax.random.normal(key, shape=[latent_dim])\n",
    "losses = []\n",
    "eta = 1e-2\n",
    "for i in range(100):\n",
    "    losses.append(rg_loss(z))\n",
    "    g = rg_grad(z)\n",
    "    z -= eta * g\n",
    "plt.plot(losses)\n",
    "plt.xlabel(\"Iterations\")\n",
    "plt.ylabel(\"$R_g$\")\n",
    "plt.show()"
   ]
  },
  {
   "cell_type": "markdown",
   "metadata": {},
   "source": [
    "Now let's compare our optimized structure against what is the lowest one in the training data."
   ]
  },
  {
   "cell_type": "code",
   "execution_count": null,
   "metadata": {},
   "outputs": [],
   "source": [
    "# get min from training\n",
    "train_rgmin = np.argmin(np.sum(data ** 2, axis=(1, 2)))\n",
    "# use new z\n",
    "opt_rgmin = decoder(z, theta).reshape(-1, 2)\n",
    "plt.plot(\n",
    "    data[train_rgmin, :, 0], data[train_rgmin, :, 1], \"o-\", label=\"Training\", alpha=0.8\n",
    ")\n",
    "plt.plot(opt_rgmin[:, 0], opt_rgmin[:, 1], \"o-\", label=\"Optimized\", alpha=0.8)\n",
    "plt.xticks([])\n",
    "plt.yticks([])\n",
    "plt.legend()\n",
    "plt.show()"
   ]
  },
  {
   "cell_type": "markdown",
   "metadata": {},
   "source": [
    "What is remarkable about this is that the optimized one has no overlaps and still reasonable bond-lengths. It is also more compact than the lowest radius of gyration found in the training example. "
   ]
  },
  {
   "cell_type": "markdown",
   "metadata": {},
   "source": [
    "## Relevant Videos\n",
    "\n",
    "### Using VAE for Coarse-Grained Molecular Simulation\n",
    "\n",
    "<iframe width=\"560\" height=\"315\" src=\"https://www.youtube-nocookie.com/embed/l_NfukhR2XU\" frameborder=\"0\" allow=\"accelerometer; autoplay; clipboard-write; encrypted-media; gyroscope; picture-in-picture\" allowfullscreen></iframe>\n",
    "\n",
    "### Using VAE for Molecular Graph Generation\n",
    "\n",
    "<iframe width=\"560\" height=\"315\" src=\"https://www.youtube-nocookie.com/embed/VXNjCAmb6Zw\" frameborder=\"0\" allow=\"accelerometer; autoplay; clipboard-write; encrypted-media; gyroscope; picture-in-picture\" allowfullscreen></iframe>\n",
    "\n",
    "### Review of Molecular Graph Generative Models (including VAE)\n",
    "\n",
    "<iframe width=\"560\" height=\"315\" src=\"https://www.youtube-nocookie.com/embed/z0lh4kXWt5E\" frameborder=\"0\" allow=\"accelerometer; autoplay; clipboard-write; encrypted-media; gyroscope; picture-in-picture\" allowfullscreen></iframe>"
   ]
  },
  {
   "cell_type": "markdown",
   "metadata": {},
   "source": [
    "## Chapter Summary \n",
    "\n",
    "* A variational autoencoder is a generative deep learning model capable of unsupervised learning. It is capable of of generating new data points not seen in training.\n",
    "* A VAE is a set of two trained conditional probability distributions that operate on examples from the data $x$ and the latent space $z$. The encoder goes from data to latent and the decoder goes from latent to data.\n",
    "* The loss function is the log likelihood that we observed the training point $x_i$.\n",
    "* Taking the log allows us to sum/average over data to aggregate multiple points.\n",
    "* The VAE can be used for both discrete or continuous features.\n",
    "* The goal with VAE is to reproduce the probability distribution of $x$. Comparing the distribution over $z$ and that of $x$ allows us to evaluate how well the VAE operates.\n",
    "* A bead-spring polymer VAE example shows how VAEs operate on a trajectory. "
   ]
  },
  {
   "cell_type": "markdown",
   "metadata": {},
   "source": [
    "## Cited References\n",
    "\n",
    "```{bibliography}\n",
    ":style: unsrtalpha\n",
    ":filter: docname in docnames\n",
    "```"
   ]
  }
 ],
 "metadata": {
  "celltoolbar": "Tags",
  "kernelspec": {
   "display_name": "Python 3",
   "language": "python",
   "name": "python3"
  },
  "language_info": {
   "codemirror_mode": {
    "name": "ipython",
    "version": 3
   },
   "file_extension": ".py",
   "mimetype": "text/x-python",
   "name": "python",
   "nbconvert_exporter": "python",
   "pygments_lexer": "ipython3",
   "version": "3.7.8"
  }
 },
 "nbformat": 4,
 "nbformat_minor": 4
}
