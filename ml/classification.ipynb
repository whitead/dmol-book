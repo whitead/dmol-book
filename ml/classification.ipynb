{
 "cells": [
  {
   "cell_type": "markdown",
   "source": [
    "# Classification\n",
    "\n",
    "Classification is supervised learning with categorical labels. You are given labeled data consisting of features and labels $\\{\\vec{x}_i, \\vec{y}_i\\}$, where $\\vec{y}_i$ is a vector of binary values indicating class membership. An example of $\\vec{y}_i$ that indicates membership of classes \"soluble in THF\", \"insoluble in water\", \"soluble in chloroform\" might be:\n",
    "\n",
    "|  THF  | water | chloroform |\n",
    "|:------|:-----:| ----------:|\n",
    "|   1   |   0   |   1        |\n",
    "\n",
    "where we've indicated that the molecule in soluble in THF and chloroform but not water. As a vector, it is $\\vec{y} = (1, 0, 1) $.  This is the general format of classification and can be called **multi-label** classification because we are attaching three labels: THF soluble, water insoluble, chloroform soluble. This can be restricted so that each data point belongs to only one class -- called **multi-class** classification. This might be like assigning visible color. A molecule can only be red or green or orange, but not multiple colors. Finally, you can only have one class and a label can only belong to the single class or does not belong to the single class. This is called **binary** classification and is the most common classification type. If you're doing multi-label or multi-class classification, the shape of $\\vec{y}$ will be a vector length $K$ where $K$ indicates number of classes. In the case of binary classification, the label is a binary value of 1 or 0 where 1 means it is a member of the class. You can view this as there being two classes: a **positive** class ($y = 1$) and **negative** class ($y = 0$). For example, you could be predicting if a molecule will kill cells. If the molecule is in the positive class, it kills cells. If it is the negative class, it is inert and does not kill cells. Depending on your choice of model type, when you predict the labels ($\\hat{\\vec{y}}$), your model could predict probabilities. \n",
    "\n",
    "```{margin}\n",
    "Note that in multi-class and binary classification $\\sum \\hat{\\vec{y}} = 1$, but \n",
    "in multi-label classification this is not the case. Multi-label classification is like doing $K$ instances of binary classification. \n",
    "```\n",
    "\n",
    "The goal of classification to find a function that describes relationship between features and class, $\\hat{f}(\\vec{x}) = \\hat{y}$. We'll see that this problem can be converted to regression by using probability or *distance from decision boundary*. This means much of what we learned previously can be applied to this problem.\n",
    "\n",
    "The classic application of classification is designing new drugs, but it's widely used in materials and chemistry. Many molecular design problems can be formulated as classification. For example, you can use it to design new organic photovoltaic materials {cite}`sun2019machine` or antimicrobial peptides {cite}`barrett2018classifying`."
   ],
   "metadata": {}
  },
  {
   "cell_type": "markdown",
   "source": [
    "## Data\n",
    "\n",
    "The dataset for this lecture was prepared by the MoleculeNet group {cite}`wu2018moleculenet`.  It is a collection of molecules that succeeded or failed in clinical trials. The development of a new drug can cost well over a $1 billion, so any way to predict if a molecule will fail during clinical trials is highly valuable. The reason molecules fail in clinical trials is often due to safety, so even though some of these drugs failed because they were not effective there may be something common to each of the failed ones that we can learn.\n",
    "\n",
    "The labels will be the FDA_Approved column which is a 1 or 0 indicating FDA approval status. This is an example of binary classification."
   ],
   "metadata": {}
  },
  {
   "cell_type": "markdown",
   "source": [
    "## Running This Notebook\n",
    "\n",
    "\n",
    "Click the &nbsp;<i aria-label=\"Launch interactive content\" class=\"fas fa-rocket\"></i>&nbsp; above to launch this page as an interactive Google Colab. See details below on installing packages, either on your own environment or on Google Colab. We have a new package for this chapter, which can be installed with `pip install mordred[full]`. The complete instructions are:\n",
    "\n",
    "````{tip} My title\n",
    ":class: dropdown\n",
    "To install packages, execute this code in a new cell\n",
    "\n",
    "```sh\n",
    "!pip install jupyter-book matplotlib numpy jaxlib jax pandas seaborn tabulate sklearn mordred[full] rdkit-pypi\n",
    "```\n",
    "\n",
    "````\n",
    "\n",
    "The hidden cell below does our imports"
   ],
   "metadata": {}
  },
  {
   "cell_type": "code",
   "execution_count": 1,
   "source": [
    "import pandas as pd\n",
    "import matplotlib.pyplot as plt\n",
    "import seaborn as sns\n",
    "import matplotlib as mpl\n",
    "import rdkit, rdkit.Chem, rdkit.Chem.Draw\n",
    "from rdkit.Chem.Draw import IPythonConsole\n",
    "import numpy as np\n",
    "import jax.numpy as jnp\n",
    "import mordred, mordred.descriptors\n",
    "import jax.experimental.optimizers as optimizers\n",
    "import jax\n",
    "import warnings\n",
    "from zipfile import ZipFile\n",
    "\n",
    "warnings.filterwarnings(\"ignore\")\n",
    "IPythonConsole.ipython_useSVG = True\n",
    "sns.set_context(\"notebook\")\n",
    "sns.set_style(\n",
    "    \"dark\",\n",
    "    {\n",
    "        \"xtick.bottom\": True,\n",
    "        \"ytick.left\": True,\n",
    "        \"xtick.color\": \"#666666\",\n",
    "        \"ytick.color\": \"#666666\",\n",
    "        \"axes.edgecolor\": \"#666666\",\n",
    "        \"axes.linewidth\": 0.8,\n",
    "        \"figure.dpi\": 300,\n",
    "    },\n",
    ")\n",
    "color_cycle = [\"#1BBC9B\", \"#F06060\", \"#5C4B51\", \"#F3B562\", \"#6e5687\"]\n",
    "mpl.rcParams[\"axes.prop_cycle\"] = mpl.cycler(color=color_cycle)\n",
    "np.random.seed(0)\n"
   ],
   "outputs": [],
   "metadata": {
    "tags": [
     "hide-cell"
    ]
   }
  },
  {
   "cell_type": "markdown",
   "source": [
    "Now we load the data. This is a little fancy because we're extracting the data file from a zip archive on a website. "
   ],
   "metadata": {}
  },
  {
   "cell_type": "code",
   "execution_count": 2,
   "source": [
    "from zipfile import ZipFile\n",
    "from io import BytesIO\n",
    "from urllib.request import urlopen\n",
    "\n",
    "# from web version\n",
    "# url = 'https://deepchemdata.s3-us-west-1.amazonaws.com/datasets/clintox.csv.gz'\n",
    "# file = urlopen(url).read()\n",
    "# file = BytesIO(file)\n",
    "# document = ZipFile(file)\n",
    "# toxdata = pd.read_csv(document.open('clintox.csv'))\n",
    "# local version\n",
    "toxdata = pd.read_csv(\n",
    "    \"https://github.com/whitead/dmol-book/raw/master/data/clintox.csv.gz\"\n",
    ")\n",
    "toxdata.head()\n"
   ],
   "outputs": [
    {
     "output_type": "execute_result",
     "data": {
      "text/plain": [
       "                                              smiles  FDA_APPROVED  CT_TOX\n",
       "0            *C(=O)[C@H](CCCCNC(=O)OCCOC)NC(=O)OCCOC             1       0\n",
       "1  [C@@H]1([C@@H]([C@@H]([C@H]([C@@H]([C@@H]1Cl)C...             1       0\n",
       "2  [C@H]([C@@H]([C@@H](C(=O)[O-])O)O)([C@H](C(=O)...             1       0\n",
       "3  [H]/[NH+]=C(/C1=CC(=O)/C(=C\\C=c2ccc(=C([NH3+])...             1       0\n",
       "4  [H]/[NH+]=C(\\N)/c1ccc(cc1)OCCCCCOc2ccc(cc2)/C(...             1       0"
      ],
      "text/html": [
       "<div>\n",
       "<style scoped>\n",
       "    .dataframe tbody tr th:only-of-type {\n",
       "        vertical-align: middle;\n",
       "    }\n",
       "\n",
       "    .dataframe tbody tr th {\n",
       "        vertical-align: top;\n",
       "    }\n",
       "\n",
       "    .dataframe thead th {\n",
       "        text-align: right;\n",
       "    }\n",
       "</style>\n",
       "<table border=\"1\" class=\"dataframe\">\n",
       "  <thead>\n",
       "    <tr style=\"text-align: right;\">\n",
       "      <th></th>\n",
       "      <th>smiles</th>\n",
       "      <th>FDA_APPROVED</th>\n",
       "      <th>CT_TOX</th>\n",
       "    </tr>\n",
       "  </thead>\n",
       "  <tbody>\n",
       "    <tr>\n",
       "      <th>0</th>\n",
       "      <td>*C(=O)[C@H](CCCCNC(=O)OCCOC)NC(=O)OCCOC</td>\n",
       "      <td>1</td>\n",
       "      <td>0</td>\n",
       "    </tr>\n",
       "    <tr>\n",
       "      <th>1</th>\n",
       "      <td>[C@@H]1([C@@H]([C@@H]([C@H]([C@@H]([C@@H]1Cl)C...</td>\n",
       "      <td>1</td>\n",
       "      <td>0</td>\n",
       "    </tr>\n",
       "    <tr>\n",
       "      <th>2</th>\n",
       "      <td>[C@H]([C@@H]([C@@H](C(=O)[O-])O)O)([C@H](C(=O)...</td>\n",
       "      <td>1</td>\n",
       "      <td>0</td>\n",
       "    </tr>\n",
       "    <tr>\n",
       "      <th>3</th>\n",
       "      <td>[H]/[NH+]=C(/C1=CC(=O)/C(=C\\C=c2ccc(=C([NH3+])...</td>\n",
       "      <td>1</td>\n",
       "      <td>0</td>\n",
       "    </tr>\n",
       "    <tr>\n",
       "      <th>4</th>\n",
       "      <td>[H]/[NH+]=C(\\N)/c1ccc(cc1)OCCCCCOc2ccc(cc2)/C(...</td>\n",
       "      <td>1</td>\n",
       "      <td>0</td>\n",
       "    </tr>\n",
       "  </tbody>\n",
       "</table>\n",
       "</div>"
      ]
     },
     "metadata": {},
     "execution_count": 2
    }
   ],
   "metadata": {}
  },
  {
   "cell_type": "markdown",
   "source": [
    "## Molecular Descriptors\n",
    "\n",
    "This time, our data does not come with pre-computed descriptors. We only have the SMILES string, which is a way of writing a molecule using letters and numbers (a string). We can use rdkit to convert the SMILES string into a molecule, and then we can use a package called Mordred {cite}`moriwaki2018mordred` to compute a set of descriptors for each molecule. This package will compute around 1500 descriptors for each molecule. \n",
    "\n",
    "We'll start by converting our molecules into rdkit objects and building a calculator to compute the descriptors."
   ],
   "metadata": {}
  },
  {
   "cell_type": "code",
   "execution_count": 3,
   "source": [
    "\n",
    "# make object that can compute descriptors\n",
    "calc = mordred.Calculator(mordred.descriptors, ignore_3D=True)\n",
    "# make subsample from pandas df\n",
    "molecules = [rdkit.Chem.MolFromSmiles(smi) for smi in toxdata.smiles]\n",
    "\n",
    "# view one molecule to make sure things look good.\n",
    "molecules[0]"
   ],
   "outputs": [
    {
     "output_type": "stream",
     "name": "stderr",
     "text": [
      "RDKit ERROR: [16:29:12] Explicit valence for atom # 0 N, 5, is greater than permitted\n",
      "RDKit ERROR: [16:29:12] Can't kekulize mol.  Unkekulized atoms: 9\n",
      "RDKit ERROR: \n",
      "RDKit ERROR: [16:29:12] Explicit valence for atom # 10 N, 4, is greater than permitted\n",
      "RDKit ERROR: [16:29:12] Explicit valence for atom # 10 N, 4, is greater than permitted\n",
      "RDKit ERROR: [16:29:12] Can't kekulize mol.  Unkekulized atoms: 4\n",
      "RDKit ERROR: \n",
      "RDKit ERROR: [16:29:12] Can't kekulize mol.  Unkekulized atoms: 4\n",
      "RDKit ERROR: \n"
     ]
    },
    {
     "output_type": "execute_result",
     "data": {
      "text/plain": [
       "<rdkit.Chem.rdchem.Mol at 0x7f1944f68d00>"
      ],
      "image/png": "[encoded data removed]"
     },
     "metadata": {},
     "execution_count": 3
    }
   ],
   "metadata": {}
  },
  {
   "cell_type": "markdown",
   "source": [
    "Some of our molecules failed to be converted. We'll have to remove them. We need to remember which ones were deleted too, since we need to remove the failed molecules from the labels."
   ],
   "metadata": {}
  },
  {
   "cell_type": "code",
   "execution_count": 4,
   "source": [
    "# the invalid molecules were None, so we'll just\n",
    "# use the fact the None is False in Python\n",
    "valid_mol_idx = [bool(m) for m in molecules]\n",
    "valid_mols = [m for m in molecules if m]"
   ],
   "outputs": [],
   "metadata": {}
  },
  {
   "cell_type": "code",
   "execution_count": 5,
   "source": [
    "features = calc.pandas(valid_mols)"
   ],
   "outputs": [
    {
     "output_type": "stream",
     "name": "stderr",
     "text": [
      "100%|██████████| 1478/1478 [02:44<00:00,  8.97it/s]\n"
     ]
    }
   ],
   "metadata": {
    "tags": [
     "remove-output"
    ]
   }
  },
  {
   "cell_type": "markdown",
   "source": [
    "Now we just need to stich everything back together so that our labels are consistent and standardize our features. "
   ],
   "metadata": {}
  },
  {
   "cell_type": "code",
   "execution_count": 6,
   "source": [
    "labels = toxdata[valid_mol_idx].FDA_APPROVED\n",
    "features -= features.mean()\n",
    "features /= features.std()\n",
    "\n",
    "# we have some nans in features, likely because std was 0\n",
    "features.dropna(inplace=True, axis=1)\n",
    "\n",
    "print(f'We have {len(features.columns)} features per molecule')"
   ],
   "outputs": [
    {
     "output_type": "stream",
     "name": "stdout",
     "text": [
      "We have 483 features per molecule\n"
     ]
    }
   ],
   "metadata": {}
  },
  {
   "cell_type": "markdown",
   "source": [
    "## Classification Models\n",
    "\n",
    "### Linear Perceptron\n",
    "\n",
    "We are able to predict singles values from regression. How can we go from a predicted value to a class? The simplest answer is to take our out from $\\hat{f}(\\vec{x})$ and assign $\\hat{y} = 1$ when $\\hat{f}(\\vec{x}) > 0$,  $\\hat{y} = 0$ otherwise. Our model equation is then:\n",
    "\n",
    "\\begin{equation}\n",
    "\\hat{f}(\\vec{x}) = \\begin{cases} \n",
    "      1 & \\vec{w}\\cdot \\vec{x} + b \\geq 0 \\\\\n",
    "      0 & \\textrm{otherwise}\\\\\n",
    "   \\end{cases}\n",
    "\\end{equation}\n",
    "\n",
    "The term $\\vec{w}\\cdot \\vec{x} + b$ is called **distance from the decision boundary** where the decision boundary is at $\\vec{w}\\cdot \\vec{x} + b = 0$. If it is large, we are far away from classifying it as 0. If it is small, we are close to classifying it as 0. It can be loosely thought of as \"confidence\". "
   ],
   "metadata": {}
  },
  {
   "cell_type": "code",
   "execution_count": 7,
   "source": [
    "def perceptron(x, w, b):\n",
    "    v = jnp.dot(x, w) + b\n",
    "    y = jnp.where(v > 0, x = jnp.zeros_like(v), y = jnp.ones_like(v))\n",
    "    return y"
   ],
   "outputs": [],
   "metadata": {}
  },
  {
   "cell_type": "markdown",
   "source": [
    "This particular model is called a **perceptron** and is the first neural network for classification. It was invented in 1958 by Frank Rosenblatt, a psychologist at Cornell University. It was not the first neural network, but is often the first one that students learn. The perceptron is an example of a **hard** classifier; it does not predict probability of the class and instead predicts exactly one class. \n",
    "\n",
    "\n",
    "Now that we have a model, we must choose a loss function. We haven't learned about many loss functions yet. We've only seen mean squared error. Let us begin with a related loss called mean absolute error (MAE). MAE measures disagreement between our class and the predicted class. This is like an accuracy -- what percentage of the time we're correct.\n",
    "\n",
    "\\begin{equation}\n",
    "    L = \\frac{1}{N} \\sum_i  \\left|y_i - \\hat{y}_i\\right|\n",
    "\\end{equation}"
   ],
   "metadata": {}
  },
  {
   "cell_type": "code",
   "execution_count": 8,
   "source": [
    "def loss(y, yhat):\n",
    "    return jnp.mean(jnp.abs(y - yhat))\n",
    "\n",
    "\n",
    "def loss_wrapper(w, b, x, y):\n",
    "    yhat = perceptron(x, w, b)\n",
    "    return loss(y, yhat)\n",
    "\n",
    "\n",
    "loss_grad = jax.grad(loss_wrapper, (0, 1))\n",
    "\n"
   ],
   "outputs": [],
   "metadata": {}
  },
  {
   "cell_type": "code",
   "execution_count": 9,
   "source": [
    "batch_size = 32\n",
    "train_N = int(len(labels) * 0.8)\n",
    "\n",
    "\n",
    "N = len(labels)\n",
    "batch_idx = range(0, train_N, batch_size)\n",
    "w = np.random.normal(size=len(features.columns))\n",
    "\n",
    "\n",
    "loss_grad = jax.grad(loss_wrapper, (0, 1))\n",
    "\n",
    "\n",
    "test_x = features[train_N:].values.astype(np.float32)\n",
    "test_y = labels[train_N:].values"
   ],
   "outputs": [],
   "metadata": {}
  },
  {
   "cell_type": "markdown",
   "source": [
    "Let's now try out our gradient to make sure it works"
   ],
   "metadata": {}
  },
  {
   "cell_type": "code",
   "execution_count": 10,
   "source": [
    "loss_grad(w,b, test_x, test_y)"
   ],
   "outputs": [
    {
     "output_type": "stream",
     "name": "stderr",
     "text": [
      "WARNING:absl:No GPU/TPU found, falling back to CPU. (Set TF_CPP_MIN_LOG_LEVEL=0 and rerun for more info.)\n"
     ]
    },
    {
     "output_type": "execute_result",
     "data": {
      "text/plain": [
       "(array([0., 0., 0., 0., 0., 0., 0., 0., 0., 0., 0., 0., 0., 0., 0., 0., 0.,\n",
       "        0., 0., 0., 0., 0., 0., 0., 0., 0., 0., 0., 0., 0., 0., 0., 0., 0.,\n",
       "        0., 0., 0., 0., 0., 0., 0., 0., 0., 0., 0., 0., 0., 0., 0., 0., 0.,\n",
       "        0., 0., 0., 0., 0., 0., 0., 0., 0., 0., 0., 0., 0., 0., 0., 0., 0.,\n",
       "        0., 0., 0., 0., 0., 0., 0., 0., 0., 0., 0., 0., 0., 0., 0., 0., 0.,\n",
       "        0., 0., 0., 0., 0., 0., 0., 0., 0., 0., 0., 0., 0., 0., 0., 0., 0.,\n",
       "        0., 0., 0., 0., 0., 0., 0., 0., 0., 0., 0., 0., 0., 0., 0., 0., 0.,\n",
       "        0., 0., 0., 0., 0., 0., 0., 0., 0., 0., 0., 0., 0., 0., 0., 0., 0.,\n",
       "        0., 0., 0., 0., 0., 0., 0., 0., 0., 0., 0., 0., 0., 0., 0., 0., 0.,\n",
       "        0., 0., 0., 0., 0., 0., 0., 0., 0., 0., 0., 0., 0., 0., 0., 0., 0.,\n",
       "        0., 0., 0., 0., 0., 0., 0., 0., 0., 0., 0., 0., 0., 0., 0., 0., 0.,\n",
       "        0., 0., 0., 0., 0., 0., 0., 0., 0., 0., 0., 0., 0., 0., 0., 0., 0.,\n",
       "        0., 0., 0., 0., 0., 0., 0., 0., 0., 0., 0., 0., 0., 0., 0., 0., 0.,\n",
       "        0., 0., 0., 0., 0., 0., 0., 0., 0., 0., 0., 0., 0., 0., 0., 0., 0.,\n",
       "        0., 0., 0., 0., 0., 0., 0., 0., 0., 0., 0., 0., 0., 0., 0., 0., 0.,\n",
       "        0., 0., 0., 0., 0., 0., 0., 0., 0., 0., 0., 0., 0., 0., 0., 0., 0.,\n",
       "        0., 0., 0., 0., 0., 0., 0., 0., 0., 0., 0., 0., 0., 0., 0., 0., 0.,\n",
       "        0., 0., 0., 0., 0., 0., 0., 0., 0., 0., 0., 0., 0., 0., 0., 0., 0.,\n",
       "        0., 0., 0., 0., 0., 0., 0., 0., 0., 0., 0., 0., 0., 0., 0., 0., 0.,\n",
       "        0., 0., 0., 0., 0., 0., 0., 0., 0., 0., 0., 0., 0., 0., 0., 0., 0.,\n",
       "        0., 0., 0., 0., 0., 0., 0., 0., 0., 0., 0., 0., 0., 0., 0., 0., 0.,\n",
       "        0., 0., 0., 0., 0., 0., 0., 0., 0., 0., 0., 0., 0., 0., 0., 0., 0.,\n",
       "        0., 0., 0., 0., 0., 0., 0., 0., 0., 0., 0., 0., 0., 0., 0., 0., 0.,\n",
       "        0., 0., 0., 0., 0., 0., 0., 0., 0., 0., 0., 0., 0., 0., 0., 0., 0.,\n",
       "        0., 0., 0., 0., 0., 0., 0., 0., 0., 0., 0., 0., 0., 0., 0., 0., 0.,\n",
       "        0., 0., 0., 0., 0., 0., 0., 0., 0., 0., 0., 0., 0., 0., 0., 0., 0.,\n",
       "        0., 0., 0., 0., 0., 0., 0., 0., 0., 0., 0., 0., 0., 0., 0., 0., 0.,\n",
       "        0., 0., 0., 0., 0., 0., 0., 0., 0., 0., 0., 0., 0., 0., 0., 0., 0.,\n",
       "        0., 0., 0., 0., 0., 0., 0.], dtype=float32),\n",
       " array(0., dtype=float32))"
      ]
     },
     "metadata": {},
     "execution_count": 10
    }
   ],
   "metadata": {}
  },
  {
   "cell_type": "code",
   "execution_count": 11,
   "source": [
    "from myst_nb import glue\n",
    "\n",
    "x = np.linspace(-3, 3, 500)\n",
    "y = 1 / (1 + np.exp(-x))\n",
    "plt.plot(x, y)\n",
    "plt.xlabel(r\"$x$\")\n",
    "plt.ylabel(r\"$\\sigma(x)$\")\n",
    "plt.axvline(0, color=\"gray\")\n",
    "plt.title(\"Sigmoid\")\n",
    "glue(\"sigmoid\", plt.gcf(), display=False)\n",
    "\n"
   ],
   "outputs": [
    {
     "output_type": "display_data",
     "data": {
      "application/papermill.record/text/plain": "<Figure size 432x288 with 1 Axes>",
      "application/papermill.record/image/png": "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\n"
     },
     "metadata": {
      "scrapbook": {
       "mime_prefix": "application/papermill.record/",
       "name": "sigmoid"
      }
     }
    },
    {
     "output_type": "display_data",
     "data": {
      "text/plain": [
       "<Figure size 432x288 with 1 Axes>"
      ],
      "image/png": "[encoded data removed]"
     },
     "metadata": {}
    }
   ],
   "metadata": {
    "tags": [
     "remove-cell"
    ]
   }
  },
  {
   "cell_type": "markdown",
   "source": [
    "It's all zeros! Why is that? It's because our {obj}`jnp.where<jax.numpy.where>` statement above is not differentiable, nor are any inequalities where the result is a constant (`1` or `0` in our case). The perceptron actually has a special training procedure that is not related to its derivatives. One of the motivating reasons that deep learning is popular is that we do not need to construct a special training process for each model we construct -- like the training procedure for the perceptron. \n",
    "\n",
    "Rather than teach and discuss the special perceptron training procedure, we'll move to a more modern related classifier called a softmax binary classifier. This is a tiny change, the softmax binary classifier is:\n",
    "\n",
    "\\begin{equation}\n",
    "\\hat{f}(\\vec{x}) = \\sigma\\left(\\vec{w}\\cdot \\vec{x} + b\\right)\n",
    "\\end{equation}\n",
    "\n",
    "```{glue:figure} sigmoid\n",
    "----\n",
    "name: simgoid\n",
    "----\n",
    "The sigmoid function. Input is any real number and the output is a probability. Positive numbers map to probabilities greater than 0.5 and negative numbers to probabilities less than 0.5. \n",
    "```\n",
    "\n",
    "```{margin}\n",
    "Softmax is the generalization of sigmoid to multiple classes. Although we call our binary classifier a softmax classifier, it doesn't use the softmax function.\n",
    "```\n",
    "\n",
    "where $\\sigma$ is the **sigmoid** function. The sigmoid has a domain of $(-\\infty, \\infty)$ and outputs a probability $(0, 1)$. The input to the sigmoid can be viewed as log-odds, called **logits** for short. Odds are ratios of probability -- odds of 1 means the probability of the class 1 is 0.5 and class 0 is 0.5. Odds of 2 means the probability of class 1 is 0.67 and class 0 is 0.33. Log-odds is the natural logarithm of that, so that log-odds of 0 means the odds are 1 and the output probability should be 0.5. One definition of the sigmoid is \n",
    "\n",
    "\\begin{equation}\n",
    "\\sigma(x) = \\frac{1}{1 + e^{-x}}\n",
    "\\end{equation}\n",
    "\n",
    "however in practice there are some complexities to implementing sigmoids to make sure they're numerically stable. This type of binary classifier is sometimes called **logistic regression** because we're regressing logits. \n",
    "\n",
    "In essence, all we've done is replacing the inequality of the perceptron with a smooth differentiable version. Just like previously, a positive number indicated class 1 (FDA approved) but now it's a continuum of numbers from 0.5 to 1.0. This is **soft** classification -- we give probabilities of class membership instead of hard assignment. However, our loss function now needs to be modified as well. "
   ],
   "metadata": {}
  },
  {
   "cell_type": "markdown",
   "source": [
    "There is a different loss function that works better with classification called **cross-entropy**. You can experiment with mean absolute error or mean squared error with classification, but you'll find they are almost always worse than cross-entropy.\n",
    "\n",
    "Cross-entropy is a loss function that describes distance between two probability distributions. When minimized, the two probability distributions are identical. Cross-entropy is a simplification of the [Kullback–Leibler divergence](https://en.wikipedia.org/wiki/Kullback%E2%80%93Leibler_divergence) which is a way to measure distance between two probability distributions. Technically it is not a distance since it's not symmetric with respect to its arguments. But in practice it is close enough to a distance that we treat it as one. \n",
    "\n",
    "How is comparing predicted values $\\hat{y}$ and $y$ like comparing two probability distributions? Even though these are both 1s and 0s in the case of hard classification, they do sum to 1, and so we consider them probability distributions. Cross-entropy is defined as:\n",
    "\n",
    "\\begin{equation}\n",
    "    L = -\\sum_c^K y_c \\log \\hat{y_c}\n",
    "\\end{equation}\n",
    "\n",
    "where $c$ indicates which class of the $K$ we're considering, and it's assumed that $\\sum_c^K y_c = 1$ and $\\sum_c^K \\hat{y}_c = 1$ like probabilities (and they are positive). In the case of binary classification (only two classes), this becomes:\n",
    "\n",
    "\\begin{equation}\n",
    "    L = -\\left[ y_0 \\log \\hat{y_0} + y_1 \\log \\hat{y_1} \\right]\n",
    "\\end{equation}\n",
    "\n",
    "where $y_0$ is for the first class and $y_1$ is for the second class. However, we also know that because these are probabilities that $y_1 = 1 - y_0$. We can rewrite to:\n",
    "\n",
    "\\begin{equation}\n",
    "    L = -\\left[ y_0 \\log \\hat{y_0} + (1 - y_0) \\log ( 1- \\hat{y_0}) \\right]\n",
    "\\end{equation}\n",
    "\n",
    "Finally, we can drop the indication of the class:\n",
    "\n",
    "\\begin{equation}\n",
    "    L = -\\left[ y \\log \\hat{y} + (1 - y) \\log ( 1- \\hat{y}) \\right]\n",
    "\\end{equation}\n",
    "\n",
    "\n",
    "```{margin}\n",
    "The correct way to avoid numerical instability in cross-entropy sigmoid classification is to have your model output the logits and you use a loss function that works on logits instead of probability. For example, {obj}`tf.nn.sigmoid_cross_entropy_with_logits`.\n",
    "```\n",
    "and this matches our data, where we have a single value for each label indicating if it is a class member. Now we have features, labels, loss, and a model. Let's create a batched gradient descent algorithm to train our classifier. Note, one change we need to do is use the built-in jax {obj}`jax.nn.sigmoid` function to avoid numerical instabilities and also add a small number to all logs to avoid numerical instabilities."
   ],
   "metadata": {}
  },
  {
   "cell_type": "code",
   "execution_count": 12,
   "source": [
    "def bin_classifier(x, w, b):\n",
    "    v = jnp.dot(x, w) + b\n",
    "    y = jax.nn.sigmoid(v)\n",
    "    return y\n",
    "\n",
    "\n",
    "def cross_ent(y, yhat):\n",
    "    return jnp.mean(-(y * jnp.log(yhat + 1e-10) + (1 - y) * jnp.log(1 - yhat + 1e-10)))\n",
    "\n",
    "\n",
    "def loss_wrapper(w, b, x, y):\n",
    "    yhat = bin_classifier(x, w, b)\n",
    "    return cross_ent(y, yhat)\n",
    "\n",
    "\n",
    "loss_grad = jax.grad(loss_wrapper, (0, 1))\n",
    "w = np.random.normal(scale=0.01, size=len(features.columns))\n",
    "b = 1.0\n",
    "\n"
   ],
   "outputs": [],
   "metadata": {}
  },
  {
   "cell_type": "code",
   "execution_count": 13,
   "source": [
    "loss_progress = []\n",
    "test_loss_progress = []\n",
    "eta = 0.2\n",
    "for epoch in range(5):\n",
    "    for i in range(len(batch_idx) - 1):\n",
    "        x = features[batch_idx[i] : batch_idx[i + 1]].values.astype(np.float32)\n",
    "        y = labels[batch_idx[i] : batch_idx[i + 1]].values\n",
    "        grad = loss_grad(w, b, x, y)\n",
    "        w -= eta * grad[0]\n",
    "        b -= eta * grad[1]\n",
    "        loss_progress.append(loss_wrapper(w, b, x, y))\n",
    "        test_loss_progress.append(loss_wrapper(w, b, test_x, test_y))\n",
    "plt.plot(loss_progress, label=\"Training Loss\")\n",
    "plt.plot(test_loss_progress, label=\"Testing Loss\")\n",
    "\n",
    "plt.xlabel(\"Step\")\n",
    "plt.legend()\n",
    "plt.ylabel(\"Loss\")\n",
    "plt.show()\n"
   ],
   "outputs": [
    {
     "output_type": "display_data",
     "data": {
      "text/plain": [
       "<Figure size 432x288 with 1 Axes>"
      ],
      "image/png": "[encoded data removed]"
     },
     "metadata": {}
    }
   ],
   "metadata": {}
  },
  {
   "cell_type": "markdown",
   "source": [
    "We are making good progress with our classifier, as judged from testing loss. You can run the code, longer but I'll leave it at that. We have a reasonably well-trained model."
   ],
   "metadata": {}
  },
  {
   "cell_type": "markdown",
   "source": [
    "## Classification Metrics\n",
    "\n",
    "In regression, we assessed model performance with a parity plot, correlation coefficient, or mean squared error. In classification, we use slightly different metrics. The first metric is **accuracy**. Accuracy is the percentage of time that the predicted label matches the true label. We do not have a hard classifier, so we have to choose how to turn probability into a specific class. For now, we will choose the class with the highest probability. Let's see how this looks"
   ],
   "metadata": {}
  },
  {
   "cell_type": "code",
   "execution_count": 14,
   "source": [
    "def accuracy(y, yhat):\n",
    "    # convert from prob to hard class\n",
    "    hard_yhat = np.where(yhat > 0.5, np.ones_like(yhat), np.zeros_like(yhat))\n",
    "    disagree = np.sum(np.abs(y - yhat))\n",
    "    return 1 - disagree / len(y)\n",
    "\n",
    "\n",
    "accuracy(test_y, bin_classifier(test_x, w, b))\n"
   ],
   "outputs": [
    {
     "output_type": "execute_result",
     "data": {
      "text/plain": [
       "0.8269480627936285"
      ]
     },
     "metadata": {},
     "execution_count": 14
    }
   ],
   "metadata": {}
  },
  {
   "cell_type": "code",
   "execution_count": 15,
   "source": [
    "glue('acc', accuracy(test_y, bin_classifier(test_x, w, b)))"
   ],
   "outputs": [
    {
     "output_type": "display_data",
     "data": {
      "text/plain": [
       "0.8269480627936285"
      ]
     },
     "metadata": {
      "scrapbook": {
       "mime_prefix": "",
       "name": "acc"
      }
     }
    }
   ],
   "metadata": {
    "tags": [
     "remove-cell"
    ]
   }
  },
  {
   "cell_type": "markdown",
   "source": [
    "An accuracy of {glue:text}`acc:.2f` seems quite reasonable! However, consider this model:"
   ],
   "metadata": {}
  },
  {
   "cell_type": "code",
   "execution_count": 16,
   "source": [
    "def alt_classifier(x):\n",
    "    return np.ones((x.shape[0]))\n",
    "accuracy(test_y, alt_classifier(test_x))"
   ],
   "outputs": [
    {
     "output_type": "execute_result",
     "data": {
      "text/plain": [
       "0.9087837837837838"
      ]
     },
     "metadata": {},
     "execution_count": 16
    }
   ],
   "metadata": {}
  },
  {
   "cell_type": "markdown",
   "source": [
    "This model, which always returns 1, has better accuracy than our model. How is this possible? \n",
    "\n",
    "```{admonition} Answer\n",
    ":class: tip, dropdown\n",
    "If you examine the data, you'll see the majority of the molecules passed FDA clinical trials ($y = 1$), so that just guessing $1$ is a good strategy.\n",
    "```"
   ],
   "metadata": {}
  },
  {
   "cell_type": "markdown",
   "source": [
    "### Error Types\n",
    "\n",
    "Let's recall what we're trying to do. We're trying to predict if a molecule will make it through FDA clinical trials. Our model can be incorrect in two ways: it predicts a molecule will pass through clinical trials, but it actually fails. This is called a false positive. The other error is if we predict our drug will not make it through clinical trials, but it actually does. This is false negative.\n",
    "\n",
    "```{margin}\n",
    "False positive are sometimes known as Type I (pronounced type one) and false negatives as Type II false negatives\n",
    "```\n",
    "\n",
    "Our `alt_classifier` model, which simply reports everything as positive, has no false negative errors. It has many false positive errors. These two types of errors can be quantified. We're going to add one complexity -- **threshold**. Our model provides probabilities which we're converting into hard class memberships -- 1s and 0s. We have been choosing to just take the most probable class. However, we will now instead choose a threshold for when we report a positive (class 1). The rationale is that although we train our model to minimize cross-entropy, we may want to be more conservative or aggressive in our classification with the trained model. If we want to minimize false negatives, we can lower the threshold and report even predictions that have a probability of 30% as positive. Or, if we want to minimize false positives we may set our threshold so that our model must predict above 90% before we predict a positive."
   ],
   "metadata": {}
  },
  {
   "cell_type": "code",
   "execution_count": 17,
   "source": [
    "def error_types(y, yhat, threshold):\n",
    "    hard_yhat = np.where(yhat >= threshold, np.ones_like(yhat), np.zeros_like(yhat))\n",
    "    # predicted 1, actually was 0 -> 1 (bool to remove predicted 0, actually was 1)\n",
    "    fp = np.sum((hard_yhat - y) > 0)\n",
    "    # predicted 0, actually was 1 -> 1 (bool to remove predicted 1, actually was 0)\n",
    "    fn = np.sum((y - hard_yhat) > 0)\n",
    "    return fp, fn\n"
   ],
   "outputs": [],
   "metadata": {}
  },
  {
   "cell_type": "code",
   "execution_count": 18,
   "source": [
    "print('Alt Classifier', error_types(test_y, alt_classifier(test_x), 0.5))\n",
    "print('Trained Classifier', error_types(test_y, bin_classifier(test_x, w, b), 0.5))"
   ],
   "outputs": [
    {
     "output_type": "stream",
     "name": "stdout",
     "text": [
      "Alt Classifier (27, 0)\n",
      "Trained Classifier (20, 20)\n"
     ]
    }
   ],
   "metadata": {}
  },
  {
   "cell_type": "markdown",
   "source": [
    "Now we have a better sense of how our model does in comparison. The number of errors is indeed larger for our trained model, but it has a bit of balance between the two errors. What is more important? In our case, I would argue doing clinical trials that fail is worse than mistakenly not starting them. That is, false positives are worse than false negatives. Let's see if we can tune our threshold value to minimize false positives. "
   ],
   "metadata": {}
  },
  {
   "cell_type": "code",
   "execution_count": 19,
   "source": [
    "print('Threshold 0.7', error_types(test_y, bin_classifier(test_x, w, b), 0.7))\n",
    "print('Threshold 0.9', error_types(test_y, bin_classifier(test_x, w, b), 0.9))\n",
    "print('Threshold 0.95', error_types(test_y, bin_classifier(test_x, w, b), 0.95))\n",
    "print('Threshold 0.99', error_types(test_y, bin_classifier(test_x, w, b), 0.99))\n"
   ],
   "outputs": [
    {
     "output_type": "stream",
     "name": "stdout",
     "text": [
      "Threshold 0.7 (18, 26)\n",
      "Threshold 0.9 (9, 82)\n",
      "Threshold 0.95 (6, 120)\n",
      "Threshold 0.99 (1, 218)\n"
     ]
    }
   ],
   "metadata": {}
  },
  {
   "cell_type": "markdown",
   "source": [
    "By adjusting the threshold, we can achieve a balance of error more like what we desire for our model. We're able to have 1 false positives in fact, at the cost of missing 218 of the molecules. Now are we still predicting positives? Are we actually going to get some **true positives?** We can measure that as well"
   ],
   "metadata": {}
  },
  {
   "cell_type": "code",
   "execution_count": 20,
   "source": [
    "total_pos = np.sum(test_y)\n",
    "print('Total positives:', total_pos, 'Predicted Positives:', np.sum(bin_classifier(test_x, w, b) > 0.99))"
   ],
   "outputs": [
    {
     "output_type": "stream",
     "name": "stdout",
     "text": [
      "Total positives: 269 Predicted Positives: 52\n"
     ]
    }
   ],
   "metadata": {}
  },
  {
   "cell_type": "markdown",
   "source": [
    "Yes, our model is actually capable of predicting molecules will pass FDA clinical trials with as few false positives as possible (1). A model that is capable of this tuning is an example of a good model. Our other model, that predicts 1s, has good accuracy but we cannot adjust it or try to better balance type I and type II errors. "
   ],
   "metadata": {}
  },
  {
   "cell_type": "markdown",
   "source": [
    "### Receiver-Operating Characteristic Curve\n",
    "\n",
    "We can plot threshold, false positive rate, and true positive rate all together on one plot to capture model accuracy and balance between error type in a Receiver-Operating Characteristic Curve (ROC curve). The x-axis of ROC curve is false positive rate and y-axis is true positive rate. Each point on the plot is our model with a different threshold. How do we choose which thresholds to use? Well it's just the number of unique class probabilities we saw. We do need to add two extremes: all positive and all negative.  So for example, our alt model will only have one point on this curve. Let's make one and discuss what we're seeing."
   ],
   "metadata": {}
  },
  {
   "cell_type": "code",
   "execution_count": 21,
   "source": [
    "unique_threshes = np.unique(bin_classifier(test_x, w, b))\n",
    "fp = []\n",
    "tp = []\n",
    "total_pos = np.sum(test_y)\n",
    "for ut in list(unique_threshes) + [-0.1, 1.01]:\n",
    "    errors = error_types(test_y, bin_classifier(test_x, w, b), ut)\n",
    "    fp.append(errors[0])\n",
    "    tp.append(total_pos - errors[1])\n",
    "\n",
    "# sort them so can plot as a line\n",
    "idx = np.argsort(fp)\n",
    "fpr = np.array(fp)[idx] / (len(test_y) - np.sum(test_y))\n",
    "tpr = np.array(tp)[idx] / np.sum(test_y)\n",
    "\n",
    "# now remove duplicate x-values\n",
    "fpr_nd = []\n",
    "tpr_nd = []\n",
    "last = None\n",
    "for f, t in zip(fpr, tpr):\n",
    "    if last is None or f != last:\n",
    "        last = f\n",
    "        fpr_nd.append(f)\n",
    "        tpr_nd.append(t)\n",
    "\n",
    "plt.plot(fpr_nd, tpr_nd, \"-o\", label=\"Trained Model\")\n",
    "plt.plot([0, 1], [0, 1], label=\"Naive Classifier\")\n",
    "plt.ylabel(\"True Positive Rate\")\n",
    "plt.xlabel(\"False Positive Rate\")\n",
    "plt.legend()\n",
    "plt.show()\n"
   ],
   "outputs": [
    {
     "output_type": "display_data",
     "data": {
      "text/plain": [
       "<Figure size 432x288 with 1 Axes>"
      ],
      "image/png": "[encoded data removed]"
     },
     "metadata": {}
    }
   ],
   "metadata": {}
  },
  {
   "cell_type": "markdown",
   "source": [
    "This plot nicely shows how our trained model is actually sensitive to threshold, so that we could choose to more carefully screen for false negative or false positives. The best curves fall to the top-left of this plot. Our naive classifier is where we return a fixed percentage of examples randomly as positive or negative. You can plot the area under this curve with an integration and this is a good way to measure classifier performance and correctly capture the effect of both false negatives and false positives. The area under the ROC curve is known as the **ROC AUC score** and is preferred to accuracy because it captures the balance of Type I and II errors."
   ],
   "metadata": {}
  },
  {
   "cell_type": "markdown",
   "source": [
    "### Other metrics\n",
    "\n",
    "I will just mention that there are other ways to assess how your model balances the two error types. One major type is called **precision** and **recall**. Precision measures correctness of predicted positives and recall measures number of predicted positives. This can be a good viewpoint when doing molecular screening -- you may want to be very precise in that your proposed molecules are accurate while sacrificing recall. Recall here meaning you do not return very many molecules. Models on the left of an ROC curve are precise. Models at the top have good recall.  There are also F1 scores, likelihoods, and Matthew's correlation coefficient which all try to report one number which balances precision and recall. We will rarely explore these other measures but you should know they exist. \n"
   ],
   "metadata": {}
  },
  {
   "cell_type": "markdown",
   "source": [
    "## Class Imbalance\n",
    "\n",
    "The reason for this uneven amount of false positives and false negatives is that we have very few negative example -- molecules which failed FDA clinical trials. This also explains why just predicting success has a high accuracy. How can we address this problem?\n",
    "\n",
    "The first answer is: is this a problem at all? Perhaps a drug in general will succeed at clinical trials and thus the imbalance in training data reflects what we expect to see in testing. This is clearly not the case, judging from the difficult and large expense of creating new drug molecules. However, this should be the first thing you ask yourself. If you're creating a classifier to detect lung cancer from X-ray images, probably you will have imbalanced training data and at test time, when evaluating patients, you'll also not have 50% of patients having lung cancer. This comes back to the discussion in the [previous chapter](content:training-tata-distribution) about training data distribution. If you're testing data is within your training data distribution, then the class imbalance does not need to be explicitly addressed.\n",
    "\n",
    "The second solution is to somehow weight your training data to appear more like your testing data when you think you do have **label shift**. There are two ways to accomplish this. You could \"augment\" your training data by repeating the minority class until the ratio of minority to majority examples matches the assumed testing data. There are research papers written on this topic, with intuitive results{cite}`chawla2002smote`. You can over-sample minority class but that can lead to a large dataset, so you can also under-sample the majority class. This is a robust approach that is independent to how you train.\n",
    "\n",
    "Another method of weighing data is to modify your loss function to increase the gradient updates applied to minority examples. This is equivalent to saying there is a difference in loss between a false positive vs a false negative. In our case, false positive are rarer and also more important in reality. We already tried minimizing false positives by changing the threshold on a trained model but let's see how this works during training. We'll create a weight vector that is high for negative labels so that if they are misclassified (false positive), there will be a bigger update.\n"
   ],
   "metadata": {}
  },
  {
   "cell_type": "code",
   "execution_count": 22,
   "source": [
    "def bin_classifier(x, w, b):\n",
    "    v = jnp.dot(x, w) + b\n",
    "    y = jax.nn.sigmoid(v)\n",
    "    return y\n",
    "\n",
    "\n",
    "def weighted_cross_ent(y, yhat, yw):\n",
    "    # weights may not be normalized\n",
    "    N = jnp.sum(yw)\n",
    "    # use weighted sum instead\n",
    "    return (\n",
    "        jnp.sum(\n",
    "            -(yw * y * jnp.log(yhat + 1e-10) + yw * (1 - y) * jnp.log(1 - yhat + 1e-10))\n",
    "        )\n",
    "        / N\n",
    "    )\n",
    "\n",
    "\n",
    "def loss_wrapper(w, b, x, y, yw):\n",
    "    yhat = bin_classifier(x, w, b)\n",
    "    return weighted_cross_ent(y, yhat, yw)\n",
    "\n",
    "\n",
    "loss_grad = jax.grad(loss_wrapper, (0, 1))\n",
    "w2 = np.random.normal(scale=0.01, size=len(features.columns))\n",
    "b2 = 1.0\n",
    "weights = np.ones_like(labels)\n",
    "# make the labels = 0 values be much larger\n",
    "weights[labels.values == 0] *= 1000\n",
    "# now make weights be on average 1\n",
    "# to keep our learning rate/avg update consistent\n",
    "weights = weights * len(weights) / np.sum(weights)\n",
    "\n",
    "loss_progress = []\n",
    "test_loss_progress = []\n",
    "eta = 0.2\n",
    "# make epochs larger since this has\n",
    "# very large steps that converge poorly\n",
    "for epoch in range(10):\n",
    "    for i in range(len(batch_idx) - 1):\n",
    "        x = features[batch_idx[i] : batch_idx[i + 1]].values.astype(np.float32)\n",
    "        y = labels[batch_idx[i] : batch_idx[i + 1]].values\n",
    "        yw = weights[batch_idx[i] : batch_idx[i + 1]]\n",
    "        grad = loss_grad(w2, b2, x, y, yw)\n",
    "        w2 -= eta * grad[0]\n",
    "        b2 -= eta * grad[1]\n",
    "        loss_progress.append(loss_wrapper(w2, b2, x, y, yw))\n",
    "        test_loss_progress.append(\n",
    "            loss_wrapper(w2, b2, test_x, test_y, np.ones_like(test_y))\n",
    "        )\n",
    "plt.plot(loss_progress, label=\"Training Loss\")\n",
    "plt.plot(test_loss_progress, label=\"Testing Loss\")\n",
    "\n",
    "plt.xlabel(\"Step\")\n",
    "plt.legend()\n",
    "plt.ylabel(\"Loss\")\n",
    "plt.show()\n",
    "\n",
    "print(\"Normal Classifier\", error_types(test_y, bin_classifier(test_x, w, b), 0.5))\n",
    "print(\"Weighted Classifier\", error_types(test_y, bin_classifier(test_x, w2, b2), 0.5))\n",
    "\n"
   ],
   "outputs": [
    {
     "output_type": "display_data",
     "data": {
      "text/plain": [
       "<Figure size 432x288 with 1 Axes>"
      ],
      "image/png": "[encoded data removed]"
     },
     "metadata": {}
    },
    {
     "output_type": "stream",
     "name": "stdout",
     "text": [
      "Normal Classifier (20, 20)\n",
      "Weighted Classifier (6, 119)\n"
     ]
    }
   ],
   "metadata": {}
  },
  {
   "cell_type": "markdown",
   "source": [
    "Compared to the normal classifier trained above, we have fewer false positives at a threshold of 0.5. However, we also have more false negatives. We saw above that we could tweak this by changing our threshold. Let's see how our model looks on an ROC curve to compare our model trained with weighting with the previous model at all thresholds.\n",
    "\n"
   ],
   "metadata": {}
  },
  {
   "cell_type": "code",
   "execution_count": 23,
   "source": [
    "unique_threshes = np.unique(bin_classifier(test_x, w2, b2))\n",
    "fp = []\n",
    "tp = []\n",
    "total_pos = np.sum(test_y)\n",
    "for ut in list(unique_threshes) + [-0.1, 1.01]:\n",
    "    errors = error_types(test_y, bin_classifier(test_x, w2, b2), ut)\n",
    "    fp.append(errors[0])\n",
    "    tp.append(total_pos - errors[1])\n",
    "\n",
    "# sort them so can plot as a line\n",
    "idx = np.argsort(fp)\n",
    "fpr = np.array(fp)[idx] / (len(test_y) - np.sum(test_y))\n",
    "tpr = np.array(tp)[idx] / np.sum(test_y)\n",
    "\n",
    "# now remove duplicate x-values\n",
    "fpr_nd2 = []\n",
    "tpr_nd2 = []\n",
    "last = None\n",
    "for f, t in zip(fpr, tpr):\n",
    "    if last is None or f != last:\n",
    "        last = f\n",
    "        fpr_nd2.append(f)\n",
    "        tpr_nd2.append(t)\n",
    "\n",
    "plt.plot(fpr_nd, tpr_nd, \"-o\", label=\"Normal Model\")\n",
    "plt.plot(fpr_nd2, tpr_nd2, \"-o\", label=\"Weighted Model\")\n",
    "plt.plot([0, 1], [0, 1], label=\"Naive Classifier\")\n",
    "plt.ylabel(\"True Positive Rate\")\n",
    "plt.xlabel(\"False Positive Rate\")\n",
    "plt.legend()\n",
    "plt.show()\n"
   ],
   "outputs": [
    {
     "output_type": "display_data",
     "data": {
      "text/plain": [
       "<Figure size 432x288 with 1 Axes>"
      ],
      "image/png": "[encoded data removed]"
     },
     "metadata": {}
    }
   ],
   "metadata": {}
  },
  {
   "cell_type": "markdown",
   "source": [
    "It appears our weighted training actually did not improve model performance, except in a small range between 0.25-0.4 false positive rate. It is even worse in the low false positive rate, which is where we would like to operate. In conclusion, we can modify the balance of false positive and false negative through modifications to training. However, we can also modify this after training by affecting the threshold for classification. This post-training procedure gives similar or even slightly better performance in our example. This may not always be the case. You find a recent discussion of the effects of reweighting, including when combined with regularization, in Bryrd and Lipton {cite}`byrd2019effect`. \n",
    "\n",
    "### Screening: no negative examples\n",
    "Class imbalance is common in peptide and drug discovery where screening is used to generate data. Screening typically only contains positive examples, meaning you have literally zero negative examples. This is an active topic of research in a field of **positive-unlabeled learning** {cite}`song2021inferring`\n",
    "\n",
    "\n",
    "## Overfitting\n",
    "\n",
    "The goal of this chapter is to introduce classification. For simplicity, we did not use any of the techniques from the last chapter, except training/testing splitting. You can and should use techniques like Jacknife+ and cross-validation to assess overfitting. Also, our descriptor number was very high, a few hundred, and regularization could be helpful for these models. "
   ],
   "metadata": {}
  },
  {
   "cell_type": "markdown",
   "source": [
    "## Chapter Summary\n",
    "\n",
    "* We introduced classification, which is supervised learning with categorical labels. The labels can be single binary values - representing 2 classes which is binary classification.\n",
    "* We can compute descriptors for molecules using Python packages and do not require them to be part of our dataset\n",
    "* Cross-entropy loss should be used for classification tasks\n",
    "* Classification models (called classifiers) can output distance from decision boundary or, more commonly, probability of class\n",
    "* The Perceptron is an early example of a neural network classifier that has a special training procedure\n",
    "* The sigmoid and soft-max functions convert real numbers into probabilities\n",
    "* Binary classification error can be false positives or false negatives\n",
    "* Accuracy does not distinguish these two errors, so receive-operator characteristic (ROC) curves can be used to assess model performance. Precision and recall are other commonly used measures. \n",
    "* An imbalance of classes in training data is not necessarily a problem and can be addressed by weighting training examples"
   ],
   "metadata": {}
  },
  {
   "cell_type": "markdown",
   "source": [
    "## Exercises\n",
    "\n",
    "### Classification\n",
    "\n",
    "1. Design your own examples of labels for binary, multi-class, and multi-label classification. For example, \"A multi-class label is the country a person lives in. A label for this is a 225 element vector with one non-zero element indicating the country the person lives in.\"\n",
    "\n",
    "2. Write out the equations for cross-entropy in multi-class and multi-label settings. \n",
    "\n",
    "### Data\n",
    "\n",
    "1. Use the dimensional reduction methods from our [first chapter](./introduction.ipynb) to plot the molecules here in 2D. Color the points based on their labels. Do you see any patterns?\n",
    "\n",
    "2. Now, wse clustering to color the molecules. Use an elbow plot to choose your cluster number.\n",
    "\n",
    "### Assessment\n",
    "\n",
    "1. Repeat the model fitting with L1 and L2 regularization and plot them on a ROC curve. What effect does regularization have on these? Choose a strength of 0.1.\n",
    "\n",
    "2. Could you use leave-one-class-out cross-validation in binary classification? Why or why not?\n",
    "\n",
    "3. We said that class imbalance alone has little effect on model training, as long as the testing distribution matches the training distribution. However, can you make an argument using the bias-variance decomposition about why this may not be true with small dataset size?\n",
    "\n",
    "4. Compute the area under the curve of an ROC curve using numerical trapezoidal integration.\n",
    "\n",
    "### Complete Model\n",
    "\n",
    "Do your best to create a binary-classifier for this dataset with regularization and any other methods we learned from this chapter the previous ones. What is the best area under the curve you can achieve?"
   ],
   "metadata": {}
  },
  {
   "cell_type": "markdown",
   "source": [
    "## Cited References\n",
    "\n",
    "```{bibliography}\n",
    ":style: unsrtalpha\n",
    ":filter: docname in docnames\n",
    "```"
   ],
   "metadata": {}
  }
 ],
 "metadata": {
  "celltoolbar": "Tags",
  "kernelspec": {
   "display_name": "Python 3",
   "language": "python",
   "name": "python3"
  },
  "language_info": {
   "codemirror_mode": {
    "name": "ipython",
    "version": 3
   },
   "file_extension": ".py",
   "mimetype": "text/x-python",
   "name": "python",
   "nbconvert_exporter": "python",
   "pygments_lexer": "ipython3",
   "version": "3.7.3"
  }
 },
 "nbformat": 4,
 "nbformat_minor": 4
}
