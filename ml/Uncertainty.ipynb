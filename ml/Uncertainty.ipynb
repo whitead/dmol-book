{
  "nbformat": 4,
  "nbformat_minor": 0,
  "metadata": {
    "colab": {
      "name": "Uncertainty.ipynb",
      "provenance": [],
      "collapsed_sections": []
    },
    "kernelspec": {
      "name": "python3",
      "display_name": "Python 3"
    },
    "language_info": {
      "name": "python"
    }
  },
  "cells": [
    {
      "cell_type": "markdown",
      "metadata": {
        "id": "JLw2mzHDZ01K"
      },
      "source": [
        "Uncertainty for Deep Learning"
      ]
    },
    {
      "cell_type": "code",
      "source": [
        ""
      ],
      "metadata": {
        "id": "bEE-IvUvqUCn"
      },
      "execution_count": null,
      "outputs": []
    },
    {
      "cell_type": "markdown",
      "metadata": {
        "id": "XEkm1UnEkik9"
      },
      "source": [
        "## Uncertainty in Deep Learning \n",
        "As deep learning being widely applied in both scientific and industrial fields such as physics, biology, medication and manufacturing where a small error of model prediction can cause severe consequences, representing model uncertainty is of crucial importance. In gerenal, deep learning models are overconfident about their outputs. In most classification problems, models output predictive probabilities by applying a softmax/sigmoid activation function at the output layer which are often erroneously interpreted as model confidence. Whereas most regression models output the prediction and trying to match it with the true label (a deterministic function). \\\\\n",
        "\n",
        "There are several methods which can be served as model variance (uncertainty) estimation tools mentioned in previous chapters, including cross validation, bootstrap sampling, leave-one-out cross validation, Jackknife and Jackknife+. Cross valiaditon, bootstrap sampling and leave-one-out cross validation could be used to estimate variation of weights by go through the test dataset across different weights. Jackknife+ is more focusing on estimating population parameters (eg. outputs from the neural network) and their standards errors. In a more practical perspective, cross-validation methods compute a statistic on the left-out samples. Most often, they predict the left-out samples by a model built on the kept samples. While jackknifing methods compute a statistic from the kept samples only. All these methods perform uncertainty estimation statistically and they are not predictive. \\\\\n",
        "On the other hand, deep generative models like variational autoencode (VAE) and normalizing flow are able to predict a distribution which could also get uncertainty over prediction. \\\\\n",
        "\n",
        "In this chapter, we are focusing on methods being used in deep learning which are able to give predictive uncertainty. \\\\\n",
        "\n",
        "\n",
        "## Why we need uncertainty for Deep Learning \n",
        "\"All models are wrong, but models that know when they are wrong, are useful.\" <br>\n",
        "\n",
        "Good uncertainty estimates quantify when we can trust the model’s predictions. The probabilistic view of machine learning offers confidence bounds for data analysis and decision making.\n",
        "\n",
        "\n",
        "## Aleatoric Uncertainty vs Epistemic Uncertainty\n",
        "Aleatoric uncertainty is also known as data uncertainty or statistical uncertainty. It arises from the unpredictable, random nature of the physical system under study. For example, data collected from an actual chemical experiment must contains the influence of temperature fluctuation, instrumental error, etc. It couldn't be reduced. In deep learning, the uncertainty arised from data could be passed to the predictions. <br>\n",
        "Epistemic uncertainty is also known as model uncertainty or system uncertainty. It arises from the lack of knowledge of the system in respect to quantities and processes within the system. For example, ***It can be reduced through more comprehensive study. \n",
        "As opposed to uncertainty caused by randomness, uncertainty\n",
        "caused by ignorance can in principle be reduced on the basis of additional information. \n",
        "\n",
        "## Active Learning / Bayesian Optimization\n",
        "Uncertainty could be used in machine learning piplines and optimization procedures. In workflows of Active Learning (AL) and Bayesian Optimization (BO), uncertainty serves as an instructional role to guide the systems accomplishing their decision making in each step. In Active Learning, the objective is to select the most informative observations for updating an existing model for future predictions based on the predictive uncertainty of the current model. Whereas in Bayesian Optimization, the objective is to select and gather the most informative observations for finding the global maximum of a blackbox function modeled by a surrogate model. The informativeness measure are defined using an improvement-based (e.g. probability of improvement or expected improvement), entropy-based, or upper confidence bound (UCB) acquisition function, where the uncertainty of the surrogate model is required. \n",
        "***\n",
        "a figure\n",
        "***\n",
        "\n",
        "## Drop Out\n",
        "Dropout is conventionally used during the training phase as regularization method which is able to prevent the model from overfitting. It works by randomly setting the outgoing edges of hidden units to 0 at each update of the training phase. It is seen as a regularization method since it also pushes the weights towards zero (though randomly). In this chapter, we focus on how dropout can be used to obtain the uncertainty of inference. In https://arxiv.org/pdf/1506.02142.pdf, they pointed out doing drop out is equivalent with doing Gaussian Process Regression (GPR)\n",
        "\n",
        "\n",
        "## Calibration\n",
        "toolbox\n",
        "\n",
        "```\n",
        "# This is formatted as code\n",
        "```\n"
      ]
    },
    {
      "cell_type": "code",
      "source": [
        "import pandas as pd\n",
        "import numpy as np"
      ],
      "metadata": {
        "id": "WaoIsKD5B9GI"
      },
      "execution_count": null,
      "outputs": []
    },
    {
      "cell_type": "markdown",
      "source": [
        "## Load Data"
      ],
      "metadata": {
        "id": "K2WLNDepB-t9"
      }
    },
    {
      "cell_type": "code",
      "source": [
        "# soldata = pd.read_csv('https://dataverse.harvard.edu/api/access/datafile/3407241?format=original&gbrecs=true')\n",
        "# had to rehost because dataverse isn't reliable\n",
        "soldata = pd.read_csv(\n",
        "    \"https://github.com/whitead/dmol-book/raw/master/data/curated-solubility-dataset.csv\"\n",
        ")\n",
        "soldata.head()\n",
        "\n",
        "features_start_at = list(soldata.columns).index(\"MolWt\")\n",
        "feature_names = soldata.columns[features_start_at:]\n",
        "features = soldata.loc[:, feature_names].values\n",
        "labels = soldata.Solubility.values\n",
        "\n",
        "feature_dim = features.shape[1]\n",
        "\n",
        "# standardize features\n",
        "fstd = np.std(features, axis=0)\n",
        "fmean = np.mean(features, axis=0)\n",
        "features = (features - fmean) / fstd"
      ],
      "metadata": {
        "id": "DfTUP9HEB65Q"
      },
      "execution_count": null,
      "outputs": []
    },
    {
      "cell_type": "code",
      "source": [
        "!pip install -U dm-haiku\n",
        "!pip install distrax\n",
        "!pip install optax"
      ],
      "metadata": {
        "id": "8X4_BynFtevi"
      },
      "execution_count": null,
      "outputs": []
    },
    {
      "cell_type": "markdown",
      "source": [
        ""
      ],
      "metadata": {
        "id": "jdPQlUkbt5mD"
      }
    },
    {
      "cell_type": "code",
      "metadata": {
        "id": "cULpsQVTZyOA"
      },
      "source": [
        "# bayesian neural network\n",
        "import jax\n",
        "import jax.numpy as jnp\n",
        "import haiku as hk\n",
        "import distrax\n",
        "import optax"
      ],
      "execution_count": null,
      "outputs": []
    },
    {
      "cell_type": "markdown",
      "source": [
        "## Bayesian Neural Network\n",
        "Bayesian neural network (BNN) usually refers to neural network that is trained using Bayesian approach. It can be seen as doing regularization by adding uncertainty to network weights, or predicting using an ensemble of infinite number of networks following certain weight distribution. In a traditional neural network, weights are assigned as a single value or point estimate, whereas in a BNN, weights are considered a probability distribution. In forward steps, weights are sampled from a set of normal distributions which contains means and standard deviations for all neurons. During training, the set of distributions are updated by backpropagation using reparameterization trick. \n",
        "***\n",
        "Equation for reparameterization trick\n",
        "***\n",
        "a sketch figure\n",
        "***"
      ],
      "metadata": {
        "id": "yHlVe31BDAhc"
      }
    },
    {
      "cell_type": "code",
      "source": [
        "class BNNLayer(hk.Module):\n",
        "  \"\"\"\n",
        "    Bayesian neural network single layer\n",
        "  \"\"\"\n",
        "  def __init__(self, output_dim, name=None, prior_var=10.0):\n",
        "    super().__init__(name=name)\n",
        "    self.prior_var = prior_var\n",
        "    self.output_dim = output_dim\n",
        "\n",
        "  def __call__(self, x):\n",
        "    key = hk.next_rng_key()\n",
        "    w_key, b_key = jax.random.split(key, num=2)\n",
        "    w_mu = jnp.zeros((x.shape[-1], self.output_dim))\n",
        "    w_rho = jnp.zeros((x.shape[-1], self.output_dim))\n",
        "    b_mu = jnp.zeros(self.output_dim)\n",
        "    b_rho = jnp.zeros(self.output_dim)\n",
        "    prior = distrax.Normal(0., self.prior_var)\n",
        "    # sample weights\n",
        "    w_epsilon = jax.random.normal(key, w_mu.shape)\n",
        "    w = w_mu + jnp.log(1 + jnp.exp(w_rho)) * w_epsilon\n",
        "\n",
        "    # sample bias\n",
        "    b_epsilon = jax.random.normal(key, b_mu.shape)\n",
        "    b = b_mu + jnp.log(1 + jnp.exp(b_rho)) * b_epsilon\n",
        "\n",
        "    # record log prior by evaluating log pdf at sampled weight and bias\n",
        "    self.w_log_prior = prior.log_prob(w)\n",
        "    self.b_log_prior = prior.log_prob(b)\n",
        "    self.log_prior = jnp.sum(self.w_log_prior) + jnp.sum(self.b_log_prior)\n",
        "\n",
        "    # record log variational posterior by evaluating log pdf of normal distribution\n",
        "    self.w_post = distrax.Normal(w_mu, jnp.log(1 + jnp.exp(w_rho)))\n",
        "    self.b_post = distrax.Normal(b_mu, jnp.log(1 + jnp.exp(b_rho)))\n",
        "    self.log_post = jnp.sum(self.w_post.log_prob(w)) + jnp.sum(self.b_post.log_prob(b))\n",
        "\n",
        "    w_ = hk.get_parameter(\"w\", shape=w.shape, dtype=x.dtype, init=hk.initializers.Constant(w))\n",
        "    b_ = hk.get_parameter(\"b\", shape=b.shape, dtype=x.dtype, init=hk.initializers.Constant(b))\n",
        "    \n",
        "    return jnp.dot(x, w_) + b_"
      ],
      "metadata": {
        "id": "DB1elsVKuWwu"
      },
      "execution_count": null,
      "outputs": []
    },
    {
      "cell_type": "code",
      "source": [
        "class BNN_MLP(hk.Module):\n",
        "  def __init__(self, noise_tol=.1):\n",
        "\n",
        "    # initialize the network like you would with a standard multilayer perceptron, but using the BBB layer\n",
        "    super().__init__()\n",
        "    self.noise_tol = noise_tol\n",
        "\n",
        "  def __call__(self, x):\n",
        "    # This is equivalent to a standard multilayer perceptron\n",
        "    self.hidden = BNNLayer(32)\n",
        "    self.out = BNNLayer(1)\n",
        "    x = jax.nn.relu(self.hidden(x))\n",
        "    x = self.out(x)\n",
        "    return x\n",
        "\n",
        "def ELBO(posterior, x, y, sample_num):\n",
        "  params = distrax.Normal(posterior)\n",
        "  outputs = jnp.zeros((sample_num, y.shape[0]))\n",
        "  log_priors = jnp.zeros(sample_num)\n",
        "  log_posts = jnp.zeros(sample_num)\n",
        "  log_likes = jnp.zeros(sample_num)\n",
        "  # make predictions and calculate prior, posterior, and likelihood for a given number of samples\n",
        "  for i in range(sample_num):\n",
        "    mlp = BNN_MLP()\n",
        "    outputs = outputs.at[i].set(mlp(x).reshape(-1)) # make predictions\n",
        "    log_priors = log_priors.at[i].set(mlp.hidden.log_prior + mlp.out.log_prior) # get log prior\n",
        "    log_posts = log_posts.at[i].set(mlp.hidden.log_post + mlp.out.log_post) # get log variational posterior\n",
        "    log_likes = log_likes.at[i].set(jnp.sum(distrax.Normal(outputs[i], mlp.noise_tol).log_prob(y.reshape(-1)))) # calculate the log likelihood\n",
        "    # calculate monte carlo estimate of prior posterior and likelihood\n",
        "  log_prior = jnp.mean(log_priors)\n",
        "  log_post = jnp.mean(log_posts)\n",
        "  log_like = jnp.mean(log_likes)\n",
        "  # calculate the negative elbo (which is our loss function)\n",
        "  loss = log_post - log_prior - log_like\n",
        "  return loss\n",
        "\n",
        "  "
      ],
      "metadata": {
        "id": "qDqaj2Yc8Rve"
      },
      "execution_count": null,
      "outputs": []
    },
    {
      "cell_type": "code",
      "source": [
        "def toy_function(x):\n",
        "    return -x**4 + 3*x**2 + 1\n",
        "\n",
        "x = jnp.array([-2, -1.8, -1, 1, 1.8, 2]).reshape(-1,1)\n",
        "y = toy_function(x)\n",
        "\n",
        "elbo = hk.transform(ELBO)\n",
        "key = jax.random.PRNGKey(0)\n",
        "params = elbo.init(key, x, y, 10)\n",
        "prior = dict(\n",
        "    mu = params, \n",
        "    var = jax.tree_map(lambda x: -7 * jnp.ones_like(x), params),\n",
        ")\n",
        "\n",
        "loss_fun = elbo.apply"
      ],
      "metadata": {
        "id": "Z-ULQ1QISXzo"
      },
      "execution_count": null,
      "outputs": []
    },
    {
      "cell_type": "code",
      "source": [
        "def fit(params: optax.Params, optimizer: optax.GradientTransformation, inputs, labels, key) -> optax.Params:\n",
        "  opt_state = optimizer.init(params)\n",
        "\n",
        "  #@jax.jit\n",
        "  def step(params, opt_state, inputs, labels, key):\n",
        "    loss_value, grads = jax.value_and_grad(loss_fun)(params, key, inputs, labels, 10)\n",
        "    updates, opt_state = optimizer.update(grads, opt_state, params)\n",
        "    params = optax.apply_updates(params, updates)\n",
        "    return params, opt_state, loss_value\n",
        "\n",
        "  for epoch in range(100):\n",
        "    for i, (input, label) in enumerate(zip(inputs, labels)):\n",
        "      params, opt_state, loss_value = step(params, opt_state, inputs, labels, next(key))\n",
        "    if epoch % 10 == 0:\n",
        "      print(f'epoch {epoch}, loss: {loss_value}')\n",
        "\n",
        "  return params"
      ],
      "metadata": {
        "id": "hdlBqEH2iVOA"
      },
      "execution_count": null,
      "outputs": []
    },
    {
      "cell_type": "code",
      "source": [
        "optimizer = optax.adam(learning_rate=1e-2)\n",
        "params = fit(params, optimizer, x, y, key)"
      ],
      "metadata": {
        "colab": {
          "base_uri": "https://localhost:8080/"
        },
        "id": "Sm3opXMbxMVn",
        "outputId": "bf13ea98-30bf-4761-f6ae-3be3fbc7fa04"
      },
      "execution_count": null,
      "outputs": [
        {
          "output_type": "stream",
          "name": "stdout",
          "text": [
            "epoch 0, loss: 2371.658935546875\n",
            "epoch 10, loss: 756.49609375\n",
            "epoch 20, loss: 519.6778564453125\n",
            "epoch 30, loss: 432.0851745605469\n",
            "epoch 40, loss: 398.21881103515625\n",
            "epoch 50, loss: 382.97479248046875\n",
            "epoch 60, loss: 366.837890625\n",
            "epoch 70, loss: 353.26690673828125\n",
            "epoch 80, loss: 344.751708984375\n",
            "epoch 90, loss: 336.95013427734375\n"
          ]
        }
      ]
    },
    {
      "cell_type": "code",
      "source": [
        "def predict(net, prior, batch_image, rng, num_samples):\n",
        "  probs = []\n",
        "  for i in range(num_samples):\n",
        "    params_rng, rng = jax.random.split(rng)\n",
        "    params = distrax.Normal(prior, params_rng)\n",
        "    logits = net.apply(params, batch_image)\n",
        "    probs.append(jax.nn.softmax(logits))\n",
        "  stack_probs = jnp.stack(probs)\n",
        "  return jnp.mean(stack_probs, axis=0), jnp.std(stack_probs, axis=0)"
      ],
      "metadata": {
        "id": "pq3zmp0-XBtC"
      },
      "execution_count": null,
      "outputs": []
    },
    {
      "cell_type": "code",
      "source": [
        "import matplotlib.pyplot as plt\n",
        "key = jax.random.PRNGKey(0)\n",
        "samples = 100\n",
        "x_tmp = jnp.linspace(-5,5,100).reshape(-1,1)\n",
        "y_samp = jnp.zeros((samples,100))\n",
        "def forward(x):\n",
        "  f = BNN_MLP()\n",
        "  return f(x)\n",
        "forward_t = hk.transform(forward)\n",
        "\n",
        "for s in range(samples):\n",
        "    key, _  = jax.random.split(key, num=2)\n",
        "    y_tmp = forward_t.apply(params, key, x_tmp)\n",
        "    y_samp = y_samp.at[s].set(y_tmp.reshape(-1))\n",
        "plt.plot(x_tmp, jnp.mean(y_samp, axis = 0), label='Mean Posterior Predictive')\n",
        "print(y_samp)\n",
        "plt.fill_between(x_tmp.reshape(-1), jnp.percentile(y_samp, 2.5, axis = 0), jnp.percentile(y_samp, 97.5, axis = 0), alpha = 0.25, label='95% Confidence')\n",
        "plt.legend()\n",
        "plt.scatter(x, toy_function(x))\n",
        "plt.title('Posterior Predictive')\n",
        "plt.show()"
      ],
      "metadata": {
        "colab": {
          "base_uri": "https://localhost:8080/",
          "height": 407
        },
        "id": "fmn_c5H81XKt",
        "outputId": "529ee673-ca21-41d1-bfc9-67a3e402ca8e"
      },
      "execution_count": null,
      "outputs": [
        {
          "output_type": "stream",
          "name": "stdout",
          "text": [
            "[[-23.598137 -22.933851 -22.26957  ... -16.149801 -16.647366 -17.144932]\n",
            " [-23.598137 -22.933851 -22.26957  ... -16.149801 -16.647366 -17.144932]\n",
            " [-23.598137 -22.933851 -22.26957  ... -16.149801 -16.647366 -17.144932]\n",
            " ...\n",
            " [-23.598137 -22.933851 -22.26957  ... -16.149801 -16.647366 -17.144932]\n",
            " [-23.598137 -22.933851 -22.26957  ... -16.149801 -16.647366 -17.144932]\n",
            " [-23.598137 -22.933851 -22.26957  ... -16.149801 -16.647366 -17.144932]]\n"
          ]
        },
        {
          "output_type": "display_data",
          "data": {
            "image/png": "[encoded data removed]",
            "text/plain": [
              "<Figure size 432x288 with 1 Axes>"
            ]
          },
          "metadata": {
            "needs_background": "light"
          }
        }
      ]
    },
    {
      "cell_type": "code",
      "source": [
        "print(y_tmp)"
      ],
      "metadata": {
        "id": "OkFKk9cE5SnE"
      },
      "execution_count": null,
      "outputs": []
    },
    {
      "cell_type": "markdown",
      "source": [
        "## Ensemble learning for uncertainty estimation\n",
        "\n",
        "Another way to quantify uncertainty for deep learning models is the ensemble method. In general terms, an ensemble can be considered a learning technique where many models are joined to solve a problem. In deep learning, basically it performs uncertainty approximation by training an ensemble of models independently at the same time and collecting the outputs of different models to get their statistics. "
      ],
      "metadata": {
        "id": "DxJmUng7OZCf"
      }
    },
    {
      "cell_type": "code",
      "source": [
        "# ensemble \n",
        "class Ensembles(hk.Module):\n",
        "    def __init__(self, model_num=10, name=None):\n",
        "        super().__init__(name=name)\n",
        "        self.model_num = model_num\n",
        "\n",
        "    # x is of shape ([ensemble_num, *seqs.shape])\n",
        "    def __call__(self, x):\n",
        "        out = jnp.array(\n",
        "            [\n",
        "                hk.nets.MLP((32, 1))(x[i])\n",
        "                for i in range(self.model_num)\n",
        "            ]\n",
        "        )\n",
        "        return out.reshape(10, -1)\n",
        "\n",
        "def ensemble_forward(x):\n",
        "  f = Ensembles()\n",
        "  return f(x)\n",
        "\n",
        "ensemble_forward_t = hk.transform(ensemble_forward)\n",
        "\n",
        "def loss(params, forward, features, labels):\n",
        "  # tile the features and labels\n",
        "  key = jax.random.PRNGKey(0)\n",
        "  features_tile = jnp.tile(features, (10, 1, 1))\n",
        "  labels_tile = jnp.tile(labels, (10, 1))\n",
        "  predict = forward.apply(params, key, features_tile)\n",
        "  mse = jnp.mean((predict - labels_tile) ** 2)\n",
        "  return mse"
      ],
      "metadata": {
        "id": "ooegif8yuuGD"
      },
      "execution_count": null,
      "outputs": []
    },
    {
      "cell_type": "code",
      "source": [
        "def fit(params: optax.Params, optimizer: optax.GradientTransformation, inputs, labels) -> optax.Params:\n",
        "  opt_state = optimizer.init(params)\n",
        "\n",
        "  @jax.jit\n",
        "  def step(params, opt_state, inputs, labels):\n",
        "    loss_value, grads = jax.value_and_grad(loss)(params, ensemble_forward_t, inputs, labels)\n",
        "    updates, opt_state = optimizer.update(grads, opt_state, params)\n",
        "    params = optax.apply_updates(params, updates)\n",
        "    return params, opt_state, loss_value\n",
        "\n",
        "  for epoch in range(10):\n",
        "    for i, (input, label) in enumerate(zip(inputs, labels)):\n",
        "      params, opt_state, loss_value = step(params, opt_state, inputs, labels)\n",
        "    if epoch % 1 == 0:\n",
        "      print(f'epoch {epoch}, loss: {loss_value}')\n",
        "\n",
        "  return params"
      ],
      "metadata": {
        "id": "4eZGRi0y9X7A"
      },
      "execution_count": null,
      "outputs": []
    },
    {
      "cell_type": "code",
      "source": [
        "params = ensemble_forward_t.init(jax.random.PRNGKey(0), jnp.tile(features, (10, 1, 1))) # initialize params\n",
        "params = fit(params, optax.adam(learning_rate=1e-1), features[:1024], labels[:1024])"
      ],
      "metadata": {
        "id": "pGzB43daqXfQ"
      },
      "execution_count": null,
      "outputs": []
    },
    {
      "cell_type": "code",
      "source": [
        "feature_tile = jnp.tile(features[:1024], (10, 1, 1))\n",
        "predicts = ensemble_forward_t.apply(params, key, feature_tile)\n",
        "predicts_mean = jnp.mean(predicts, axis=0)\n",
        "predicts_std = jnp.std(predicts, axis=0)"
      ],
      "metadata": {
        "id": "y36c6UUd_U0n"
      },
      "execution_count": null,
      "outputs": []
    },
    {
      "cell_type": "code",
      "source": [
        "import matplotlib.pyplot as plt\n",
        "print(predicts_mean.shape)\n",
        "print(predicts_std.shape)\n",
        "plt.scatter(labels[:1024], predicts_mean, alpha=0.2)\n",
        "plt.errorbar(labels[:1024], predicts_mean, predicts_std, alpha=0.2, ls='none')"
      ],
      "metadata": {
        "colab": {
          "base_uri": "https://localhost:8080/",
          "height": 318
        },
        "id": "qN9YRQhcVaUk",
        "outputId": "fc37e8dc-5f01-4925-cf02-48ed52b4f0bb"
      },
      "execution_count": 64,
      "outputs": [
        {
          "output_type": "stream",
          "name": "stdout",
          "text": [
            "(1024,)\n",
            "(1024,)\n"
          ]
        },
        {
          "output_type": "execute_result",
          "data": {
            "text/plain": [
              "<ErrorbarContainer object of 3 artists>"
            ]
          },
          "metadata": {},
          "execution_count": 64
        },
        {
          "output_type": "display_data",
          "data": {
            "image/png": "[encoded data removed]",
            "text/plain": [
              "<Figure size 432x288 with 1 Axes>"
            ]
          },
          "metadata": {
            "needs_background": "light"
          }
        }
      ]
    },
    {
      "cell_type": "markdown",
      "source": [
        "## Calibration\n",
        "\n",
        "uncertainty tool-box : https://github.com/uncertainty-toolbox/uncertainty-toolbox"
      ],
      "metadata": {
        "id": "ogkGC3cCuhZO"
      }
    },
    {
      "cell_type": "code",
      "source": [
        ""
      ],
      "metadata": {
        "id": "KTTvzKENujoS"
      },
      "execution_count": null,
      "outputs": []
    }
  ]
}